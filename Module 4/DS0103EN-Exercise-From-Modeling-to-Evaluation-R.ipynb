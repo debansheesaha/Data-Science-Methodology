{
 "cells": [
  {
   "cell_type": "markdown",
   "metadata": {
    "button": false,
    "deletable": true,
    "editable": true,
    "new_sheet": false,
    "run_control": {
     "read_only": false
    }
   },
   "source": [
    "<a href=\"https://cognitiveclass.ai\"><img src = \"https://ibm.box.com/shared/static/9gegpsmnsoo25ikkbl4qzlvlyjbgxs5x.png\" width = 400> </a>\n",
    "\n",
    "<h1 align=center><font size = 5>From Modeling to Evaluation</font></h1>"
   ]
  },
  {
   "cell_type": "markdown",
   "metadata": {
    "button": false,
    "deletable": true,
    "new_sheet": false,
    "run_control": {
     "read_only": false
    }
   },
   "source": [
    "## Introduction\n",
    "\n",
    "In this lab, we will continue learning about the data science methodology, and focus on the **Modeling** and **Evaluation** stages.\n",
    "\n",
    "------------"
   ]
  },
  {
   "cell_type": "markdown",
   "metadata": {
    "button": false,
    "deletable": true,
    "new_sheet": false,
    "run_control": {
     "read_only": false
    }
   },
   "source": [
    "## Table of Contents\n",
    "\n",
    "\n",
    "<div class=\"alert alert-block alert-info\" style=\"margin-top: 20px\">\n",
    "\n",
    "1. [Recap](#0)<br>\n",
    "2. [Data Modeling](#2)<br>\n",
    "3. [Model Evaluation](#4)<br>\n",
    "</div>\n",
    "<hr>"
   ]
  },
  {
   "cell_type": "markdown",
   "metadata": {
    "button": false,
    "deletable": true,
    "new_sheet": false,
    "run_control": {
     "read_only": false
    }
   },
   "source": [
    "# Recap <a id=\"0\"></a>\n",
    "\n",
    "In Lab **From Understanding to Preparation**, we explored the data and prepared it for modeling."
   ]
  },
  {
   "cell_type": "markdown",
   "metadata": {
    "button": false,
    "deletable": true,
    "new_sheet": false,
    "run_control": {
     "read_only": false
    }
   },
   "source": [
    "The data was compiled by a researcher named Yong-Yeol Ahn, who scraped tens of thousands of food recipes (cuisines and ingredients) from three different websites, namely:"
   ]
  },
  {
   "cell_type": "markdown",
   "metadata": {
    "button": false,
    "deletable": true,
    "new_sheet": false,
    "run_control": {
     "read_only": false
    }
   },
   "source": [
    "<img src=\"https://s3-api.us-geo.objectstorage.softlayer.net/cf-courses-data/CognitiveClass/DS0103EN/labs/images/lab4_fig1_allrecipes.png\" width=500>\n",
    "\n",
    "www.allrecipes.com\n",
    "\n",
    "<img src=\"https://s3-api.us-geo.objectstorage.softlayer.net/cf-courses-data/CognitiveClass/DS0103EN/labs/images/lab4_fig2_epicurious.png\" width=500>\n",
    "\n",
    "www.epicurious.com\n",
    "\n",
    "<img src=\"https://s3-api.us-geo.objectstorage.softlayer.net/cf-courses-data/CognitiveClass/DS0103EN/labs/images/lab4_fig3_menupan.png\" width=500>\n",
    "\n",
    "www.menupan.com"
   ]
  },
  {
   "cell_type": "markdown",
   "metadata": {
    "button": false,
    "deletable": true,
    "new_sheet": false,
    "run_control": {
     "read_only": false
    }
   },
   "source": [
    "For more information on Yong-Yeol Ahn and his research, you can read his paper on [Flavor Network and the Principles of Food Pairing](http://yongyeol.com/papers/ahn-flavornet-2011.pdf)."
   ]
  },
  {
   "cell_type": "markdown",
   "metadata": {
    "button": false,
    "deletable": true,
    "new_sheet": false,
    "run_control": {
     "read_only": false
    }
   },
   "source": [
    "<strong> Important note:</strong> Please note that you are not expected to know how to program in R. This lab is meant to illustrate the stages of modeling and evaluation of the data science methodology, so it is totally fine if you do not understand the individual lines of code. We have a full course on programming in R, <a href=\"http://cocl.us/RP0101EN_DS0103EN_LAB4_R\">R101</a>, so please feel free to complete the course if you are interested in learning how to program in R."
   ]
  },
  {
   "cell_type": "markdown",
   "metadata": {
    "button": false,
    "deletable": true,
    "new_sheet": false,
    "run_control": {
     "read_only": false
    }
   },
   "source": [
    "### Using this notebook:\n",
    "\n",
    "To run any of the following cells of code, you can type **Shift + Enter** to excute the code in a cell."
   ]
  },
  {
   "cell_type": "markdown",
   "metadata": {
    "button": false,
    "deletable": true,
    "new_sheet": false,
    "run_control": {
     "read_only": false
    }
   },
   "source": [
    "We already placed the data on an IBM server for your convenience, so let's download it from server and read it into a dataframe called **recipes**."
   ]
  },
  {
   "cell_type": "code",
   "execution_count": 1,
   "metadata": {
    "button": false,
    "deletable": true,
    "new_sheet": false,
    "run_control": {
     "read_only": false
    }
   },
   "outputs": [],
   "source": [
    "# click here and press Shift + Enter\n",
    "download.file(\"https://s3-api.us-geo.objectstorage.softlayer.net/cf-courses-data/CognitiveClass/DS0103EN/labs/data/recipes.csv\",\n",
    "              destfile = \"/resources/data/recipes.csv\", quiet = TRUE)\n",
    "\n",
    "recipes <- read.csv(\"/resources/data/recipes.csv\") # takes 30 seconds"
   ]
  },
  {
   "cell_type": "markdown",
   "metadata": {
    "button": false,
    "deletable": true,
    "new_sheet": false,
    "run_control": {
     "read_only": false
    }
   },
   "source": [
    "We will repeat the preprocessing steps that we implemented in Lab **From Understanding to Preparation** in order to prepare the data for modeling. For more details on preparing the data, please refer to Lab **From Understanding to Preparation**."
   ]
  },
  {
   "cell_type": "code",
   "execution_count": 2,
   "metadata": {
    "button": false,
    "collapsed": false,
    "deletable": true,
    "jupyter": {
     "outputs_hidden": false
    },
    "new_sheet": false,
    "run_control": {
     "read_only": false
    }
   },
   "outputs": [
    {
     "data": {
      "text/plain": [
       "\n",
       "               american                 italian                 mexican \n",
       "                  40150                    3250                    2390 \n",
       "                 french                   asian              east_asian \n",
       "                   1264                    1193                     951 \n",
       "                 korean                canadian                  indian \n",
       "                    799                     774                     598 \n",
       "                western                 chinese      spanish_portuguese \n",
       "                    450                     442                     416 \n",
       "           uk-and-irish       southern_soulfood                  jewish \n",
       "                    368                     346                     329 \n",
       "               japanese                  german           mediterranean \n",
       "                    320                     289                     289 \n",
       "                   thai            scandinavian           middleeastern \n",
       "                    289                     250                     248 \n",
       "  central_southamerican          eastern-europe                   greek \n",
       "                    241                     235                     225 \n",
       "       english_scottish               caribbean            cajun_creole \n",
       "                    204                     183                     146 \n",
       "easterneuropean_russian                moroccan                 african \n",
       "                    146                     137                     115 \n",
       "           southwestern           south-america              vietnamese \n",
       "                    108                     103                      95 \n",
       "          north-african \n",
       "                     60 "
      ]
     },
     "metadata": {},
     "output_type": "display_data"
    }
   ],
   "source": [
    "# fix name of the column displaying the cuisine\n",
    "colnames(recipes)[1] = \"cuisine\"\n",
    "\n",
    "# convert cuisine names to lower case\n",
    "recipes$cuisine <- tolower(as.character(recipes$cuisine)) \n",
    "\n",
    "# make the cuisine names consistent\n",
    "recipes$cuisine[recipes$cuisine == \"austria\"] <- \"austrian\"\n",
    "recipes$cuisine[recipes$cuisine == \"belgium\"] <- \"belgian\"\n",
    "recipes$cuisine[recipes$cuisine == \"china\"] <- \"chinese\"\n",
    "recipes$cuisine[recipes$cuisine == \"canada\"] <- \"canadian\"\n",
    "recipes$cuisine[recipes$cuisine == \"netherlands\"] <- \"dutch\"\n",
    "recipes$cuisine[recipes$cuisine == \"france\"] <- \"french\"\n",
    "recipes$cuisine[recipes$cuisine == \"germany\"] <- \"german\"\n",
    "recipes$cuisine[recipes$cuisine == \"india\"] <- \"indian\"\n",
    "recipes$cuisine[recipes$cuisine == \"indonesia\"] <- \"indonesian\"\n",
    "recipes$cuisine[recipes$cuisine == \"iran\"] <- \"iranian\"\n",
    "recipes$cuisine[recipes$cuisine == \"israel\"] <- \"jewish\"\n",
    "recipes$cuisine[recipes$cuisine == \"italy\"] <- \"italian\"\n",
    "recipes$cuisine[recipes$cuisine == \"japan\"] <- \"japanese\"\n",
    "recipes$cuisine[recipes$cuisine == \"korea\"] <- \"korean\"\n",
    "recipes$cuisine[recipes$cuisine == \"lebanon\"] <- \"lebanese\"\n",
    "recipes$cuisine[recipes$cuisine == \"malaysia\"] <- \"malaysian\"\n",
    "recipes$cuisine[recipes$cuisine == \"mexico\"] <- \"mexican\"\n",
    "recipes$cuisine[recipes$cuisine == \"pakistan\"] <- \"pakistani\"\n",
    "recipes$cuisine[recipes$cuisine == \"philippines\"] <- \"philippine\"\n",
    "recipes$cuisine[recipes$cuisine == \"scandinavia\"] <- \"scandinavian\"\n",
    "recipes$cuisine[recipes$cuisine == \"spain\"] <- \"spanish_portuguese\"\n",
    "recipes$cuisine[recipes$cuisine == \"portugal\"] <- \"spanish_portuguese\"\n",
    "recipes$cuisine[recipes$cuisine == \"switzerland\"] <- \"swiss\"\n",
    "recipes$cuisine[recipes$cuisine == \"thailand\"] <- \"thai\"\n",
    "recipes$cuisine[recipes$cuisine == \"turkey\"] <- \"turkish\"\n",
    "recipes$cuisine[recipes$cuisine == \"irish\"] <- \"uk-and-irish\"\n",
    "recipes$cuisine[recipes$cuisine == \"uk-and-ireland\"] <- \"uk-and-irish\"\n",
    "recipes$cuisine[recipes$cuisine == \"vietnam\"] <- \"vietnamese\"\n",
    "\n",
    "# remove data for cuisines with < 50 recipes:\n",
    "t <- sort(base::table(recipes$cuisine), decreasing = T)\n",
    "filter_list <- names( t[ t >= 50 ] )\n",
    "recipes <- recipes[recipes$cuisine %in% filter_list, ]\n",
    "recipes$cuisine <- as.factor(as.character(recipes$cuisine))\n",
    "sort(base::table(recipes$cuisine), decreasing = T)\n",
    "\n",
    "# convert all of the columns into factors (to run the classification model later)\n",
    "recipes[,names(recipes)] <- lapply(recipes[,names(recipes)] , as.factor)"
   ]
  },
  {
   "cell_type": "markdown",
   "metadata": {
    "button": false,
    "deletable": true,
    "editable": true,
    "new_sheet": false,
    "run_control": {
     "read_only": false
    }
   },
   "source": [
    "<hr>"
   ]
  },
  {
   "cell_type": "markdown",
   "metadata": {
    "button": false,
    "deletable": true,
    "editable": true,
    "new_sheet": false,
    "run_control": {
     "read_only": false
    }
   },
   "source": [
    "# Data Modeling <a id=\"2\"></a>"
   ]
  },
  {
   "cell_type": "markdown",
   "metadata": {
    "button": false,
    "deletable": true,
    "new_sheet": false,
    "run_control": {
     "read_only": false
    }
   },
   "source": [
    "<img src=\"https://s3-api.us-geo.objectstorage.softlayer.net/cf-courses-data/CognitiveClass/DS0103EN/labs/images/lab4_fig4_flowchart_data_modeling.png\" width=500>"
   ]
  },
  {
   "cell_type": "markdown",
   "metadata": {
    "button": false,
    "deletable": true,
    "new_sheet": false,
    "run_control": {
     "read_only": false
    }
   },
   "source": [
    "Let's start by importing and installing the R libraries relevant to decision trees"
   ]
  },
  {
   "cell_type": "code",
   "execution_count": 3,
   "metadata": {
    "button": false,
    "collapsed": false,
    "deletable": true,
    "editable": true,
    "jupyter": {
     "outputs_hidden": false
    },
    "new_sheet": false,
    "run_control": {
     "read_only": false
    }
   },
   "outputs": [
    {
     "name": "stdout",
     "output_type": "stream",
     "text": [
      "[1] \"Libraries loaded!\"\n"
     ]
    }
   ],
   "source": [
    "# load libraries\n",
    "library(rpart)\n",
    "\n",
    "if(\"rpart.plot\" %in% rownames(installed.packages()) == FALSE) {install.packages(\"rpart.plot\", \n",
    "    repo = \"http://mirror.las.iastate.edu/CRAN/\")}\n",
    "library(rpart.plot)\n",
    "\n",
    "print(\"Libraries loaded!\")"
   ]
  },
  {
   "cell_type": "markdown",
   "metadata": {
    "button": false,
    "deletable": true,
    "editable": true,
    "new_sheet": false,
    "run_control": {
     "read_only": false
    }
   },
   "source": [
    "Check the data again!"
   ]
  },
  {
   "cell_type": "code",
   "execution_count": 4,
   "metadata": {
    "button": false,
    "collapsed": false,
    "deletable": true,
    "editable": true,
    "jupyter": {
     "outputs_hidden": false
    },
    "new_sheet": false,
    "run_control": {
     "read_only": false
    }
   },
   "outputs": [
    {
     "data": {
      "text/html": [
       "<table>\n",
       "<caption>A data.frame: 6 × 384</caption>\n",
       "<thead>\n",
       "\t<tr><th></th><th scope=col>cuisine</th><th scope=col>almond</th><th scope=col>angelica</th><th scope=col>anise</th><th scope=col>anise_seed</th><th scope=col>apple</th><th scope=col>apple_brandy</th><th scope=col>apricot</th><th scope=col>armagnac</th><th scope=col>artemisia</th><th scope=col>⋯</th><th scope=col>whiskey</th><th scope=col>white_bread</th><th scope=col>white_wine</th><th scope=col>whole_grain_wheat_flour</th><th scope=col>wine</th><th scope=col>wood</th><th scope=col>yam</th><th scope=col>yeast</th><th scope=col>yogurt</th><th scope=col>zucchini</th></tr>\n",
       "\t<tr><th></th><th scope=col>&lt;fct&gt;</th><th scope=col>&lt;fct&gt;</th><th scope=col>&lt;fct&gt;</th><th scope=col>&lt;fct&gt;</th><th scope=col>&lt;fct&gt;</th><th scope=col>&lt;fct&gt;</th><th scope=col>&lt;fct&gt;</th><th scope=col>&lt;fct&gt;</th><th scope=col>&lt;fct&gt;</th><th scope=col>&lt;fct&gt;</th><th scope=col>⋯</th><th scope=col>&lt;fct&gt;</th><th scope=col>&lt;fct&gt;</th><th scope=col>&lt;fct&gt;</th><th scope=col>&lt;fct&gt;</th><th scope=col>&lt;fct&gt;</th><th scope=col>&lt;fct&gt;</th><th scope=col>&lt;fct&gt;</th><th scope=col>&lt;fct&gt;</th><th scope=col>&lt;fct&gt;</th><th scope=col>&lt;fct&gt;</th></tr>\n",
       "</thead>\n",
       "<tbody>\n",
       "\t<tr><th scope=row>1</th><td>vietnamese</td><td>No</td><td>No</td><td>No</td><td>No</td><td>No</td><td>No</td><td>No</td><td>No</td><td>No</td><td>⋯</td><td>No</td><td>No</td><td>No</td><td>No</td><td>No</td><td>No</td><td>No</td><td>No</td><td>No</td><td>No</td></tr>\n",
       "\t<tr><th scope=row>2</th><td>vietnamese</td><td>No</td><td>No</td><td>No</td><td>No</td><td>No</td><td>No</td><td>No</td><td>No</td><td>No</td><td>⋯</td><td>No</td><td>No</td><td>No</td><td>No</td><td>No</td><td>No</td><td>No</td><td>No</td><td>No</td><td>No</td></tr>\n",
       "\t<tr><th scope=row>3</th><td>vietnamese</td><td>No</td><td>No</td><td>No</td><td>No</td><td>No</td><td>No</td><td>No</td><td>No</td><td>No</td><td>⋯</td><td>No</td><td>No</td><td>No</td><td>No</td><td>No</td><td>No</td><td>No</td><td>No</td><td>No</td><td>No</td></tr>\n",
       "\t<tr><th scope=row>4</th><td>vietnamese</td><td>No</td><td>No</td><td>No</td><td>No</td><td>No</td><td>No</td><td>No</td><td>No</td><td>No</td><td>⋯</td><td>No</td><td>No</td><td>No</td><td>No</td><td>No</td><td>No</td><td>No</td><td>No</td><td>No</td><td>No</td></tr>\n",
       "\t<tr><th scope=row>5</th><td>vietnamese</td><td>No</td><td>No</td><td>No</td><td>No</td><td>No</td><td>No</td><td>No</td><td>No</td><td>No</td><td>⋯</td><td>No</td><td>No</td><td>No</td><td>No</td><td>No</td><td>No</td><td>No</td><td>No</td><td>No</td><td>No</td></tr>\n",
       "\t<tr><th scope=row>6</th><td>vietnamese</td><td>No</td><td>No</td><td>No</td><td>No</td><td>No</td><td>No</td><td>No</td><td>No</td><td>No</td><td>⋯</td><td>No</td><td>No</td><td>No</td><td>No</td><td>No</td><td>No</td><td>No</td><td>No</td><td>No</td><td>No</td></tr>\n",
       "</tbody>\n",
       "</table>\n"
      ],
      "text/latex": [
       "A data.frame: 6 × 384\n",
       "\\begin{tabular}{r|lllllllllllllllllllll}\n",
       "  & cuisine & almond & angelica & anise & anise\\_seed & apple & apple\\_brandy & apricot & armagnac & artemisia & ⋯ & whiskey & white\\_bread & white\\_wine & whole\\_grain\\_wheat\\_flour & wine & wood & yam & yeast & yogurt & zucchini\\\\\n",
       "  & <fct> & <fct> & <fct> & <fct> & <fct> & <fct> & <fct> & <fct> & <fct> & <fct> & ⋯ & <fct> & <fct> & <fct> & <fct> & <fct> & <fct> & <fct> & <fct> & <fct> & <fct>\\\\\n",
       "\\hline\n",
       "\t1 & vietnamese & No & No & No & No & No & No & No & No & No & ⋯ & No & No & No & No & No & No & No & No & No & No\\\\\n",
       "\t2 & vietnamese & No & No & No & No & No & No & No & No & No & ⋯ & No & No & No & No & No & No & No & No & No & No\\\\\n",
       "\t3 & vietnamese & No & No & No & No & No & No & No & No & No & ⋯ & No & No & No & No & No & No & No & No & No & No\\\\\n",
       "\t4 & vietnamese & No & No & No & No & No & No & No & No & No & ⋯ & No & No & No & No & No & No & No & No & No & No\\\\\n",
       "\t5 & vietnamese & No & No & No & No & No & No & No & No & No & ⋯ & No & No & No & No & No & No & No & No & No & No\\\\\n",
       "\t6 & vietnamese & No & No & No & No & No & No & No & No & No & ⋯ & No & No & No & No & No & No & No & No & No & No\\\\\n",
       "\\end{tabular}\n"
      ],
      "text/markdown": [
       "\n",
       "A data.frame: 6 × 384\n",
       "\n",
       "| <!--/--> | cuisine &lt;fct&gt; | almond &lt;fct&gt; | angelica &lt;fct&gt; | anise &lt;fct&gt; | anise_seed &lt;fct&gt; | apple &lt;fct&gt; | apple_brandy &lt;fct&gt; | apricot &lt;fct&gt; | armagnac &lt;fct&gt; | artemisia &lt;fct&gt; | ⋯ ⋯ | whiskey &lt;fct&gt; | white_bread &lt;fct&gt; | white_wine &lt;fct&gt; | whole_grain_wheat_flour &lt;fct&gt; | wine &lt;fct&gt; | wood &lt;fct&gt; | yam &lt;fct&gt; | yeast &lt;fct&gt; | yogurt &lt;fct&gt; | zucchini &lt;fct&gt; |\n",
       "|---|---|---|---|---|---|---|---|---|---|---|---|---|---|---|---|---|---|---|---|---|---|\n",
       "| 1 | vietnamese | No | No | No | No | No | No | No | No | No | ⋯ | No | No | No | No | No | No | No | No | No | No |\n",
       "| 2 | vietnamese | No | No | No | No | No | No | No | No | No | ⋯ | No | No | No | No | No | No | No | No | No | No |\n",
       "| 3 | vietnamese | No | No | No | No | No | No | No | No | No | ⋯ | No | No | No | No | No | No | No | No | No | No |\n",
       "| 4 | vietnamese | No | No | No | No | No | No | No | No | No | ⋯ | No | No | No | No | No | No | No | No | No | No |\n",
       "| 5 | vietnamese | No | No | No | No | No | No | No | No | No | ⋯ | No | No | No | No | No | No | No | No | No | No |\n",
       "| 6 | vietnamese | No | No | No | No | No | No | No | No | No | ⋯ | No | No | No | No | No | No | No | No | No | No |\n",
       "\n"
      ],
      "text/plain": [
       "  cuisine    almond angelica anise anise_seed apple apple_brandy apricot\n",
       "1 vietnamese No     No       No    No         No    No           No     \n",
       "2 vietnamese No     No       No    No         No    No           No     \n",
       "3 vietnamese No     No       No    No         No    No           No     \n",
       "4 vietnamese No     No       No    No         No    No           No     \n",
       "5 vietnamese No     No       No    No         No    No           No     \n",
       "6 vietnamese No     No       No    No         No    No           No     \n",
       "  armagnac artemisia ⋯ whiskey white_bread white_wine whole_grain_wheat_flour\n",
       "1 No       No        ⋯ No      No          No         No                     \n",
       "2 No       No        ⋯ No      No          No         No                     \n",
       "3 No       No        ⋯ No      No          No         No                     \n",
       "4 No       No        ⋯ No      No          No         No                     \n",
       "5 No       No        ⋯ No      No          No         No                     \n",
       "6 No       No        ⋯ No      No          No         No                     \n",
       "  wine wood yam yeast yogurt zucchini\n",
       "1 No   No   No  No    No     No      \n",
       "2 No   No   No  No    No     No      \n",
       "3 No   No   No  No    No     No      \n",
       "4 No   No   No  No    No     No      \n",
       "5 No   No   No  No    No     No      \n",
       "6 No   No   No  No    No     No      "
      ]
     },
     "metadata": {},
     "output_type": "display_data"
    }
   ],
   "source": [
    "head(recipes)"
   ]
  },
  {
   "cell_type": "markdown",
   "metadata": {
    "button": false,
    "deletable": true,
    "editable": true,
    "new_sheet": false,
    "run_control": {
     "read_only": false
    }
   },
   "source": [
    "## [bamboo_tree] Only Asian and Indian Cuisines\n",
    "\n",
    "Here, we are creating a decision tree for the recipes for just some of the Asian (Korean, Japanese, Chinese, Thai) and Indian cuisines. The reason for this is because the decision tree does not run well when the data is biased towards one cuisine, in this case American cuisines. One option is to exclude the American cuisines from our analysis or just build decision trees for different subsets of the data. Let's go with the latter solution."
   ]
  },
  {
   "cell_type": "markdown",
   "metadata": {
    "button": false,
    "deletable": true,
    "editable": true,
    "new_sheet": false,
    "run_control": {
     "read_only": false
    }
   },
   "source": [
    "Let's build our decision tree using the data pertaining to the Asian and Indian cuisines and name our decision tree *bamboo_tree*."
   ]
  },
  {
   "cell_type": "code",
   "execution_count": 5,
   "metadata": {
    "button": false,
    "collapsed": false,
    "deletable": true,
    "editable": true,
    "jupyter": {
     "outputs_hidden": false
    },
    "new_sheet": false,
    "run_control": {
     "read_only": false
    }
   },
   "outputs": [
    {
     "name": "stdout",
     "output_type": "stream",
     "text": [
      "[1] \"Decision tree model saved to bamboo_tree!\"\n"
     ]
    }
   ],
   "source": [
    "# select subset of cuisines\n",
    "cuisines_to_keep = c(\"korean\", \"japanese\", \"chinese\", \"thai\", \"indian\")\n",
    "cuisines_data <- recipes[recipes$cuisine %in% cuisines_to_keep, ]\n",
    "cuisines_data$cuisine <- as.factor(as.character(cuisines_data$cuisine))\n",
    "\n",
    "bamboo_tree <- rpart(formula=cuisine ~ ., data=cuisines_data, method =\"class\")\n",
    "\n",
    "print(\"Decision tree model saved to bamboo_tree!\")"
   ]
  },
  {
   "cell_type": "markdown",
   "metadata": {
    "button": false,
    "deletable": true,
    "editable": true,
    "new_sheet": false,
    "run_control": {
     "read_only": false
    }
   },
   "source": [
    "Let's plot the decision tree and examine how it looks like."
   ]
  },
  {
   "cell_type": "code",
   "execution_count": 6,
   "metadata": {
    "button": false,
    "collapsed": false,
    "deletable": true,
    "editable": true,
    "jupyter": {
     "outputs_hidden": false
    },
    "new_sheet": false,
    "run_control": {
     "read_only": false
    }
   },
   "outputs": [
    {
     "data": {
      "image/png": "[encoded data removed]",
      "text/plain": [
       "plot without title"
      ]
     },
     "metadata": {},
     "output_type": "display_data",
     "source": "R display func"
    }
   ],
   "source": [
    "# plot bamboo_tree\n",
    "rpart.plot(bamboo_tree, type=3, extra=2, under=TRUE, cex=0.75, varlen=0, faclen=0, Margin=0.03)"
   ]
  },
  {
   "cell_type": "markdown",
   "metadata": {
    "button": false,
    "deletable": true,
    "editable": true,
    "new_sheet": false,
    "run_control": {
     "read_only": false
    }
   },
   "source": [
    "According to the above decision tree:\n",
    "* If a recipe contains *cumin* and *fish*, then it is most likely a **Thai** recipe.\n",
    "* If a recipe contains *cumin* but no *fish*, then it is most likely an **Indian** recipe.\n",
    "* If a recipe does not contain *cumin* and contains *roasted_sesame_seed*, then it is most likely a **Korean** recipe."
   ]
  },
  {
   "cell_type": "markdown",
   "metadata": {
    "button": false,
    "deletable": true,
    "new_sheet": false,
    "run_control": {
     "read_only": false
    }
   },
   "source": [
    "You can analyze the remaining branches of the tree to come up with similar rules for determining the cuisine of different recipes. "
   ]
  },
  {
   "cell_type": "markdown",
   "metadata": {
    "button": false,
    "deletable": true,
    "new_sheet": false,
    "run_control": {
     "read_only": false
    }
   },
   "source": [
    "Feel free to select another subset of cuisines and build a decision tree of their recipes. You can select some European cuisines and build a decision tree to explore the ingredients that differentiate them."
   ]
  },
  {
   "cell_type": "markdown",
   "metadata": {
    "button": false,
    "deletable": true,
    "editable": true,
    "new_sheet": false,
    "run_control": {
     "read_only": false
    }
   },
   "source": [
    "# Model Evaluation <a id=\"4\"></a>"
   ]
  },
  {
   "cell_type": "markdown",
   "metadata": {
    "button": false,
    "deletable": true,
    "new_sheet": false,
    "run_control": {
     "read_only": false
    }
   },
   "source": [
    "<img src=\"https://s3-api.us-geo.objectstorage.softlayer.net/cf-courses-data/CognitiveClass/DS0103EN/labs/images/lab4_fig5_flowchart_evaluation.png\" width=500>"
   ]
  },
  {
   "cell_type": "markdown",
   "metadata": {
    "button": false,
    "deletable": true,
    "new_sheet": false,
    "run_control": {
     "read_only": false
    }
   },
   "source": [
    "To evaluate our model of Asian and Indian cuisines, we will split our dataset into a training set and a test set. We will build the decision tree using the training set. Then, we will test the model on the test set and compare the cuisines that the model predicts to the actual cuisines. "
   ]
  },
  {
   "cell_type": "markdown",
   "metadata": {
    "button": false,
    "deletable": true,
    "editable": true,
    "new_sheet": false,
    "run_control": {
     "read_only": false
    }
   },
   "source": [
    "Let's first create a new dataframe using only the data pertaining to the Asian and Indian cuisines, and let's call the new dataframe **bamboo**."
   ]
  },
  {
   "cell_type": "code",
   "execution_count": 7,
   "metadata": {
    "button": false,
    "collapsed": false,
    "deletable": true,
    "editable": true,
    "jupyter": {
     "outputs_hidden": false
    },
    "new_sheet": false,
    "run_control": {
     "read_only": false
    }
   },
   "outputs": [],
   "source": [
    "bamboo <- recipes[recipes$cuisine %in% c(\"korean\", \"japanese\", \"chinese\", \"thai\", \"indian\"),]"
   ]
  },
  {
   "cell_type": "markdown",
   "metadata": {
    "button": false,
    "deletable": true,
    "editable": true,
    "new_sheet": false,
    "run_control": {
     "read_only": false
    }
   },
   "source": [
    "Let's see how many recipes exist for each cuisine."
   ]
  },
  {
   "cell_type": "code",
   "execution_count": 8,
   "metadata": {
    "button": false,
    "collapsed": false,
    "deletable": true,
    "editable": true,
    "jupyter": {
     "outputs_hidden": false
    },
    "new_sheet": false,
    "run_control": {
     "read_only": false
    }
   },
   "outputs": [
    {
     "data": {
      "text/plain": [
       "\n",
       " chinese   indian japanese   korean     thai \n",
       "     442      598      320      799      289 "
      ]
     },
     "metadata": {},
     "output_type": "display_data"
    }
   ],
   "source": [
    "base::table(as.factor(as.character(bamboo$cuisine)))"
   ]
  },
  {
   "cell_type": "markdown",
   "metadata": {
    "button": false,
    "deletable": true,
    "editable": true,
    "new_sheet": false,
    "run_control": {
     "read_only": false
    }
   },
   "source": [
    "Let's remove 30 recipes from each cuisine to use as the test set, and let's name this set **bamboo_test**."
   ]
  },
  {
   "cell_type": "code",
   "execution_count": 9,
   "metadata": {
    "button": false,
    "collapsed": false,
    "deletable": true,
    "editable": true,
    "jupyter": {
     "outputs_hidden": false
    },
    "new_sheet": false,
    "run_control": {
     "read_only": false
    }
   },
   "outputs": [],
   "source": [
    "# set sample size\n",
    "sample_n <- 30"
   ]
  },
  {
   "cell_type": "markdown",
   "metadata": {
    "button": false,
    "deletable": true,
    "editable": true,
    "new_sheet": false,
    "run_control": {
     "read_only": false
    }
   },
   "source": [
    "Create a dataframe containing 30 recipes from each cuisine, selected randomly."
   ]
  },
  {
   "cell_type": "code",
   "execution_count": 10,
   "metadata": {
    "button": false,
    "collapsed": false,
    "deletable": true,
    "editable": true,
    "jupyter": {
     "outputs_hidden": false
    },
    "new_sheet": false,
    "run_control": {
     "read_only": false
    }
   },
   "outputs": [],
   "source": [
    "# take 30 recipes from each cuisine\n",
    "set.seed(4) # set random seed\n",
    "korean <- bamboo[base::sample(which(bamboo$cuisine == \"korean\") , sample_n), ]\n",
    "japanese <- bamboo[base::sample(which(bamboo$cuisine == \"japanese\") , sample_n), ]\n",
    "chinese <- bamboo[base::sample(which(bamboo$cuisine == \"chinese\") , sample_n), ]\n",
    "thai <- bamboo[base::sample(which(bamboo$cuisine == \"thai\") , sample_n), ]\n",
    "indian <- bamboo[base::sample(which(bamboo$cuisine == \"indian\") , sample_n), ]\n",
    "\n",
    "# create the dataframe\n",
    "bamboo_test <- rbind(korean, japanese, chinese, thai, indian)"
   ]
  },
  {
   "cell_type": "markdown",
   "metadata": {
    "button": false,
    "deletable": true,
    "editable": true,
    "new_sheet": false,
    "run_control": {
     "read_only": false
    }
   },
   "source": [
    "Check that there are 30 recipes for each cuisine."
   ]
  },
  {
   "cell_type": "code",
   "execution_count": 11,
   "metadata": {
    "button": false,
    "collapsed": false,
    "deletable": true,
    "editable": true,
    "jupyter": {
     "outputs_hidden": false
    },
    "new_sheet": false,
    "run_control": {
     "read_only": false
    }
   },
   "outputs": [
    {
     "data": {
      "text/plain": [
       "\n",
       " chinese   indian japanese   korean     thai \n",
       "      30       30       30       30       30 "
      ]
     },
     "metadata": {},
     "output_type": "display_data"
    }
   ],
   "source": [
    "# check that we have 30 recipes from each cuisine\n",
    "base::table(as.factor(as.character(bamboo_test$cuisine)))"
   ]
  },
  {
   "cell_type": "markdown",
   "metadata": {
    "button": false,
    "deletable": true,
    "editable": true,
    "new_sheet": false,
    "run_control": {
     "read_only": false
    }
   },
   "source": [
    "Next, let's create the training set by removing the test set from the **bamboo** dataset, and let's call this set **bamboo_train**."
   ]
  },
  {
   "cell_type": "code",
   "execution_count": 12,
   "metadata": {
    "button": false,
    "collapsed": false,
    "deletable": true,
    "editable": true,
    "jupyter": {
     "outputs_hidden": false
    },
    "new_sheet": false,
    "run_control": {
     "read_only": false
    }
   },
   "outputs": [],
   "source": [
    "bamboo_train <- bamboo[!(rownames(bamboo) %in% rownames(bamboo_test)),]\n",
    "bamboo_train$cuisine <- as.factor(as.character(bamboo_train$cuisine))"
   ]
  },
  {
   "cell_type": "markdown",
   "metadata": {
    "button": false,
    "deletable": true,
    "editable": true,
    "new_sheet": false,
    "run_control": {
     "read_only": false
    }
   },
   "source": [
    "Check that there are 30 _fewer_ recipes now for each cuisine."
   ]
  },
  {
   "cell_type": "code",
   "execution_count": 13,
   "metadata": {
    "button": false,
    "collapsed": false,
    "deletable": true,
    "editable": true,
    "jupyter": {
     "outputs_hidden": false
    },
    "new_sheet": false,
    "run_control": {
     "read_only": false
    }
   },
   "outputs": [
    {
     "data": {
      "text/plain": [
       "\n",
       " chinese   indian japanese   korean     thai \n",
       "     412      568      290      769      259 "
      ]
     },
     "metadata": {},
     "output_type": "display_data"
    }
   ],
   "source": [
    "base::table(bamboo_train$cuisine)"
   ]
  },
  {
   "cell_type": "markdown",
   "metadata": {
    "button": false,
    "deletable": true,
    "editable": true,
    "new_sheet": false,
    "run_control": {
     "read_only": false
    }
   },
   "source": [
    "Let's build the decision tree using the training set, **bamboo_train**, and name the generated tree **bamboo_tree_pred** for prediction."
   ]
  },
  {
   "cell_type": "code",
   "execution_count": 14,
   "metadata": {
    "button": false,
    "collapsed": false,
    "deletable": true,
    "editable": true,
    "jupyter": {
     "outputs_hidden": false
    },
    "new_sheet": false,
    "run_control": {
     "read_only": false
    }
   },
   "outputs": [],
   "source": [
    "bamboo_train_tree <- rpart(formula=cuisine ~ ., data=bamboo_train, method=\"class\")"
   ]
  },
  {
   "cell_type": "markdown",
   "metadata": {
    "button": false,
    "deletable": true,
    "editable": true,
    "new_sheet": false,
    "run_control": {
     "read_only": false
    }
   },
   "source": [
    "Let's plot the decision tree and explore it."
   ]
  },
  {
   "cell_type": "code",
   "execution_count": 15,
   "metadata": {
    "button": false,
    "collapsed": false,
    "deletable": true,
    "editable": true,
    "jupyter": {
     "outputs_hidden": false
    },
    "new_sheet": false,
    "run_control": {
     "read_only": false
    }
   },
   "outputs": [
    {
     "data": {
      "image/png": "[encoded data removed]",
      "text/plain": [
       "plot without title"
      ]
     },
     "metadata": {},
     "output_type": "display_data",
     "source": "R display func"
    }
   ],
   "source": [
    "rpart.plot(bamboo_train_tree, type=3, extra=0, under=TRUE, cex=0.75, varlen=0, faclen=0, Margin=0.03)"
   ]
  },
  {
   "cell_type": "markdown",
   "metadata": {
    "button": false,
    "deletable": true,
    "editable": true,
    "new_sheet": false,
    "run_control": {
     "read_only": false
    }
   },
   "source": [
    "It is obvious how removing 30 recipes from each cuisine resulted in more decisions in the tree."
   ]
  },
  {
   "cell_type": "markdown",
   "metadata": {
    "button": false,
    "deletable": true,
    "new_sheet": false,
    "run_control": {
     "read_only": false
    }
   },
   "source": [
    "#### Now let's test our model on the test data."
   ]
  },
  {
   "cell_type": "code",
   "execution_count": 16,
   "metadata": {
    "button": false,
    "collapsed": false,
    "deletable": true,
    "editable": true,
    "jupyter": {
     "outputs_hidden": false
    },
    "new_sheet": false,
    "run_control": {
     "read_only": false
    }
   },
   "outputs": [],
   "source": [
    "bamboo_pred_cuisines <- predict(bamboo_train_tree, subset(bamboo_test, select=-c(cuisine)), type=\"class\")"
   ]
  },
  {
   "cell_type": "markdown",
   "metadata": {
    "button": false,
    "deletable": true,
    "editable": true,
    "new_sheet": false,
    "run_control": {
     "read_only": false
    }
   },
   "source": [
    "To quantify how well the decision tree is able to determine the cuisine of each recipe correctly, we will create a confusion matrix which presents a nice summary on how many recipes from each cuisine are correctly classified. It also sheds some light on what cuisines are being confused with what other cuisines."
   ]
  },
  {
   "cell_type": "markdown",
   "metadata": {
    "button": false,
    "deletable": true,
    "new_sheet": false,
    "run_control": {
     "read_only": false
    }
   },
   "source": [
    "So let's go ahead and create the confusion matrix for how well the decision tree is able to correctly classify the recipes in **bamboo_test**."
   ]
  },
  {
   "cell_type": "code",
   "execution_count": 18,
   "metadata": {
    "button": false,
    "collapsed": false,
    "deletable": true,
    "editable": true,
    "jupyter": {
     "outputs_hidden": false
    },
    "new_sheet": false,
    "run_control": {
     "read_only": false
    },
    "scrolled": true
   },
   "outputs": [
    {
     "data": {
      "text/plain": [
       "               \n",
       "                chinese_pred indian_pred japanese_pred korean_pred thai_pred\n",
       "  chinese_true          60.0         0.0           3.3        36.7       0.0\n",
       "  indian_true            0.0        90.0           0.0        10.0       0.0\n",
       "  japanese_true         20.0         3.3          33.3        40.0       3.3\n",
       "  korean_true            6.7         0.0          16.7        76.7       0.0\n",
       "  thai_true              3.3        20.0           0.0        33.3      43.3"
      ]
     },
     "metadata": {},
     "output_type": "display_data"
    }
   ],
   "source": [
    "bamboo_confusion_matrix <- base::table(\n",
    "    paste(as.character(bamboo_test$cuisine),\"_true\", sep=\"\"),\n",
    "    paste(as.character(bamboo_pred_cuisines),\"_pred\", sep=\"\")\n",
    ")\n",
    "\n",
    "round(prop.table(bamboo_confusion_matrix, 1)*100, 1)"
   ]
  },
  {
   "cell_type": "markdown",
   "metadata": {
    "button": false,
    "deletable": true,
    "new_sheet": false,
    "run_control": {
     "read_only": false
    }
   },
   "source": [
    "The rows represent the actual cuisines from the dataset and the columns represent the predicted ones. Each row should sum to 100%. We make the following observations:\n",
    "\n",
    "* Using the first row in the confusion matrix, 60% of the **Chinese** recipes in **bamboo_test** were correctly classified by our decision tree whereas 36.7% of the **Chinese** recipes were misclassified as **Korean** and 3.3% were misclassified as **Japenese**.\n",
    "\n",
    "* Using the Indian row, 90% of the **Indian** recipes in **bamboo_test** were correctly classified by our decision tree and 10% of the **Indian** recipes were misclassified as **Korean**."
   ]
  },
  {
   "cell_type": "markdown",
   "metadata": {
    "button": false,
    "deletable": true,
    "new_sheet": false,
    "run_control": {
     "read_only": false
    }
   },
   "source": [
    "How many **Japanese** recipes were correctly classified by our decision tree?"
   ]
  },
  {
   "cell_type": "raw",
   "metadata": {
    "button": false,
    "deletable": true,
    "new_sheet": false,
    "run_control": {
     "read_only": false
    }
   },
   "source": [
    "Your Answer:\n",
    "33.3%."
   ]
  },
  {
   "cell_type": "markdown",
   "metadata": {
    "button": false,
    "deletable": true,
    "new_sheet": false,
    "run_control": {
     "read_only": false
    }
   },
   "source": [
    "How many **Korean** recipes were misclassified as **Japanese**?"
   ]
  },
  {
   "cell_type": "raw",
   "metadata": {
    "button": false,
    "deletable": true,
    "new_sheet": false,
    "run_control": {
     "read_only": false
    }
   },
   "source": [
    "Your Answer:\n",
    "16.7%."
   ]
  },
  {
   "cell_type": "markdown",
   "metadata": {
    "button": false,
    "deletable": true,
    "new_sheet": false,
    "run_control": {
     "read_only": false
    }
   },
   "source": [
    "What cuisine has the least number of recipes correctly classified by the decision tree?"
   ]
  },
  {
   "cell_type": "raw",
   "metadata": {
    "button": false,
    "deletable": true,
    "new_sheet": false,
    "run_control": {
     "read_only": false
    }
   },
   "source": [
    "Your Answer:\n",
    "Japanese cuisine, with 33.3% only."
   ]
  },
  {
   "cell_type": "markdown",
   "metadata": {
    "button": false,
    "deletable": true,
    "editable": true,
    "new_sheet": false,
    "run_control": {
     "read_only": false
    }
   },
   "source": [
    "<br>\n",
    "<hr>"
   ]
  },
  {
   "cell_type": "markdown",
   "metadata": {
    "button": false,
    "deletable": true,
    "new_sheet": false,
    "run_control": {
     "read_only": false
    }
   },
   "source": [
    "### Thank you for completing this lab!\n",
    "\n",
    "This notebook was created by [Polong Lin](https://ca.linkedin.com/in/polonglin) and [Alex Aklson](https://www.linkedin.com/in/aklson/). We hope you found this lab session interesting. Feel free to contact us if you have any questions!"
   ]
  },
  {
   "cell_type": "markdown",
   "metadata": {
    "button": false,
    "deletable": true,
    "new_sheet": false,
    "run_control": {
     "read_only": false
    }
   },
   "source": [
    "This notebook is part of the free course on **Cognitive Class** called *Data Science Methodology*. If you accessed this notebook outside the course, you can take this free self-paced course, online by clicking [here](http://cocl.us/DS0103EN_LAB4_R)."
   ]
  },
  {
   "cell_type": "markdown",
   "metadata": {
    "button": false,
    "deletable": true,
    "new_sheet": false,
    "run_control": {
     "read_only": false
    }
   },
   "source": [
    "<hr>\n",
    "\n",
    "Copyright &copy; 2019 [Cognitive Class](https://cognitiveclass.ai/?utm_source=bducopyrightlink&utm_medium=dswb&utm_campaign=bdu). This notebook and its source code are released under the terms of the [MIT License](https://bigdatauniversity.com/mit-license/)."
   ]
  }
 ],
 "metadata": {
  "kernelspec": {
   "display_name": "R",
   "language": "R",
   "name": "conda-env-r-r"
  },
  "language_info": {
   "codemirror_mode": "r",
   "file_extension": ".r",
   "mimetype": "text/x-r-source",
   "name": "R",
   "pygments_lexer": "r",
   "version": "3.5.1"
  },
  "widgets": {
   "state": {},
   "version": "1.1.2"
  }
 },
 "nbformat": 4,
 "nbformat_minor": 4
}
