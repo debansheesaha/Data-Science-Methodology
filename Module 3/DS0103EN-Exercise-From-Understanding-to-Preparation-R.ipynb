{
 "cells": [
  {
   "cell_type": "markdown",
   "metadata": {
    "button": false,
    "deletable": true,
    "editable": true,
    "new_sheet": false,
    "run_control": {
     "read_only": false
    }
   },
   "source": [
    "<a href=\"https://cognitiveclass.ai\"><img src = \"https://ibm.box.com/shared/static/9gegpsmnsoo25ikkbl4qzlvlyjbgxs5x.png\" width = 400> </a>\n",
    "\n",
    "<h1 align=center><font size = 5>From Understanding to Preparation</font></h1>"
   ]
  },
  {
   "cell_type": "markdown",
   "metadata": {
    "button": false,
    "deletable": true,
    "editable": true,
    "new_sheet": false,
    "run_control": {
     "read_only": false
    }
   },
   "source": [
    "## Introduction\n",
    "\n",
    "In this lab, we will continue learning about the data science methodology, and focus on the **Data Understanding** and the **Data Preparation** stages."
   ]
  },
  {
   "cell_type": "markdown",
   "metadata": {
    "button": false,
    "deletable": true,
    "editable": true,
    "new_sheet": false,
    "run_control": {
     "read_only": false
    }
   },
   "source": [
    "## Table of Contents\n",
    "\n",
    "<div class=\"alert alert-block alert-info\" style=\"margin-top: 20px\">\n",
    "    \n",
    "1. [Recap](#0)<br>\n",
    "2. [Data Understanding](#2)<br>\n",
    "3. [Data Preparation](#4)<br>\n",
    "</div>\n",
    "<hr>"
   ]
  },
  {
   "cell_type": "markdown",
   "metadata": {
    "button": false,
    "deletable": true,
    "editable": true,
    "new_sheet": false,
    "run_control": {
     "read_only": false
    }
   },
   "source": [
    "# Recap <a id=\"0\"></a>"
   ]
  },
  {
   "cell_type": "markdown",
   "metadata": {
    "button": false,
    "deletable": true,
    "editable": true,
    "new_sheet": false,
    "run_control": {
     "read_only": false
    }
   },
   "source": [
    "In Lab **From Requirements to Collection**, we learned that the data we need to answer the question developed in the business understanding stage, namely *can we automate the process of determining the cuisine of a given recipe?*, is readily available. A researcher named Yong-Yeol Ahn scraped tens of thousands of food recipes (cuisines and ingredients) from three different websites, namely:"
   ]
  },
  {
   "cell_type": "markdown",
   "metadata": {
    "button": false,
    "deletable": true,
    "editable": true,
    "new_sheet": false,
    "run_control": {
     "read_only": false
    }
   },
   "source": [
    "<img src=\"https://s3-api.us-geo.objectstorage.softlayer.net/cf-courses-data/CognitiveClass/DS0103EN/labs/images/lab3_fig1_allrecipes.png\" width=500>\n",
    "\n",
    "www.allrecipes.com\n",
    "\n",
    "<img src=\"https://s3-api.us-geo.objectstorage.softlayer.net/cf-courses-data/CognitiveClass/DS0103EN/labs/images/lab3_fig2_epicurious.png\" width=500>\n",
    "\n",
    "www.epicurious.com\n",
    "\n",
    "<img src=\"https://s3-api.us-geo.objectstorage.softlayer.net/cf-courses-data/CognitiveClass/DS0103EN/labs/images/lab3_fig3_menupan.png\" width=500>\n",
    "\n",
    "www.menupan.com"
   ]
  },
  {
   "cell_type": "markdown",
   "metadata": {
    "button": false,
    "deletable": true,
    "editable": true,
    "new_sheet": false,
    "run_control": {
     "read_only": false
    }
   },
   "source": [
    "For more information on Yong-Yeol Ahn and his research, you can read his paper on [Flavor Network and the Principles of Food Pairing](http://yongyeol.com/papers/ahn-flavornet-2011.pdf)."
   ]
  },
  {
   "cell_type": "markdown",
   "metadata": {
    "button": false,
    "deletable": true,
    "editable": true,
    "new_sheet": false,
    "run_control": {
     "read_only": false
    }
   },
   "source": [
    "We also collected the data and placed it on an IBM server for your convenience.\n",
    "\n",
    "------------"
   ]
  },
  {
   "cell_type": "markdown",
   "metadata": {
    "button": false,
    "deletable": true,
    "new_sheet": false,
    "run_control": {
     "read_only": false
    }
   },
   "source": [
    "# Data Understanding <a id=\"2\"></a>"
   ]
  },
  {
   "cell_type": "markdown",
   "metadata": {
    "button": false,
    "deletable": true,
    "editable": true,
    "new_sheet": false,
    "run_control": {
     "read_only": false
    }
   },
   "source": [
    "<img src=\"https://s3-api.us-geo.objectstorage.softlayer.net/cf-courses-data/CognitiveClass/DS0103EN/labs/images/lab3_fig4_flowchart_data_understanding.png\" width=500>"
   ]
  },
  {
   "cell_type": "markdown",
   "metadata": {
    "button": false,
    "deletable": true,
    "new_sheet": false,
    "run_control": {
     "read_only": false
    }
   },
   "source": [
    "<strong>Important note:</strong> Please note that you are not expected to know how to program in R. The following code is meant to illustrate the stages of data understanding and data preparation, so it is totally fine if you do not understand the individual lines of code. We have a full course on programming in R, <a href=\"http://cocl.us/RP0101EN_DS0103EN_LAB3_R\">R101</a>, so please feel free to complete the course if you are interested in learning how to program in R."
   ]
  },
  {
   "cell_type": "markdown",
   "metadata": {
    "button": false,
    "deletable": true,
    "new_sheet": false,
    "run_control": {
     "read_only": false
    }
   },
   "source": [
    "### Using this notebook:\n",
    "\n",
    "To run any of the following cells of code, you can type **Shift + Enter** to excute the code in a cell."
   ]
  },
  {
   "cell_type": "markdown",
   "metadata": {
    "button": false,
    "deletable": true,
    "new_sheet": false,
    "run_control": {
     "read_only": false
    }
   },
   "source": [
    "Get the version of R installed."
   ]
  },
  {
   "cell_type": "code",
   "execution_count": 1,
   "metadata": {
    "button": false,
    "collapsed": false,
    "deletable": true,
    "jupyter": {
     "outputs_hidden": false
    },
    "new_sheet": false,
    "run_control": {
     "read_only": false
    }
   },
   "outputs": [
    {
     "data": {
      "text/html": [
       "'R version 3.5.1 (2018-07-02)'"
      ],
      "text/latex": [
       "'R version 3.5.1 (2018-07-02)'"
      ],
      "text/markdown": [
       "'R version 3.5.1 (2018-07-02)'"
      ],
      "text/plain": [
       "[1] \"R version 3.5.1 (2018-07-02)\""
      ]
     },
     "metadata": {},
     "output_type": "display_data"
    }
   ],
   "source": [
    "# check R version\n",
    "R.Version()$version.string"
   ]
  },
  {
   "cell_type": "markdown",
   "metadata": {
    "button": false,
    "deletable": true,
    "new_sheet": false,
    "run_control": {
     "read_only": false
    }
   },
   "source": [
    "Download the data from the IBM server."
   ]
  },
  {
   "cell_type": "code",
   "execution_count": 2,
   "metadata": {
    "button": false,
    "collapsed": false,
    "deletable": true,
    "editable": true,
    "jupyter": {
     "outputs_hidden": false
    },
    "new_sheet": false,
    "run_control": {
     "read_only": false
    }
   },
   "outputs": [],
   "source": [
    "# click here and press Shift + Enter\n",
    "download.file(\"https://s3-api.us-geo.objectstorage.softlayer.net/cf-courses-data/CognitiveClass/DS0103EN/labs/data/recipes.csv\",\n",
    "              destfile = \"/resources/data/recipes.csv\", quiet = TRUE)\n",
    "\n",
    "recipes <- read.csv(\"/resources/data/recipes.csv\") # takes 30 seconds"
   ]
  },
  {
   "cell_type": "markdown",
   "metadata": {
    "button": false,
    "deletable": true,
    "new_sheet": false,
    "run_control": {
     "read_only": false
    }
   },
   "source": [
    "Show the first few rows."
   ]
  },
  {
   "cell_type": "code",
   "execution_count": 3,
   "metadata": {
    "button": false,
    "collapsed": false,
    "deletable": true,
    "jupyter": {
     "outputs_hidden": false
    },
    "new_sheet": false,
    "run_control": {
     "read_only": false
    }
   },
   "outputs": [
    {
     "data": {
      "text/html": [
       "<table>\n",
       "<caption>A data.frame: 6 × 384</caption>\n",
       "<thead>\n",
       "\t<tr><th></th><th scope=col>country</th><th scope=col>almond</th><th scope=col>angelica</th><th scope=col>anise</th><th scope=col>anise_seed</th><th scope=col>apple</th><th scope=col>apple_brandy</th><th scope=col>apricot</th><th scope=col>armagnac</th><th scope=col>artemisia</th><th scope=col>⋯</th><th scope=col>whiskey</th><th scope=col>white_bread</th><th scope=col>white_wine</th><th scope=col>whole_grain_wheat_flour</th><th scope=col>wine</th><th scope=col>wood</th><th scope=col>yam</th><th scope=col>yeast</th><th scope=col>yogurt</th><th scope=col>zucchini</th></tr>\n",
       "\t<tr><th></th><th scope=col>&lt;fct&gt;</th><th scope=col>&lt;fct&gt;</th><th scope=col>&lt;fct&gt;</th><th scope=col>&lt;fct&gt;</th><th scope=col>&lt;fct&gt;</th><th scope=col>&lt;fct&gt;</th><th scope=col>&lt;fct&gt;</th><th scope=col>&lt;fct&gt;</th><th scope=col>&lt;fct&gt;</th><th scope=col>&lt;fct&gt;</th><th scope=col>⋯</th><th scope=col>&lt;fct&gt;</th><th scope=col>&lt;fct&gt;</th><th scope=col>&lt;fct&gt;</th><th scope=col>&lt;fct&gt;</th><th scope=col>&lt;fct&gt;</th><th scope=col>&lt;fct&gt;</th><th scope=col>&lt;fct&gt;</th><th scope=col>&lt;fct&gt;</th><th scope=col>&lt;fct&gt;</th><th scope=col>&lt;fct&gt;</th></tr>\n",
       "</thead>\n",
       "<tbody>\n",
       "\t<tr><th scope=row>1</th><td>Vietnamese</td><td>No</td><td>No</td><td>No</td><td>No</td><td>No</td><td>No</td><td>No</td><td>No</td><td>No</td><td>⋯</td><td>No</td><td>No</td><td>No</td><td>No</td><td>No</td><td>No</td><td>No</td><td>No</td><td>No</td><td>No</td></tr>\n",
       "\t<tr><th scope=row>2</th><td>Vietnamese</td><td>No</td><td>No</td><td>No</td><td>No</td><td>No</td><td>No</td><td>No</td><td>No</td><td>No</td><td>⋯</td><td>No</td><td>No</td><td>No</td><td>No</td><td>No</td><td>No</td><td>No</td><td>No</td><td>No</td><td>No</td></tr>\n",
       "\t<tr><th scope=row>3</th><td>Vietnamese</td><td>No</td><td>No</td><td>No</td><td>No</td><td>No</td><td>No</td><td>No</td><td>No</td><td>No</td><td>⋯</td><td>No</td><td>No</td><td>No</td><td>No</td><td>No</td><td>No</td><td>No</td><td>No</td><td>No</td><td>No</td></tr>\n",
       "\t<tr><th scope=row>4</th><td>Vietnamese</td><td>No</td><td>No</td><td>No</td><td>No</td><td>No</td><td>No</td><td>No</td><td>No</td><td>No</td><td>⋯</td><td>No</td><td>No</td><td>No</td><td>No</td><td>No</td><td>No</td><td>No</td><td>No</td><td>No</td><td>No</td></tr>\n",
       "\t<tr><th scope=row>5</th><td>Vietnamese</td><td>No</td><td>No</td><td>No</td><td>No</td><td>No</td><td>No</td><td>No</td><td>No</td><td>No</td><td>⋯</td><td>No</td><td>No</td><td>No</td><td>No</td><td>No</td><td>No</td><td>No</td><td>No</td><td>No</td><td>No</td></tr>\n",
       "\t<tr><th scope=row>6</th><td>Vietnamese</td><td>No</td><td>No</td><td>No</td><td>No</td><td>No</td><td>No</td><td>No</td><td>No</td><td>No</td><td>⋯</td><td>No</td><td>No</td><td>No</td><td>No</td><td>No</td><td>No</td><td>No</td><td>No</td><td>No</td><td>No</td></tr>\n",
       "</tbody>\n",
       "</table>\n"
      ],
      "text/latex": [
       "A data.frame: 6 × 384\n",
       "\\begin{tabular}{r|lllllllllllllllllllll}\n",
       "  & country & almond & angelica & anise & anise\\_seed & apple & apple\\_brandy & apricot & armagnac & artemisia & ⋯ & whiskey & white\\_bread & white\\_wine & whole\\_grain\\_wheat\\_flour & wine & wood & yam & yeast & yogurt & zucchini\\\\\n",
       "  & <fct> & <fct> & <fct> & <fct> & <fct> & <fct> & <fct> & <fct> & <fct> & <fct> & ⋯ & <fct> & <fct> & <fct> & <fct> & <fct> & <fct> & <fct> & <fct> & <fct> & <fct>\\\\\n",
       "\\hline\n",
       "\t1 & Vietnamese & No & No & No & No & No & No & No & No & No & ⋯ & No & No & No & No & No & No & No & No & No & No\\\\\n",
       "\t2 & Vietnamese & No & No & No & No & No & No & No & No & No & ⋯ & No & No & No & No & No & No & No & No & No & No\\\\\n",
       "\t3 & Vietnamese & No & No & No & No & No & No & No & No & No & ⋯ & No & No & No & No & No & No & No & No & No & No\\\\\n",
       "\t4 & Vietnamese & No & No & No & No & No & No & No & No & No & ⋯ & No & No & No & No & No & No & No & No & No & No\\\\\n",
       "\t5 & Vietnamese & No & No & No & No & No & No & No & No & No & ⋯ & No & No & No & No & No & No & No & No & No & No\\\\\n",
       "\t6 & Vietnamese & No & No & No & No & No & No & No & No & No & ⋯ & No & No & No & No & No & No & No & No & No & No\\\\\n",
       "\\end{tabular}\n"
      ],
      "text/markdown": [
       "\n",
       "A data.frame: 6 × 384\n",
       "\n",
       "| <!--/--> | country &lt;fct&gt; | almond &lt;fct&gt; | angelica &lt;fct&gt; | anise &lt;fct&gt; | anise_seed &lt;fct&gt; | apple &lt;fct&gt; | apple_brandy &lt;fct&gt; | apricot &lt;fct&gt; | armagnac &lt;fct&gt; | artemisia &lt;fct&gt; | ⋯ ⋯ | whiskey &lt;fct&gt; | white_bread &lt;fct&gt; | white_wine &lt;fct&gt; | whole_grain_wheat_flour &lt;fct&gt; | wine &lt;fct&gt; | wood &lt;fct&gt; | yam &lt;fct&gt; | yeast &lt;fct&gt; | yogurt &lt;fct&gt; | zucchini &lt;fct&gt; |\n",
       "|---|---|---|---|---|---|---|---|---|---|---|---|---|---|---|---|---|---|---|---|---|---|\n",
       "| 1 | Vietnamese | No | No | No | No | No | No | No | No | No | ⋯ | No | No | No | No | No | No | No | No | No | No |\n",
       "| 2 | Vietnamese | No | No | No | No | No | No | No | No | No | ⋯ | No | No | No | No | No | No | No | No | No | No |\n",
       "| 3 | Vietnamese | No | No | No | No | No | No | No | No | No | ⋯ | No | No | No | No | No | No | No | No | No | No |\n",
       "| 4 | Vietnamese | No | No | No | No | No | No | No | No | No | ⋯ | No | No | No | No | No | No | No | No | No | No |\n",
       "| 5 | Vietnamese | No | No | No | No | No | No | No | No | No | ⋯ | No | No | No | No | No | No | No | No | No | No |\n",
       "| 6 | Vietnamese | No | No | No | No | No | No | No | No | No | ⋯ | No | No | No | No | No | No | No | No | No | No |\n",
       "\n"
      ],
      "text/plain": [
       "  country    almond angelica anise anise_seed apple apple_brandy apricot\n",
       "1 Vietnamese No     No       No    No         No    No           No     \n",
       "2 Vietnamese No     No       No    No         No    No           No     \n",
       "3 Vietnamese No     No       No    No         No    No           No     \n",
       "4 Vietnamese No     No       No    No         No    No           No     \n",
       "5 Vietnamese No     No       No    No         No    No           No     \n",
       "6 Vietnamese No     No       No    No         No    No           No     \n",
       "  armagnac artemisia ⋯ whiskey white_bread white_wine whole_grain_wheat_flour\n",
       "1 No       No        ⋯ No      No          No         No                     \n",
       "2 No       No        ⋯ No      No          No         No                     \n",
       "3 No       No        ⋯ No      No          No         No                     \n",
       "4 No       No        ⋯ No      No          No         No                     \n",
       "5 No       No        ⋯ No      No          No         No                     \n",
       "6 No       No        ⋯ No      No          No         No                     \n",
       "  wine wood yam yeast yogurt zucchini\n",
       "1 No   No   No  No    No     No      \n",
       "2 No   No   No  No    No     No      \n",
       "3 No   No   No  No    No     No      \n",
       "4 No   No   No  No    No     No      \n",
       "5 No   No   No  No    No     No      \n",
       "6 No   No   No  No    No     No      "
      ]
     },
     "metadata": {},
     "output_type": "display_data"
    }
   ],
   "source": [
    "head(recipes)"
   ]
  },
  {
   "cell_type": "markdown",
   "metadata": {
    "button": false,
    "deletable": true,
    "new_sheet": false,
    "run_control": {
     "read_only": false
    }
   },
   "source": [
    "Get the dimensions of the dataframe."
   ]
  },
  {
   "cell_type": "code",
   "execution_count": 4,
   "metadata": {
    "button": false,
    "collapsed": false,
    "deletable": true,
    "jupyter": {
     "outputs_hidden": false
    },
    "new_sheet": false,
    "run_control": {
     "read_only": false
    }
   },
   "outputs": [
    {
     "data": {
      "text/html": [
       "57691"
      ],
      "text/latex": [
       "57691"
      ],
      "text/markdown": [
       "57691"
      ],
      "text/plain": [
       "[1] 57691"
      ]
     },
     "metadata": {},
     "output_type": "display_data"
    }
   ],
   "source": [
    "nrow(recipes)"
   ]
  },
  {
   "cell_type": "code",
   "execution_count": 5,
   "metadata": {
    "button": false,
    "collapsed": false,
    "deletable": true,
    "jupyter": {
     "outputs_hidden": false
    },
    "new_sheet": false,
    "run_control": {
     "read_only": false
    }
   },
   "outputs": [
    {
     "data": {
      "text/html": [
       "384"
      ],
      "text/latex": [
       "384"
      ],
      "text/markdown": [
       "384"
      ],
      "text/plain": [
       "[1] 384"
      ]
     },
     "metadata": {},
     "output_type": "display_data"
    }
   ],
   "source": [
    "ncol(recipes)"
   ]
  },
  {
   "cell_type": "markdown",
   "metadata": {
    "button": false,
    "deletable": true,
    "new_sheet": false,
    "run_control": {
     "read_only": false
    }
   },
   "source": [
    "So our dataset consists of 57,691 recipes. Each row represents a recipe, and for each recipe, the corresponding cuisine is documented as well as whether 384 ingredients exist in the recipe or not beginning with almond and ending with zucchini."
   ]
  },
  {
   "cell_type": "markdown",
   "metadata": {
    "button": false,
    "deletable": true,
    "new_sheet": false,
    "run_control": {
     "read_only": false
    }
   },
   "source": [
    "We know that a basic sushi recipe includes the ingredients:\n",
    "* rice\n",
    "* soy sauce\n",
    "* wasabi\n",
    "* some fish/vegetables"
   ]
  },
  {
   "cell_type": "markdown",
   "metadata": {
    "button": false,
    "deletable": true,
    "new_sheet": false,
    "run_control": {
     "read_only": false
    }
   },
   "source": [
    "Let's check that these ingredients exist in our dataframe:"
   ]
  },
  {
   "cell_type": "code",
   "execution_count": 6,
   "metadata": {
    "button": false,
    "collapsed": false,
    "deletable": true,
    "jupyter": {
     "outputs_hidden": false
    },
    "new_sheet": false,
    "run_control": {
     "read_only": false
    }
   },
   "outputs": [
    {
     "data": {
      "text/html": [
       "<style>\n",
       ".list-inline {list-style: none; margin:0; padding: 0}\n",
       ".list-inline>li {display: inline-block}\n",
       ".list-inline>li:not(:last-child)::after {content: \"\\00b7\"; padding: 0 .5ex}\n",
       "</style>\n",
       "<ol class=list-inline><li>'brown_rice'</li><li>'licorice'</li><li>'rice'</li></ol>\n"
      ],
      "text/latex": [
       "\\begin{enumerate*}\n",
       "\\item 'brown\\_rice'\n",
       "\\item 'licorice'\n",
       "\\item 'rice'\n",
       "\\end{enumerate*}\n"
      ],
      "text/markdown": [
       "1. 'brown_rice'\n",
       "2. 'licorice'\n",
       "3. 'rice'\n",
       "\n",
       "\n"
      ],
      "text/plain": [
       "[1] \"brown_rice\" \"licorice\"   \"rice\"      "
      ]
     },
     "metadata": {},
     "output_type": "display_data"
    },
    {
     "data": {
      "text/html": [
       "'wasabi'"
      ],
      "text/latex": [
       "'wasabi'"
      ],
      "text/markdown": [
       "'wasabi'"
      ],
      "text/plain": [
       "[1] \"wasabi\""
      ]
     },
     "metadata": {},
     "output_type": "display_data"
    },
    {
     "data": {
      "text/html": [
       "<style>\n",
       ".list-inline {list-style: none; margin:0; padding: 0}\n",
       ".list-inline>li {display: inline-block}\n",
       ".list-inline>li:not(:last-child)::after {content: \"\\00b7\"; padding: 0 .5ex}\n",
       "</style>\n",
       "<ol class=list-inline><li>'soy_sauce'</li><li>'soybean'</li><li>'soybean_oil'</li></ol>\n"
      ],
      "text/latex": [
       "\\begin{enumerate*}\n",
       "\\item 'soy\\_sauce'\n",
       "\\item 'soybean'\n",
       "\\item 'soybean\\_oil'\n",
       "\\end{enumerate*}\n"
      ],
      "text/markdown": [
       "1. 'soy_sauce'\n",
       "2. 'soybean'\n",
       "3. 'soybean_oil'\n",
       "\n",
       "\n"
      ],
      "text/plain": [
       "[1] \"soy_sauce\"   \"soybean\"     \"soybean_oil\""
      ]
     },
     "metadata": {},
     "output_type": "display_data"
    }
   ],
   "source": [
    "grep(\"rice\", names(recipes), value = TRUE) # yes as rice\n",
    "grep(\"wasabi\", names(recipes), value = TRUE) # yes\n",
    "grep(\"soy\", names(recipes), value = TRUE) # yes as soy_sauce"
   ]
  },
  {
   "cell_type": "markdown",
   "metadata": {
    "button": false,
    "deletable": true,
    "new_sheet": false,
    "run_control": {
     "read_only": false
    }
   },
   "source": [
    "Yes, they do!\n",
    "\n",
    "* rice exists as rice.\n",
    "* wasabi exists as wasabi.\n",
    "* soy exists as soy_sauce.\n",
    "\n",
    "So maybe if a recipe contains all three ingredients: rice, wasabi, and soy_sauce, then we can confidently say that the recipe is a **Japanese** cuisine! Let's keep this in mind!\n",
    "\n",
    "----------------"
   ]
  },
  {
   "cell_type": "markdown",
   "metadata": {
    "button": false,
    "deletable": true,
    "editable": true,
    "new_sheet": false,
    "run_control": {
     "read_only": false
    }
   },
   "source": [
    "# Data Preparation <a id=\"4\"></a>"
   ]
  },
  {
   "cell_type": "markdown",
   "metadata": {
    "button": false,
    "deletable": true,
    "new_sheet": false,
    "run_control": {
     "read_only": false
    }
   },
   "source": [
    "<img src=\"https://s3-api.us-geo.objectstorage.softlayer.net/cf-courses-data/CognitiveClass/DS0103EN/labs/images/lab3_fig5_flowchart_data_preparation.png\" width=500>"
   ]
  },
  {
   "cell_type": "markdown",
   "metadata": {
    "button": false,
    "deletable": true,
    "new_sheet": false,
    "run_control": {
     "read_only": false
    }
   },
   "source": [
    "In this section, we will prepare the data for the next stage in the data science methodology, which is modeling. This stage involves exploring the data further and making sure that it is in the right format for the machine learning algorithm that we selected in the analytic approach stage, which is decision trees."
   ]
  },
  {
   "cell_type": "markdown",
   "metadata": {
    "button": false,
    "deletable": true,
    "new_sheet": false,
    "run_control": {
     "read_only": false
    }
   },
   "source": [
    "First, look at the data to see if it needs cleaning."
   ]
  },
  {
   "cell_type": "code",
   "execution_count": 7,
   "metadata": {
    "button": false,
    "collapsed": false,
    "deletable": true,
    "jupyter": {
     "outputs_hidden": false
    },
    "new_sheet": false,
    "run_control": {
     "read_only": false
    }
   },
   "outputs": [
    {
     "data": {
      "text/plain": [
       "\n",
       "                African                American                   asian \n",
       "                    115                   40150                      17 \n",
       "                  Asian                 Austria              Bangladesh \n",
       "                   1176                      21                       4 \n",
       "                Belgium            Cajun_Creole                  Canada \n",
       "                     11                     146                     774 \n",
       "              Caribbean   Central_SouthAmerican                   China \n",
       "                    183                     241                     130 \n",
       "                chinese                 Chinese              east_asian \n",
       "                     86                     226                     951 \n",
       "           East-African          Eastern-Europe EasternEuropean_Russian \n",
       "                     11                     235                     146 \n",
       "       English_Scottish                  France                  French \n",
       "                    204                     268                     996 \n",
       "                 German                 Germany                   Greek \n",
       "                     52                     237                     225 \n",
       "                  India                  Indian               Indonesia \n",
       "                    324                     274                      12 \n",
       "                   Iran                   Irish                  Israel \n",
       "                     21                      86                       9 \n",
       "                italian                 Italian                   Italy \n",
       "                     74                    1715                    1461 \n",
       "                  Japan                japanese                Japanese \n",
       "                     85                      99                     136 \n",
       "                 Jewish                   Korea                  korean \n",
       "                    320                      32                     767 \n",
       "                Lebanon                Malaysia           Mediterranean \n",
       "                     31                      18                     289 \n",
       "                Mexican                  mexico                  Mexico \n",
       "                    622                      14                    1754 \n",
       "          MiddleEastern                Moroccan             Netherlands \n",
       "                    248                     137                      32 \n",
       "          North-African                Pakistan             Philippines \n",
       "                     60                      19                      43 \n",
       "               Portugal             Scandinavia            Scandinavian \n",
       "                     50                     158                      92 \n",
       "          South-African           South-America       Southern_SoulFood \n",
       "                     16                     103                     346 \n",
       "           Southwestern                   Spain      Spanish_Portuguese \n",
       "                    108                      75                     291 \n",
       "            Switzerland                    Thai                Thailand \n",
       "                     20                     164                     125 \n",
       "                 Turkey          UK-and-Ireland                 Vietnam \n",
       "                     16                     282                      30 \n",
       "             Vietnamese            West-African                 western \n",
       "                     65                      13                     450 "
      ]
     },
     "metadata": {},
     "output_type": "display_data"
    }
   ],
   "source": [
    "base::table(recipes$country) # frequency table"
   ]
  },
  {
   "cell_type": "markdown",
   "metadata": {
    "button": false,
    "deletable": true,
    "new_sheet": false,
    "run_control": {
     "read_only": false
    }
   },
   "source": [
    "By looking at the above table, we can make the following observations:\n",
    "\n",
    "1. Cuisine column is labeled as Country, which is inaccurate.\n",
    "2. Cuisine names are not consistent as not all of them start with an uppercase first letter.\n",
    "3. Some cuisines are duplicated as variation of the country name, such as Vietnam and Vietnamese.\n",
    "4. Some cuisines have very few recipes."
   ]
  },
  {
   "cell_type": "markdown",
   "metadata": {
    "button": false,
    "deletable": true,
    "new_sheet": false,
    "run_control": {
     "read_only": false
    }
   },
   "source": [
    "#### Let's fixes these problems."
   ]
  },
  {
   "cell_type": "markdown",
   "metadata": {
    "button": false,
    "deletable": true,
    "new_sheet": false,
    "run_control": {
     "read_only": false
    }
   },
   "source": [
    "Fix the name of the column showing the cuisine."
   ]
  },
  {
   "cell_type": "code",
   "execution_count": 8,
   "metadata": {
    "button": false,
    "deletable": true,
    "new_sheet": false,
    "run_control": {
     "read_only": false
    }
   },
   "outputs": [],
   "source": [
    "colnames(recipes)[1] = \"cuisine\""
   ]
  },
  {
   "cell_type": "markdown",
   "metadata": {
    "button": false,
    "deletable": true,
    "new_sheet": false,
    "run_control": {
     "read_only": false
    }
   },
   "source": [
    "Make all the cuisine names lowercase."
   ]
  },
  {
   "cell_type": "code",
   "execution_count": 9,
   "metadata": {
    "button": false,
    "collapsed": false,
    "deletable": true,
    "jupyter": {
     "outputs_hidden": false
    },
    "new_sheet": false,
    "run_control": {
     "read_only": false
    }
   },
   "outputs": [
    {
     "data": {
      "text/html": [
       "<table>\n",
       "<caption>A data.frame: 57691 × 384</caption>\n",
       "<thead>\n",
       "\t<tr><th scope=col>cuisine</th><th scope=col>almond</th><th scope=col>angelica</th><th scope=col>anise</th><th scope=col>anise_seed</th><th scope=col>apple</th><th scope=col>apple_brandy</th><th scope=col>apricot</th><th scope=col>armagnac</th><th scope=col>artemisia</th><th scope=col>⋯</th><th scope=col>whiskey</th><th scope=col>white_bread</th><th scope=col>white_wine</th><th scope=col>whole_grain_wheat_flour</th><th scope=col>wine</th><th scope=col>wood</th><th scope=col>yam</th><th scope=col>yeast</th><th scope=col>yogurt</th><th scope=col>zucchini</th></tr>\n",
       "\t<tr><th scope=col>&lt;chr&gt;</th><th scope=col>&lt;fct&gt;</th><th scope=col>&lt;fct&gt;</th><th scope=col>&lt;fct&gt;</th><th scope=col>&lt;fct&gt;</th><th scope=col>&lt;fct&gt;</th><th scope=col>&lt;fct&gt;</th><th scope=col>&lt;fct&gt;</th><th scope=col>&lt;fct&gt;</th><th scope=col>&lt;fct&gt;</th><th scope=col>⋯</th><th scope=col>&lt;fct&gt;</th><th scope=col>&lt;fct&gt;</th><th scope=col>&lt;fct&gt;</th><th scope=col>&lt;fct&gt;</th><th scope=col>&lt;fct&gt;</th><th scope=col>&lt;fct&gt;</th><th scope=col>&lt;fct&gt;</th><th scope=col>&lt;fct&gt;</th><th scope=col>&lt;fct&gt;</th><th scope=col>&lt;fct&gt;</th></tr>\n",
       "</thead>\n",
       "<tbody>\n",
       "\t<tr><td>vietnamese</td><td>No</td><td>No</td><td>No</td><td>No</td><td>No</td><td>No</td><td>No</td><td>No</td><td>No</td><td>⋯</td><td>No</td><td>No</td><td>No </td><td>No</td><td>No </td><td>No</td><td>No</td><td>No </td><td>No</td><td>No</td></tr>\n",
       "\t<tr><td>vietnamese</td><td>No</td><td>No</td><td>No</td><td>No</td><td>No</td><td>No</td><td>No</td><td>No</td><td>No</td><td>⋯</td><td>No</td><td>No</td><td>No </td><td>No</td><td>No </td><td>No</td><td>No</td><td>No </td><td>No</td><td>No</td></tr>\n",
       "\t<tr><td>vietnamese</td><td>No</td><td>No</td><td>No</td><td>No</td><td>No</td><td>No</td><td>No</td><td>No</td><td>No</td><td>⋯</td><td>No</td><td>No</td><td>No </td><td>No</td><td>No </td><td>No</td><td>No</td><td>No </td><td>No</td><td>No</td></tr>\n",
       "\t<tr><td>vietnamese</td><td>No</td><td>No</td><td>No</td><td>No</td><td>No</td><td>No</td><td>No</td><td>No</td><td>No</td><td>⋯</td><td>No</td><td>No</td><td>No </td><td>No</td><td>No </td><td>No</td><td>No</td><td>No </td><td>No</td><td>No</td></tr>\n",
       "\t<tr><td>vietnamese</td><td>No</td><td>No</td><td>No</td><td>No</td><td>No</td><td>No</td><td>No</td><td>No</td><td>No</td><td>⋯</td><td>No</td><td>No</td><td>No </td><td>No</td><td>No </td><td>No</td><td>No</td><td>No </td><td>No</td><td>No</td></tr>\n",
       "\t<tr><td>vietnamese</td><td>No</td><td>No</td><td>No</td><td>No</td><td>No</td><td>No</td><td>No</td><td>No</td><td>No</td><td>⋯</td><td>No</td><td>No</td><td>No </td><td>No</td><td>No </td><td>No</td><td>No</td><td>No </td><td>No</td><td>No</td></tr>\n",
       "\t<tr><td>vietnamese</td><td>No</td><td>No</td><td>No</td><td>No</td><td>No</td><td>No</td><td>No</td><td>No</td><td>No</td><td>⋯</td><td>No</td><td>No</td><td>No </td><td>No</td><td>No </td><td>No</td><td>No</td><td>No </td><td>No</td><td>No</td></tr>\n",
       "\t<tr><td>vietnamese</td><td>No</td><td>No</td><td>No</td><td>No</td><td>No</td><td>No</td><td>No</td><td>No</td><td>No</td><td>⋯</td><td>No</td><td>No</td><td>No </td><td>No</td><td>No </td><td>No</td><td>No</td><td>No </td><td>No</td><td>No</td></tr>\n",
       "\t<tr><td>vietnamese</td><td>No</td><td>No</td><td>No</td><td>No</td><td>No</td><td>No</td><td>No</td><td>No</td><td>No</td><td>⋯</td><td>No</td><td>No</td><td>No </td><td>No</td><td>No </td><td>No</td><td>No</td><td>No </td><td>No</td><td>No</td></tr>\n",
       "\t<tr><td>vietnamese</td><td>No</td><td>No</td><td>No</td><td>No</td><td>No</td><td>No</td><td>No</td><td>No</td><td>No</td><td>⋯</td><td>No</td><td>No</td><td>No </td><td>No</td><td>No </td><td>No</td><td>No</td><td>No </td><td>No</td><td>No</td></tr>\n",
       "\t<tr><td>vietnamese</td><td>No</td><td>No</td><td>No</td><td>No</td><td>No</td><td>No</td><td>No</td><td>No</td><td>No</td><td>⋯</td><td>No</td><td>No</td><td>No </td><td>No</td><td>No </td><td>No</td><td>No</td><td>No </td><td>No</td><td>No</td></tr>\n",
       "\t<tr><td>vietnamese</td><td>No</td><td>No</td><td>No</td><td>No</td><td>No</td><td>No</td><td>No</td><td>No</td><td>No</td><td>⋯</td><td>No</td><td>No</td><td>No </td><td>No</td><td>No </td><td>No</td><td>No</td><td>No </td><td>No</td><td>No</td></tr>\n",
       "\t<tr><td>vietnamese</td><td>No</td><td>No</td><td>No</td><td>No</td><td>No</td><td>No</td><td>No</td><td>No</td><td>No</td><td>⋯</td><td>No</td><td>No</td><td>No </td><td>No</td><td>No </td><td>No</td><td>No</td><td>No </td><td>No</td><td>No</td></tr>\n",
       "\t<tr><td>vietnamese</td><td>No</td><td>No</td><td>No</td><td>No</td><td>No</td><td>No</td><td>No</td><td>No</td><td>No</td><td>⋯</td><td>No</td><td>No</td><td>No </td><td>No</td><td>Yes</td><td>No</td><td>No</td><td>No </td><td>No</td><td>No</td></tr>\n",
       "\t<tr><td>vietnamese</td><td>No</td><td>No</td><td>No</td><td>No</td><td>No</td><td>No</td><td>No</td><td>No</td><td>No</td><td>⋯</td><td>No</td><td>No</td><td>No </td><td>No</td><td>Yes</td><td>No</td><td>No</td><td>No </td><td>No</td><td>No</td></tr>\n",
       "\t<tr><td>vietnamese</td><td>No</td><td>No</td><td>No</td><td>No</td><td>No</td><td>No</td><td>No</td><td>No</td><td>No</td><td>⋯</td><td>No</td><td>No</td><td>No </td><td>No</td><td>No </td><td>No</td><td>No</td><td>No </td><td>No</td><td>No</td></tr>\n",
       "\t<tr><td>vietnamese</td><td>No</td><td>No</td><td>No</td><td>No</td><td>No</td><td>No</td><td>No</td><td>No</td><td>No</td><td>⋯</td><td>No</td><td>No</td><td>No </td><td>No</td><td>No </td><td>No</td><td>No</td><td>No </td><td>No</td><td>No</td></tr>\n",
       "\t<tr><td>vietnamese</td><td>No</td><td>No</td><td>No</td><td>No</td><td>No</td><td>No</td><td>No</td><td>No</td><td>No</td><td>⋯</td><td>No</td><td>No</td><td>No </td><td>No</td><td>No </td><td>No</td><td>No</td><td>No </td><td>No</td><td>No</td></tr>\n",
       "\t<tr><td>vietnamese</td><td>No</td><td>No</td><td>No</td><td>No</td><td>No</td><td>No</td><td>No</td><td>No</td><td>No</td><td>⋯</td><td>No</td><td>No</td><td>No </td><td>No</td><td>Yes</td><td>No</td><td>No</td><td>No </td><td>No</td><td>No</td></tr>\n",
       "\t<tr><td>vietnamese</td><td>No</td><td>No</td><td>No</td><td>No</td><td>No</td><td>No</td><td>No</td><td>No</td><td>No</td><td>⋯</td><td>No</td><td>No</td><td>No </td><td>No</td><td>No </td><td>No</td><td>No</td><td>Yes</td><td>No</td><td>No</td></tr>\n",
       "\t<tr><td>vietnamese</td><td>No</td><td>No</td><td>No</td><td>No</td><td>No</td><td>No</td><td>No</td><td>No</td><td>No</td><td>⋯</td><td>No</td><td>No</td><td>No </td><td>No</td><td>No </td><td>No</td><td>No</td><td>No </td><td>No</td><td>No</td></tr>\n",
       "\t<tr><td>vietnamese</td><td>No</td><td>No</td><td>No</td><td>No</td><td>No</td><td>No</td><td>No</td><td>No</td><td>No</td><td>⋯</td><td>No</td><td>No</td><td>No </td><td>No</td><td>No </td><td>No</td><td>No</td><td>No </td><td>No</td><td>No</td></tr>\n",
       "\t<tr><td>vietnamese</td><td>No</td><td>No</td><td>No</td><td>No</td><td>No</td><td>No</td><td>No</td><td>No</td><td>No</td><td>⋯</td><td>No</td><td>No</td><td>No </td><td>No</td><td>No </td><td>No</td><td>No</td><td>No </td><td>No</td><td>No</td></tr>\n",
       "\t<tr><td>vietnamese</td><td>No</td><td>No</td><td>No</td><td>No</td><td>No</td><td>No</td><td>No</td><td>No</td><td>No</td><td>⋯</td><td>No</td><td>No</td><td>No </td><td>No</td><td>No </td><td>No</td><td>No</td><td>No </td><td>No</td><td>No</td></tr>\n",
       "\t<tr><td>vietnamese</td><td>No</td><td>No</td><td>No</td><td>No</td><td>No</td><td>No</td><td>No</td><td>No</td><td>No</td><td>⋯</td><td>No</td><td>No</td><td>No </td><td>No</td><td>No </td><td>No</td><td>No</td><td>No </td><td>No</td><td>No</td></tr>\n",
       "\t<tr><td>vietnamese</td><td>No</td><td>No</td><td>No</td><td>No</td><td>No</td><td>No</td><td>No</td><td>No</td><td>No</td><td>⋯</td><td>No</td><td>No</td><td>No </td><td>No</td><td>No </td><td>No</td><td>No</td><td>No </td><td>No</td><td>No</td></tr>\n",
       "\t<tr><td>vietnamese</td><td>No</td><td>No</td><td>No</td><td>No</td><td>No</td><td>No</td><td>No</td><td>No</td><td>No</td><td>⋯</td><td>No</td><td>No</td><td>Yes</td><td>No</td><td>No </td><td>No</td><td>No</td><td>No </td><td>No</td><td>No</td></tr>\n",
       "\t<tr><td>vietnamese</td><td>No</td><td>No</td><td>No</td><td>No</td><td>No</td><td>No</td><td>No</td><td>No</td><td>No</td><td>⋯</td><td>No</td><td>No</td><td>No </td><td>No</td><td>No </td><td>No</td><td>No</td><td>No </td><td>No</td><td>No</td></tr>\n",
       "\t<tr><td>vietnamese</td><td>No</td><td>No</td><td>No</td><td>No</td><td>No</td><td>No</td><td>No</td><td>No</td><td>No</td><td>⋯</td><td>No</td><td>No</td><td>No </td><td>No</td><td>Yes</td><td>No</td><td>No</td><td>No </td><td>No</td><td>No</td></tr>\n",
       "\t<tr><td>vietnamese</td><td>No</td><td>No</td><td>No</td><td>No</td><td>No</td><td>No</td><td>No</td><td>No</td><td>No</td><td>⋯</td><td>No</td><td>No</td><td>No </td><td>No</td><td>No </td><td>No</td><td>No</td><td>No </td><td>No</td><td>No</td></tr>\n",
       "\t<tr><td>⋮</td><td>⋮</td><td>⋮</td><td>⋮</td><td>⋮</td><td>⋮</td><td>⋮</td><td>⋮</td><td>⋮</td><td>⋮</td><td>⋱</td><td>⋮</td><td>⋮</td><td>⋮</td><td>⋮</td><td>⋮</td><td>⋮</td><td>⋮</td><td>⋮</td><td>⋮</td><td>⋮</td></tr>\n",
       "\t<tr><td>japan</td><td>No</td><td>No</td><td>No</td><td>No</td><td>No</td><td>No</td><td>No</td><td>No</td><td>No</td><td>⋯</td><td>No</td><td>No</td><td>No</td><td>No</td><td>Yes</td><td>No</td><td>No</td><td>No</td><td>No</td><td>No</td></tr>\n",
       "\t<tr><td>japan</td><td>No</td><td>No</td><td>No</td><td>No</td><td>No</td><td>No</td><td>No</td><td>No</td><td>No</td><td>⋯</td><td>No</td><td>No</td><td>No</td><td>No</td><td>No </td><td>No</td><td>No</td><td>No</td><td>No</td><td>No</td></tr>\n",
       "\t<tr><td>japan</td><td>No</td><td>No</td><td>No</td><td>No</td><td>No</td><td>No</td><td>No</td><td>No</td><td>No</td><td>⋯</td><td>No</td><td>No</td><td>No</td><td>No</td><td>Yes</td><td>No</td><td>No</td><td>No</td><td>No</td><td>No</td></tr>\n",
       "\t<tr><td>japan</td><td>No</td><td>No</td><td>No</td><td>No</td><td>No</td><td>No</td><td>No</td><td>No</td><td>No</td><td>⋯</td><td>No</td><td>No</td><td>No</td><td>No</td><td>No </td><td>No</td><td>No</td><td>No</td><td>No</td><td>No</td></tr>\n",
       "\t<tr><td>japan</td><td>No</td><td>No</td><td>No</td><td>No</td><td>No</td><td>No</td><td>No</td><td>No</td><td>No</td><td>⋯</td><td>No</td><td>No</td><td>No</td><td>No</td><td>Yes</td><td>No</td><td>No</td><td>No</td><td>No</td><td>No</td></tr>\n",
       "\t<tr><td>japan</td><td>No</td><td>No</td><td>No</td><td>No</td><td>No</td><td>No</td><td>No</td><td>No</td><td>No</td><td>⋯</td><td>No</td><td>No</td><td>No</td><td>No</td><td>No </td><td>No</td><td>No</td><td>No</td><td>No</td><td>No</td></tr>\n",
       "\t<tr><td>japan</td><td>No</td><td>No</td><td>No</td><td>No</td><td>No</td><td>No</td><td>No</td><td>No</td><td>No</td><td>⋯</td><td>No</td><td>No</td><td>No</td><td>No</td><td>No </td><td>No</td><td>No</td><td>No</td><td>No</td><td>No</td></tr>\n",
       "\t<tr><td>japan</td><td>No</td><td>No</td><td>No</td><td>No</td><td>No</td><td>No</td><td>No</td><td>No</td><td>No</td><td>⋯</td><td>No</td><td>No</td><td>No</td><td>No</td><td>No </td><td>No</td><td>No</td><td>No</td><td>No</td><td>No</td></tr>\n",
       "\t<tr><td>japan</td><td>No</td><td>No</td><td>No</td><td>No</td><td>No</td><td>No</td><td>No</td><td>No</td><td>No</td><td>⋯</td><td>No</td><td>No</td><td>No</td><td>No</td><td>No </td><td>No</td><td>No</td><td>No</td><td>No</td><td>No</td></tr>\n",
       "\t<tr><td>japan</td><td>No</td><td>No</td><td>No</td><td>No</td><td>No</td><td>No</td><td>No</td><td>No</td><td>No</td><td>⋯</td><td>No</td><td>No</td><td>No</td><td>No</td><td>No </td><td>No</td><td>No</td><td>No</td><td>No</td><td>No</td></tr>\n",
       "\t<tr><td>japan</td><td>No</td><td>No</td><td>No</td><td>No</td><td>No</td><td>No</td><td>No</td><td>No</td><td>No</td><td>⋯</td><td>No</td><td>No</td><td>No</td><td>No</td><td>No </td><td>No</td><td>No</td><td>No</td><td>No</td><td>No</td></tr>\n",
       "\t<tr><td>japan</td><td>No</td><td>No</td><td>No</td><td>No</td><td>No</td><td>No</td><td>No</td><td>No</td><td>No</td><td>⋯</td><td>No</td><td>No</td><td>No</td><td>No</td><td>No </td><td>No</td><td>No</td><td>No</td><td>No</td><td>No</td></tr>\n",
       "\t<tr><td>japan</td><td>No</td><td>No</td><td>No</td><td>No</td><td>No</td><td>No</td><td>No</td><td>No</td><td>No</td><td>⋯</td><td>No</td><td>No</td><td>No</td><td>No</td><td>No </td><td>No</td><td>No</td><td>No</td><td>No</td><td>No</td></tr>\n",
       "\t<tr><td>japan</td><td>No</td><td>No</td><td>No</td><td>No</td><td>No</td><td>No</td><td>No</td><td>No</td><td>No</td><td>⋯</td><td>No</td><td>No</td><td>No</td><td>No</td><td>Yes</td><td>No</td><td>No</td><td>No</td><td>No</td><td>No</td></tr>\n",
       "\t<tr><td>japan</td><td>No</td><td>No</td><td>No</td><td>No</td><td>No</td><td>No</td><td>No</td><td>No</td><td>No</td><td>⋯</td><td>No</td><td>No</td><td>No</td><td>No</td><td>Yes</td><td>No</td><td>No</td><td>No</td><td>No</td><td>No</td></tr>\n",
       "\t<tr><td>japan</td><td>No</td><td>No</td><td>No</td><td>No</td><td>No</td><td>No</td><td>No</td><td>No</td><td>No</td><td>⋯</td><td>No</td><td>No</td><td>No</td><td>No</td><td>No </td><td>No</td><td>No</td><td>No</td><td>No</td><td>No</td></tr>\n",
       "\t<tr><td>japan</td><td>No</td><td>No</td><td>No</td><td>No</td><td>No</td><td>No</td><td>No</td><td>No</td><td>No</td><td>⋯</td><td>No</td><td>No</td><td>No</td><td>No</td><td>No </td><td>No</td><td>No</td><td>No</td><td>No</td><td>No</td></tr>\n",
       "\t<tr><td>japan</td><td>No</td><td>No</td><td>No</td><td>No</td><td>No</td><td>No</td><td>No</td><td>No</td><td>No</td><td>⋯</td><td>No</td><td>No</td><td>No</td><td>No</td><td>No </td><td>No</td><td>No</td><td>No</td><td>No</td><td>No</td></tr>\n",
       "\t<tr><td>japan</td><td>No</td><td>No</td><td>No</td><td>No</td><td>No</td><td>No</td><td>No</td><td>No</td><td>No</td><td>⋯</td><td>No</td><td>No</td><td>No</td><td>No</td><td>No </td><td>No</td><td>No</td><td>No</td><td>No</td><td>No</td></tr>\n",
       "\t<tr><td>japan</td><td>No</td><td>No</td><td>No</td><td>No</td><td>No</td><td>No</td><td>No</td><td>No</td><td>No</td><td>⋯</td><td>No</td><td>No</td><td>No</td><td>No</td><td>No </td><td>No</td><td>No</td><td>No</td><td>No</td><td>No</td></tr>\n",
       "\t<tr><td>japan</td><td>No</td><td>No</td><td>No</td><td>No</td><td>No</td><td>No</td><td>No</td><td>No</td><td>No</td><td>⋯</td><td>No</td><td>No</td><td>No</td><td>No</td><td>No </td><td>No</td><td>No</td><td>No</td><td>No</td><td>No</td></tr>\n",
       "\t<tr><td>japan</td><td>No</td><td>No</td><td>No</td><td>No</td><td>No</td><td>No</td><td>No</td><td>No</td><td>No</td><td>⋯</td><td>No</td><td>No</td><td>No</td><td>No</td><td>No </td><td>No</td><td>No</td><td>No</td><td>No</td><td>No</td></tr>\n",
       "\t<tr><td>japan</td><td>No</td><td>No</td><td>No</td><td>No</td><td>No</td><td>No</td><td>No</td><td>No</td><td>No</td><td>⋯</td><td>No</td><td>No</td><td>No</td><td>No</td><td>No </td><td>No</td><td>No</td><td>No</td><td>No</td><td>No</td></tr>\n",
       "\t<tr><td>japan</td><td>No</td><td>No</td><td>No</td><td>No</td><td>No</td><td>No</td><td>No</td><td>No</td><td>No</td><td>⋯</td><td>No</td><td>No</td><td>No</td><td>No</td><td>Yes</td><td>No</td><td>No</td><td>No</td><td>No</td><td>No</td></tr>\n",
       "\t<tr><td>japan</td><td>No</td><td>No</td><td>No</td><td>No</td><td>No</td><td>No</td><td>No</td><td>No</td><td>No</td><td>⋯</td><td>No</td><td>No</td><td>No</td><td>No</td><td>No </td><td>No</td><td>No</td><td>No</td><td>No</td><td>No</td></tr>\n",
       "\t<tr><td>japan</td><td>No</td><td>No</td><td>No</td><td>No</td><td>No</td><td>No</td><td>No</td><td>No</td><td>No</td><td>⋯</td><td>No</td><td>No</td><td>No</td><td>No</td><td>No </td><td>No</td><td>No</td><td>No</td><td>No</td><td>No</td></tr>\n",
       "\t<tr><td>japan</td><td>No</td><td>No</td><td>No</td><td>No</td><td>No</td><td>No</td><td>No</td><td>No</td><td>No</td><td>⋯</td><td>No</td><td>No</td><td>No</td><td>No</td><td>No </td><td>No</td><td>No</td><td>No</td><td>No</td><td>No</td></tr>\n",
       "\t<tr><td>japan</td><td>No</td><td>No</td><td>No</td><td>No</td><td>No</td><td>No</td><td>No</td><td>No</td><td>No</td><td>⋯</td><td>No</td><td>No</td><td>No</td><td>No</td><td>No </td><td>No</td><td>No</td><td>No</td><td>No</td><td>No</td></tr>\n",
       "\t<tr><td>japan</td><td>No</td><td>No</td><td>No</td><td>No</td><td>No</td><td>No</td><td>No</td><td>No</td><td>No</td><td>⋯</td><td>No</td><td>No</td><td>No</td><td>No</td><td>No </td><td>No</td><td>No</td><td>No</td><td>No</td><td>No</td></tr>\n",
       "\t<tr><td>japan</td><td>No</td><td>No</td><td>No</td><td>No</td><td>No</td><td>No</td><td>No</td><td>No</td><td>No</td><td>⋯</td><td>No</td><td>No</td><td>No</td><td>No</td><td>No </td><td>No</td><td>No</td><td>No</td><td>No</td><td>No</td></tr>\n",
       "</tbody>\n",
       "</table>\n"
      ],
      "text/latex": [
       "A data.frame: 57691 × 384\n",
       "\\begin{tabular}{lllllllllllllllllllll}\n",
       " cuisine & almond & angelica & anise & anise\\_seed & apple & apple\\_brandy & apricot & armagnac & artemisia & ⋯ & whiskey & white\\_bread & white\\_wine & whole\\_grain\\_wheat\\_flour & wine & wood & yam & yeast & yogurt & zucchini\\\\\n",
       " <chr> & <fct> & <fct> & <fct> & <fct> & <fct> & <fct> & <fct> & <fct> & <fct> & ⋯ & <fct> & <fct> & <fct> & <fct> & <fct> & <fct> & <fct> & <fct> & <fct> & <fct>\\\\\n",
       "\\hline\n",
       "\t vietnamese & No & No & No & No & No & No & No & No & No & ⋯ & No & No & No  & No & No  & No & No & No  & No & No\\\\\n",
       "\t vietnamese & No & No & No & No & No & No & No & No & No & ⋯ & No & No & No  & No & No  & No & No & No  & No & No\\\\\n",
       "\t vietnamese & No & No & No & No & No & No & No & No & No & ⋯ & No & No & No  & No & No  & No & No & No  & No & No\\\\\n",
       "\t vietnamese & No & No & No & No & No & No & No & No & No & ⋯ & No & No & No  & No & No  & No & No & No  & No & No\\\\\n",
       "\t vietnamese & No & No & No & No & No & No & No & No & No & ⋯ & No & No & No  & No & No  & No & No & No  & No & No\\\\\n",
       "\t vietnamese & No & No & No & No & No & No & No & No & No & ⋯ & No & No & No  & No & No  & No & No & No  & No & No\\\\\n",
       "\t vietnamese & No & No & No & No & No & No & No & No & No & ⋯ & No & No & No  & No & No  & No & No & No  & No & No\\\\\n",
       "\t vietnamese & No & No & No & No & No & No & No & No & No & ⋯ & No & No & No  & No & No  & No & No & No  & No & No\\\\\n",
       "\t vietnamese & No & No & No & No & No & No & No & No & No & ⋯ & No & No & No  & No & No  & No & No & No  & No & No\\\\\n",
       "\t vietnamese & No & No & No & No & No & No & No & No & No & ⋯ & No & No & No  & No & No  & No & No & No  & No & No\\\\\n",
       "\t vietnamese & No & No & No & No & No & No & No & No & No & ⋯ & No & No & No  & No & No  & No & No & No  & No & No\\\\\n",
       "\t vietnamese & No & No & No & No & No & No & No & No & No & ⋯ & No & No & No  & No & No  & No & No & No  & No & No\\\\\n",
       "\t vietnamese & No & No & No & No & No & No & No & No & No & ⋯ & No & No & No  & No & No  & No & No & No  & No & No\\\\\n",
       "\t vietnamese & No & No & No & No & No & No & No & No & No & ⋯ & No & No & No  & No & Yes & No & No & No  & No & No\\\\\n",
       "\t vietnamese & No & No & No & No & No & No & No & No & No & ⋯ & No & No & No  & No & Yes & No & No & No  & No & No\\\\\n",
       "\t vietnamese & No & No & No & No & No & No & No & No & No & ⋯ & No & No & No  & No & No  & No & No & No  & No & No\\\\\n",
       "\t vietnamese & No & No & No & No & No & No & No & No & No & ⋯ & No & No & No  & No & No  & No & No & No  & No & No\\\\\n",
       "\t vietnamese & No & No & No & No & No & No & No & No & No & ⋯ & No & No & No  & No & No  & No & No & No  & No & No\\\\\n",
       "\t vietnamese & No & No & No & No & No & No & No & No & No & ⋯ & No & No & No  & No & Yes & No & No & No  & No & No\\\\\n",
       "\t vietnamese & No & No & No & No & No & No & No & No & No & ⋯ & No & No & No  & No & No  & No & No & Yes & No & No\\\\\n",
       "\t vietnamese & No & No & No & No & No & No & No & No & No & ⋯ & No & No & No  & No & No  & No & No & No  & No & No\\\\\n",
       "\t vietnamese & No & No & No & No & No & No & No & No & No & ⋯ & No & No & No  & No & No  & No & No & No  & No & No\\\\\n",
       "\t vietnamese & No & No & No & No & No & No & No & No & No & ⋯ & No & No & No  & No & No  & No & No & No  & No & No\\\\\n",
       "\t vietnamese & No & No & No & No & No & No & No & No & No & ⋯ & No & No & No  & No & No  & No & No & No  & No & No\\\\\n",
       "\t vietnamese & No & No & No & No & No & No & No & No & No & ⋯ & No & No & No  & No & No  & No & No & No  & No & No\\\\\n",
       "\t vietnamese & No & No & No & No & No & No & No & No & No & ⋯ & No & No & No  & No & No  & No & No & No  & No & No\\\\\n",
       "\t vietnamese & No & No & No & No & No & No & No & No & No & ⋯ & No & No & Yes & No & No  & No & No & No  & No & No\\\\\n",
       "\t vietnamese & No & No & No & No & No & No & No & No & No & ⋯ & No & No & No  & No & No  & No & No & No  & No & No\\\\\n",
       "\t vietnamese & No & No & No & No & No & No & No & No & No & ⋯ & No & No & No  & No & Yes & No & No & No  & No & No\\\\\n",
       "\t vietnamese & No & No & No & No & No & No & No & No & No & ⋯ & No & No & No  & No & No  & No & No & No  & No & No\\\\\n",
       "\t ⋮ & ⋮ & ⋮ & ⋮ & ⋮ & ⋮ & ⋮ & ⋮ & ⋮ & ⋮ & ⋱ & ⋮ & ⋮ & ⋮ & ⋮ & ⋮ & ⋮ & ⋮ & ⋮ & ⋮ & ⋮\\\\\n",
       "\t japan & No & No & No & No & No & No & No & No & No & ⋯ & No & No & No & No & Yes & No & No & No & No & No\\\\\n",
       "\t japan & No & No & No & No & No & No & No & No & No & ⋯ & No & No & No & No & No  & No & No & No & No & No\\\\\n",
       "\t japan & No & No & No & No & No & No & No & No & No & ⋯ & No & No & No & No & Yes & No & No & No & No & No\\\\\n",
       "\t japan & No & No & No & No & No & No & No & No & No & ⋯ & No & No & No & No & No  & No & No & No & No & No\\\\\n",
       "\t japan & No & No & No & No & No & No & No & No & No & ⋯ & No & No & No & No & Yes & No & No & No & No & No\\\\\n",
       "\t japan & No & No & No & No & No & No & No & No & No & ⋯ & No & No & No & No & No  & No & No & No & No & No\\\\\n",
       "\t japan & No & No & No & No & No & No & No & No & No & ⋯ & No & No & No & No & No  & No & No & No & No & No\\\\\n",
       "\t japan & No & No & No & No & No & No & No & No & No & ⋯ & No & No & No & No & No  & No & No & No & No & No\\\\\n",
       "\t japan & No & No & No & No & No & No & No & No & No & ⋯ & No & No & No & No & No  & No & No & No & No & No\\\\\n",
       "\t japan & No & No & No & No & No & No & No & No & No & ⋯ & No & No & No & No & No  & No & No & No & No & No\\\\\n",
       "\t japan & No & No & No & No & No & No & No & No & No & ⋯ & No & No & No & No & No  & No & No & No & No & No\\\\\n",
       "\t japan & No & No & No & No & No & No & No & No & No & ⋯ & No & No & No & No & No  & No & No & No & No & No\\\\\n",
       "\t japan & No & No & No & No & No & No & No & No & No & ⋯ & No & No & No & No & No  & No & No & No & No & No\\\\\n",
       "\t japan & No & No & No & No & No & No & No & No & No & ⋯ & No & No & No & No & Yes & No & No & No & No & No\\\\\n",
       "\t japan & No & No & No & No & No & No & No & No & No & ⋯ & No & No & No & No & Yes & No & No & No & No & No\\\\\n",
       "\t japan & No & No & No & No & No & No & No & No & No & ⋯ & No & No & No & No & No  & No & No & No & No & No\\\\\n",
       "\t japan & No & No & No & No & No & No & No & No & No & ⋯ & No & No & No & No & No  & No & No & No & No & No\\\\\n",
       "\t japan & No & No & No & No & No & No & No & No & No & ⋯ & No & No & No & No & No  & No & No & No & No & No\\\\\n",
       "\t japan & No & No & No & No & No & No & No & No & No & ⋯ & No & No & No & No & No  & No & No & No & No & No\\\\\n",
       "\t japan & No & No & No & No & No & No & No & No & No & ⋯ & No & No & No & No & No  & No & No & No & No & No\\\\\n",
       "\t japan & No & No & No & No & No & No & No & No & No & ⋯ & No & No & No & No & No  & No & No & No & No & No\\\\\n",
       "\t japan & No & No & No & No & No & No & No & No & No & ⋯ & No & No & No & No & No  & No & No & No & No & No\\\\\n",
       "\t japan & No & No & No & No & No & No & No & No & No & ⋯ & No & No & No & No & No  & No & No & No & No & No\\\\\n",
       "\t japan & No & No & No & No & No & No & No & No & No & ⋯ & No & No & No & No & Yes & No & No & No & No & No\\\\\n",
       "\t japan & No & No & No & No & No & No & No & No & No & ⋯ & No & No & No & No & No  & No & No & No & No & No\\\\\n",
       "\t japan & No & No & No & No & No & No & No & No & No & ⋯ & No & No & No & No & No  & No & No & No & No & No\\\\\n",
       "\t japan & No & No & No & No & No & No & No & No & No & ⋯ & No & No & No & No & No  & No & No & No & No & No\\\\\n",
       "\t japan & No & No & No & No & No & No & No & No & No & ⋯ & No & No & No & No & No  & No & No & No & No & No\\\\\n",
       "\t japan & No & No & No & No & No & No & No & No & No & ⋯ & No & No & No & No & No  & No & No & No & No & No\\\\\n",
       "\t japan & No & No & No & No & No & No & No & No & No & ⋯ & No & No & No & No & No  & No & No & No & No & No\\\\\n",
       "\\end{tabular}\n"
      ],
      "text/markdown": [
       "\n",
       "A data.frame: 57691 × 384\n",
       "\n",
       "| cuisine &lt;chr&gt; | almond &lt;fct&gt; | angelica &lt;fct&gt; | anise &lt;fct&gt; | anise_seed &lt;fct&gt; | apple &lt;fct&gt; | apple_brandy &lt;fct&gt; | apricot &lt;fct&gt; | armagnac &lt;fct&gt; | artemisia &lt;fct&gt; | ⋯ ⋯ | whiskey &lt;fct&gt; | white_bread &lt;fct&gt; | white_wine &lt;fct&gt; | whole_grain_wheat_flour &lt;fct&gt; | wine &lt;fct&gt; | wood &lt;fct&gt; | yam &lt;fct&gt; | yeast &lt;fct&gt; | yogurt &lt;fct&gt; | zucchini &lt;fct&gt; |\n",
       "|---|---|---|---|---|---|---|---|---|---|---|---|---|---|---|---|---|---|---|---|---|\n",
       "| vietnamese | No | No | No | No | No | No | No | No | No | ⋯ | No | No | No  | No | No  | No | No | No  | No | No |\n",
       "| vietnamese | No | No | No | No | No | No | No | No | No | ⋯ | No | No | No  | No | No  | No | No | No  | No | No |\n",
       "| vietnamese | No | No | No | No | No | No | No | No | No | ⋯ | No | No | No  | No | No  | No | No | No  | No | No |\n",
       "| vietnamese | No | No | No | No | No | No | No | No | No | ⋯ | No | No | No  | No | No  | No | No | No  | No | No |\n",
       "| vietnamese | No | No | No | No | No | No | No | No | No | ⋯ | No | No | No  | No | No  | No | No | No  | No | No |\n",
       "| vietnamese | No | No | No | No | No | No | No | No | No | ⋯ | No | No | No  | No | No  | No | No | No  | No | No |\n",
       "| vietnamese | No | No | No | No | No | No | No | No | No | ⋯ | No | No | No  | No | No  | No | No | No  | No | No |\n",
       "| vietnamese | No | No | No | No | No | No | No | No | No | ⋯ | No | No | No  | No | No  | No | No | No  | No | No |\n",
       "| vietnamese | No | No | No | No | No | No | No | No | No | ⋯ | No | No | No  | No | No  | No | No | No  | No | No |\n",
       "| vietnamese | No | No | No | No | No | No | No | No | No | ⋯ | No | No | No  | No | No  | No | No | No  | No | No |\n",
       "| vietnamese | No | No | No | No | No | No | No | No | No | ⋯ | No | No | No  | No | No  | No | No | No  | No | No |\n",
       "| vietnamese | No | No | No | No | No | No | No | No | No | ⋯ | No | No | No  | No | No  | No | No | No  | No | No |\n",
       "| vietnamese | No | No | No | No | No | No | No | No | No | ⋯ | No | No | No  | No | No  | No | No | No  | No | No |\n",
       "| vietnamese | No | No | No | No | No | No | No | No | No | ⋯ | No | No | No  | No | Yes | No | No | No  | No | No |\n",
       "| vietnamese | No | No | No | No | No | No | No | No | No | ⋯ | No | No | No  | No | Yes | No | No | No  | No | No |\n",
       "| vietnamese | No | No | No | No | No | No | No | No | No | ⋯ | No | No | No  | No | No  | No | No | No  | No | No |\n",
       "| vietnamese | No | No | No | No | No | No | No | No | No | ⋯ | No | No | No  | No | No  | No | No | No  | No | No |\n",
       "| vietnamese | No | No | No | No | No | No | No | No | No | ⋯ | No | No | No  | No | No  | No | No | No  | No | No |\n",
       "| vietnamese | No | No | No | No | No | No | No | No | No | ⋯ | No | No | No  | No | Yes | No | No | No  | No | No |\n",
       "| vietnamese | No | No | No | No | No | No | No | No | No | ⋯ | No | No | No  | No | No  | No | No | Yes | No | No |\n",
       "| vietnamese | No | No | No | No | No | No | No | No | No | ⋯ | No | No | No  | No | No  | No | No | No  | No | No |\n",
       "| vietnamese | No | No | No | No | No | No | No | No | No | ⋯ | No | No | No  | No | No  | No | No | No  | No | No |\n",
       "| vietnamese | No | No | No | No | No | No | No | No | No | ⋯ | No | No | No  | No | No  | No | No | No  | No | No |\n",
       "| vietnamese | No | No | No | No | No | No | No | No | No | ⋯ | No | No | No  | No | No  | No | No | No  | No | No |\n",
       "| vietnamese | No | No | No | No | No | No | No | No | No | ⋯ | No | No | No  | No | No  | No | No | No  | No | No |\n",
       "| vietnamese | No | No | No | No | No | No | No | No | No | ⋯ | No | No | No  | No | No  | No | No | No  | No | No |\n",
       "| vietnamese | No | No | No | No | No | No | No | No | No | ⋯ | No | No | Yes | No | No  | No | No | No  | No | No |\n",
       "| vietnamese | No | No | No | No | No | No | No | No | No | ⋯ | No | No | No  | No | No  | No | No | No  | No | No |\n",
       "| vietnamese | No | No | No | No | No | No | No | No | No | ⋯ | No | No | No  | No | Yes | No | No | No  | No | No |\n",
       "| vietnamese | No | No | No | No | No | No | No | No | No | ⋯ | No | No | No  | No | No  | No | No | No  | No | No |\n",
       "| ⋮ | ⋮ | ⋮ | ⋮ | ⋮ | ⋮ | ⋮ | ⋮ | ⋮ | ⋮ | ⋱ | ⋮ | ⋮ | ⋮ | ⋮ | ⋮ | ⋮ | ⋮ | ⋮ | ⋮ | ⋮ |\n",
       "| japan | No | No | No | No | No | No | No | No | No | ⋯ | No | No | No | No | Yes | No | No | No | No | No |\n",
       "| japan | No | No | No | No | No | No | No | No | No | ⋯ | No | No | No | No | No  | No | No | No | No | No |\n",
       "| japan | No | No | No | No | No | No | No | No | No | ⋯ | No | No | No | No | Yes | No | No | No | No | No |\n",
       "| japan | No | No | No | No | No | No | No | No | No | ⋯ | No | No | No | No | No  | No | No | No | No | No |\n",
       "| japan | No | No | No | No | No | No | No | No | No | ⋯ | No | No | No | No | Yes | No | No | No | No | No |\n",
       "| japan | No | No | No | No | No | No | No | No | No | ⋯ | No | No | No | No | No  | No | No | No | No | No |\n",
       "| japan | No | No | No | No | No | No | No | No | No | ⋯ | No | No | No | No | No  | No | No | No | No | No |\n",
       "| japan | No | No | No | No | No | No | No | No | No | ⋯ | No | No | No | No | No  | No | No | No | No | No |\n",
       "| japan | No | No | No | No | No | No | No | No | No | ⋯ | No | No | No | No | No  | No | No | No | No | No |\n",
       "| japan | No | No | No | No | No | No | No | No | No | ⋯ | No | No | No | No | No  | No | No | No | No | No |\n",
       "| japan | No | No | No | No | No | No | No | No | No | ⋯ | No | No | No | No | No  | No | No | No | No | No |\n",
       "| japan | No | No | No | No | No | No | No | No | No | ⋯ | No | No | No | No | No  | No | No | No | No | No |\n",
       "| japan | No | No | No | No | No | No | No | No | No | ⋯ | No | No | No | No | No  | No | No | No | No | No |\n",
       "| japan | No | No | No | No | No | No | No | No | No | ⋯ | No | No | No | No | Yes | No | No | No | No | No |\n",
       "| japan | No | No | No | No | No | No | No | No | No | ⋯ | No | No | No | No | Yes | No | No | No | No | No |\n",
       "| japan | No | No | No | No | No | No | No | No | No | ⋯ | No | No | No | No | No  | No | No | No | No | No |\n",
       "| japan | No | No | No | No | No | No | No | No | No | ⋯ | No | No | No | No | No  | No | No | No | No | No |\n",
       "| japan | No | No | No | No | No | No | No | No | No | ⋯ | No | No | No | No | No  | No | No | No | No | No |\n",
       "| japan | No | No | No | No | No | No | No | No | No | ⋯ | No | No | No | No | No  | No | No | No | No | No |\n",
       "| japan | No | No | No | No | No | No | No | No | No | ⋯ | No | No | No | No | No  | No | No | No | No | No |\n",
       "| japan | No | No | No | No | No | No | No | No | No | ⋯ | No | No | No | No | No  | No | No | No | No | No |\n",
       "| japan | No | No | No | No | No | No | No | No | No | ⋯ | No | No | No | No | No  | No | No | No | No | No |\n",
       "| japan | No | No | No | No | No | No | No | No | No | ⋯ | No | No | No | No | No  | No | No | No | No | No |\n",
       "| japan | No | No | No | No | No | No | No | No | No | ⋯ | No | No | No | No | Yes | No | No | No | No | No |\n",
       "| japan | No | No | No | No | No | No | No | No | No | ⋯ | No | No | No | No | No  | No | No | No | No | No |\n",
       "| japan | No | No | No | No | No | No | No | No | No | ⋯ | No | No | No | No | No  | No | No | No | No | No |\n",
       "| japan | No | No | No | No | No | No | No | No | No | ⋯ | No | No | No | No | No  | No | No | No | No | No |\n",
       "| japan | No | No | No | No | No | No | No | No | No | ⋯ | No | No | No | No | No  | No | No | No | No | No |\n",
       "| japan | No | No | No | No | No | No | No | No | No | ⋯ | No | No | No | No | No  | No | No | No | No | No |\n",
       "| japan | No | No | No | No | No | No | No | No | No | ⋯ | No | No | No | No | No  | No | No | No | No | No |\n",
       "\n"
      ],
      "text/plain": [
       "      cuisine    almond angelica anise anise_seed apple apple_brandy apricot\n",
       "1     vietnamese No     No       No    No         No    No           No     \n",
       "2     vietnamese No     No       No    No         No    No           No     \n",
       "3     vietnamese No     No       No    No         No    No           No     \n",
       "4     vietnamese No     No       No    No         No    No           No     \n",
       "5     vietnamese No     No       No    No         No    No           No     \n",
       "6     vietnamese No     No       No    No         No    No           No     \n",
       "7     vietnamese No     No       No    No         No    No           No     \n",
       "8     vietnamese No     No       No    No         No    No           No     \n",
       "9     vietnamese No     No       No    No         No    No           No     \n",
       "10    vietnamese No     No       No    No         No    No           No     \n",
       "11    vietnamese No     No       No    No         No    No           No     \n",
       "12    vietnamese No     No       No    No         No    No           No     \n",
       "13    vietnamese No     No       No    No         No    No           No     \n",
       "14    vietnamese No     No       No    No         No    No           No     \n",
       "15    vietnamese No     No       No    No         No    No           No     \n",
       "16    vietnamese No     No       No    No         No    No           No     \n",
       "17    vietnamese No     No       No    No         No    No           No     \n",
       "18    vietnamese No     No       No    No         No    No           No     \n",
       "19    vietnamese No     No       No    No         No    No           No     \n",
       "20    vietnamese No     No       No    No         No    No           No     \n",
       "21    vietnamese No     No       No    No         No    No           No     \n",
       "22    vietnamese No     No       No    No         No    No           No     \n",
       "23    vietnamese No     No       No    No         No    No           No     \n",
       "24    vietnamese No     No       No    No         No    No           No     \n",
       "25    vietnamese No     No       No    No         No    No           No     \n",
       "26    vietnamese No     No       No    No         No    No           No     \n",
       "27    vietnamese No     No       No    No         No    No           No     \n",
       "28    vietnamese No     No       No    No         No    No           No     \n",
       "29    vietnamese No     No       No    No         No    No           No     \n",
       "30    vietnamese No     No       No    No         No    No           No     \n",
       "⋮     ⋮          ⋮      ⋮        ⋮     ⋮          ⋮     ⋮            ⋮      \n",
       "57662 japan      No     No       No    No         No    No           No     \n",
       "57663 japan      No     No       No    No         No    No           No     \n",
       "57664 japan      No     No       No    No         No    No           No     \n",
       "57665 japan      No     No       No    No         No    No           No     \n",
       "57666 japan      No     No       No    No         No    No           No     \n",
       "57667 japan      No     No       No    No         No    No           No     \n",
       "57668 japan      No     No       No    No         No    No           No     \n",
       "57669 japan      No     No       No    No         No    No           No     \n",
       "57670 japan      No     No       No    No         No    No           No     \n",
       "57671 japan      No     No       No    No         No    No           No     \n",
       "57672 japan      No     No       No    No         No    No           No     \n",
       "57673 japan      No     No       No    No         No    No           No     \n",
       "57674 japan      No     No       No    No         No    No           No     \n",
       "57675 japan      No     No       No    No         No    No           No     \n",
       "57676 japan      No     No       No    No         No    No           No     \n",
       "57677 japan      No     No       No    No         No    No           No     \n",
       "57678 japan      No     No       No    No         No    No           No     \n",
       "57679 japan      No     No       No    No         No    No           No     \n",
       "57680 japan      No     No       No    No         No    No           No     \n",
       "57681 japan      No     No       No    No         No    No           No     \n",
       "57682 japan      No     No       No    No         No    No           No     \n",
       "57683 japan      No     No       No    No         No    No           No     \n",
       "57684 japan      No     No       No    No         No    No           No     \n",
       "57685 japan      No     No       No    No         No    No           No     \n",
       "57686 japan      No     No       No    No         No    No           No     \n",
       "57687 japan      No     No       No    No         No    No           No     \n",
       "57688 japan      No     No       No    No         No    No           No     \n",
       "57689 japan      No     No       No    No         No    No           No     \n",
       "57690 japan      No     No       No    No         No    No           No     \n",
       "57691 japan      No     No       No    No         No    No           No     \n",
       "      armagnac artemisia ⋯ whiskey white_bread white_wine\n",
       "1     No       No        ⋯ No      No          No        \n",
       "2     No       No        ⋯ No      No          No        \n",
       "3     No       No        ⋯ No      No          No        \n",
       "4     No       No        ⋯ No      No          No        \n",
       "5     No       No        ⋯ No      No          No        \n",
       "6     No       No        ⋯ No      No          No        \n",
       "7     No       No        ⋯ No      No          No        \n",
       "8     No       No        ⋯ No      No          No        \n",
       "9     No       No        ⋯ No      No          No        \n",
       "10    No       No        ⋯ No      No          No        \n",
       "11    No       No        ⋯ No      No          No        \n",
       "12    No       No        ⋯ No      No          No        \n",
       "13    No       No        ⋯ No      No          No        \n",
       "14    No       No        ⋯ No      No          No        \n",
       "15    No       No        ⋯ No      No          No        \n",
       "16    No       No        ⋯ No      No          No        \n",
       "17    No       No        ⋯ No      No          No        \n",
       "18    No       No        ⋯ No      No          No        \n",
       "19    No       No        ⋯ No      No          No        \n",
       "20    No       No        ⋯ No      No          No        \n",
       "21    No       No        ⋯ No      No          No        \n",
       "22    No       No        ⋯ No      No          No        \n",
       "23    No       No        ⋯ No      No          No        \n",
       "24    No       No        ⋯ No      No          No        \n",
       "25    No       No        ⋯ No      No          No        \n",
       "26    No       No        ⋯ No      No          No        \n",
       "27    No       No        ⋯ No      No          Yes       \n",
       "28    No       No        ⋯ No      No          No        \n",
       "29    No       No        ⋯ No      No          No        \n",
       "30    No       No        ⋯ No      No          No        \n",
       "⋮     ⋮        ⋮         ⋱ ⋮       ⋮           ⋮         \n",
       "57662 No       No        ⋯ No      No          No        \n",
       "57663 No       No        ⋯ No      No          No        \n",
       "57664 No       No        ⋯ No      No          No        \n",
       "57665 No       No        ⋯ No      No          No        \n",
       "57666 No       No        ⋯ No      No          No        \n",
       "57667 No       No        ⋯ No      No          No        \n",
       "57668 No       No        ⋯ No      No          No        \n",
       "57669 No       No        ⋯ No      No          No        \n",
       "57670 No       No        ⋯ No      No          No        \n",
       "57671 No       No        ⋯ No      No          No        \n",
       "57672 No       No        ⋯ No      No          No        \n",
       "57673 No       No        ⋯ No      No          No        \n",
       "57674 No       No        ⋯ No      No          No        \n",
       "57675 No       No        ⋯ No      No          No        \n",
       "57676 No       No        ⋯ No      No          No        \n",
       "57677 No       No        ⋯ No      No          No        \n",
       "57678 No       No        ⋯ No      No          No        \n",
       "57679 No       No        ⋯ No      No          No        \n",
       "57680 No       No        ⋯ No      No          No        \n",
       "57681 No       No        ⋯ No      No          No        \n",
       "57682 No       No        ⋯ No      No          No        \n",
       "57683 No       No        ⋯ No      No          No        \n",
       "57684 No       No        ⋯ No      No          No        \n",
       "57685 No       No        ⋯ No      No          No        \n",
       "57686 No       No        ⋯ No      No          No        \n",
       "57687 No       No        ⋯ No      No          No        \n",
       "57688 No       No        ⋯ No      No          No        \n",
       "57689 No       No        ⋯ No      No          No        \n",
       "57690 No       No        ⋯ No      No          No        \n",
       "57691 No       No        ⋯ No      No          No        \n",
       "      whole_grain_wheat_flour wine wood yam yeast yogurt zucchini\n",
       "1     No                      No   No   No  No    No     No      \n",
       "2     No                      No   No   No  No    No     No      \n",
       "3     No                      No   No   No  No    No     No      \n",
       "4     No                      No   No   No  No    No     No      \n",
       "5     No                      No   No   No  No    No     No      \n",
       "6     No                      No   No   No  No    No     No      \n",
       "7     No                      No   No   No  No    No     No      \n",
       "8     No                      No   No   No  No    No     No      \n",
       "9     No                      No   No   No  No    No     No      \n",
       "10    No                      No   No   No  No    No     No      \n",
       "11    No                      No   No   No  No    No     No      \n",
       "12    No                      No   No   No  No    No     No      \n",
       "13    No                      No   No   No  No    No     No      \n",
       "14    No                      Yes  No   No  No    No     No      \n",
       "15    No                      Yes  No   No  No    No     No      \n",
       "16    No                      No   No   No  No    No     No      \n",
       "17    No                      No   No   No  No    No     No      \n",
       "18    No                      No   No   No  No    No     No      \n",
       "19    No                      Yes  No   No  No    No     No      \n",
       "20    No                      No   No   No  Yes   No     No      \n",
       "21    No                      No   No   No  No    No     No      \n",
       "22    No                      No   No   No  No    No     No      \n",
       "23    No                      No   No   No  No    No     No      \n",
       "24    No                      No   No   No  No    No     No      \n",
       "25    No                      No   No   No  No    No     No      \n",
       "26    No                      No   No   No  No    No     No      \n",
       "27    No                      No   No   No  No    No     No      \n",
       "28    No                      No   No   No  No    No     No      \n",
       "29    No                      Yes  No   No  No    No     No      \n",
       "30    No                      No   No   No  No    No     No      \n",
       "⋮     ⋮                       ⋮    ⋮    ⋮   ⋮     ⋮      ⋮       \n",
       "57662 No                      Yes  No   No  No    No     No      \n",
       "57663 No                      No   No   No  No    No     No      \n",
       "57664 No                      Yes  No   No  No    No     No      \n",
       "57665 No                      No   No   No  No    No     No      \n",
       "57666 No                      Yes  No   No  No    No     No      \n",
       "57667 No                      No   No   No  No    No     No      \n",
       "57668 No                      No   No   No  No    No     No      \n",
       "57669 No                      No   No   No  No    No     No      \n",
       "57670 No                      No   No   No  No    No     No      \n",
       "57671 No                      No   No   No  No    No     No      \n",
       "57672 No                      No   No   No  No    No     No      \n",
       "57673 No                      No   No   No  No    No     No      \n",
       "57674 No                      No   No   No  No    No     No      \n",
       "57675 No                      Yes  No   No  No    No     No      \n",
       "57676 No                      Yes  No   No  No    No     No      \n",
       "57677 No                      No   No   No  No    No     No      \n",
       "57678 No                      No   No   No  No    No     No      \n",
       "57679 No                      No   No   No  No    No     No      \n",
       "57680 No                      No   No   No  No    No     No      \n",
       "57681 No                      No   No   No  No    No     No      \n",
       "57682 No                      No   No   No  No    No     No      \n",
       "57683 No                      No   No   No  No    No     No      \n",
       "57684 No                      No   No   No  No    No     No      \n",
       "57685 No                      Yes  No   No  No    No     No      \n",
       "57686 No                      No   No   No  No    No     No      \n",
       "57687 No                      No   No   No  No    No     No      \n",
       "57688 No                      No   No   No  No    No     No      \n",
       "57689 No                      No   No   No  No    No     No      \n",
       "57690 No                      No   No   No  No    No     No      \n",
       "57691 No                      No   No   No  No    No     No      "
      ]
     },
     "metadata": {},
     "output_type": "display_data"
    }
   ],
   "source": [
    "recipes$cuisine <- tolower(as.character(recipes$cuisine))\n",
    "\n",
    "recipes"
   ]
  },
  {
   "cell_type": "markdown",
   "metadata": {
    "button": false,
    "deletable": true,
    "new_sheet": false,
    "run_control": {
     "read_only": false
    }
   },
   "source": [
    "Make the cuisine names consistent."
   ]
  },
  {
   "cell_type": "code",
   "execution_count": 10,
   "metadata": {
    "button": false,
    "collapsed": false,
    "deletable": true,
    "jupyter": {
     "outputs_hidden": false
    },
    "new_sheet": false,
    "run_control": {
     "read_only": false
    }
   },
   "outputs": [
    {
     "data": {
      "text/html": [
       "<table>\n",
       "<caption>A data.frame: 57691 × 384</caption>\n",
       "<thead>\n",
       "\t<tr><th scope=col>cuisine</th><th scope=col>almond</th><th scope=col>angelica</th><th scope=col>anise</th><th scope=col>anise_seed</th><th scope=col>apple</th><th scope=col>apple_brandy</th><th scope=col>apricot</th><th scope=col>armagnac</th><th scope=col>artemisia</th><th scope=col>⋯</th><th scope=col>whiskey</th><th scope=col>white_bread</th><th scope=col>white_wine</th><th scope=col>whole_grain_wheat_flour</th><th scope=col>wine</th><th scope=col>wood</th><th scope=col>yam</th><th scope=col>yeast</th><th scope=col>yogurt</th><th scope=col>zucchini</th></tr>\n",
       "\t<tr><th scope=col>&lt;chr&gt;</th><th scope=col>&lt;fct&gt;</th><th scope=col>&lt;fct&gt;</th><th scope=col>&lt;fct&gt;</th><th scope=col>&lt;fct&gt;</th><th scope=col>&lt;fct&gt;</th><th scope=col>&lt;fct&gt;</th><th scope=col>&lt;fct&gt;</th><th scope=col>&lt;fct&gt;</th><th scope=col>&lt;fct&gt;</th><th scope=col>⋯</th><th scope=col>&lt;fct&gt;</th><th scope=col>&lt;fct&gt;</th><th scope=col>&lt;fct&gt;</th><th scope=col>&lt;fct&gt;</th><th scope=col>&lt;fct&gt;</th><th scope=col>&lt;fct&gt;</th><th scope=col>&lt;fct&gt;</th><th scope=col>&lt;fct&gt;</th><th scope=col>&lt;fct&gt;</th><th scope=col>&lt;fct&gt;</th></tr>\n",
       "</thead>\n",
       "<tbody>\n",
       "\t<tr><td>vietnamese</td><td>No</td><td>No</td><td>No</td><td>No</td><td>No</td><td>No</td><td>No</td><td>No</td><td>No</td><td>⋯</td><td>No</td><td>No</td><td>No </td><td>No</td><td>No </td><td>No</td><td>No</td><td>No </td><td>No</td><td>No</td></tr>\n",
       "\t<tr><td>vietnamese</td><td>No</td><td>No</td><td>No</td><td>No</td><td>No</td><td>No</td><td>No</td><td>No</td><td>No</td><td>⋯</td><td>No</td><td>No</td><td>No </td><td>No</td><td>No </td><td>No</td><td>No</td><td>No </td><td>No</td><td>No</td></tr>\n",
       "\t<tr><td>vietnamese</td><td>No</td><td>No</td><td>No</td><td>No</td><td>No</td><td>No</td><td>No</td><td>No</td><td>No</td><td>⋯</td><td>No</td><td>No</td><td>No </td><td>No</td><td>No </td><td>No</td><td>No</td><td>No </td><td>No</td><td>No</td></tr>\n",
       "\t<tr><td>vietnamese</td><td>No</td><td>No</td><td>No</td><td>No</td><td>No</td><td>No</td><td>No</td><td>No</td><td>No</td><td>⋯</td><td>No</td><td>No</td><td>No </td><td>No</td><td>No </td><td>No</td><td>No</td><td>No </td><td>No</td><td>No</td></tr>\n",
       "\t<tr><td>vietnamese</td><td>No</td><td>No</td><td>No</td><td>No</td><td>No</td><td>No</td><td>No</td><td>No</td><td>No</td><td>⋯</td><td>No</td><td>No</td><td>No </td><td>No</td><td>No </td><td>No</td><td>No</td><td>No </td><td>No</td><td>No</td></tr>\n",
       "\t<tr><td>vietnamese</td><td>No</td><td>No</td><td>No</td><td>No</td><td>No</td><td>No</td><td>No</td><td>No</td><td>No</td><td>⋯</td><td>No</td><td>No</td><td>No </td><td>No</td><td>No </td><td>No</td><td>No</td><td>No </td><td>No</td><td>No</td></tr>\n",
       "\t<tr><td>vietnamese</td><td>No</td><td>No</td><td>No</td><td>No</td><td>No</td><td>No</td><td>No</td><td>No</td><td>No</td><td>⋯</td><td>No</td><td>No</td><td>No </td><td>No</td><td>No </td><td>No</td><td>No</td><td>No </td><td>No</td><td>No</td></tr>\n",
       "\t<tr><td>vietnamese</td><td>No</td><td>No</td><td>No</td><td>No</td><td>No</td><td>No</td><td>No</td><td>No</td><td>No</td><td>⋯</td><td>No</td><td>No</td><td>No </td><td>No</td><td>No </td><td>No</td><td>No</td><td>No </td><td>No</td><td>No</td></tr>\n",
       "\t<tr><td>vietnamese</td><td>No</td><td>No</td><td>No</td><td>No</td><td>No</td><td>No</td><td>No</td><td>No</td><td>No</td><td>⋯</td><td>No</td><td>No</td><td>No </td><td>No</td><td>No </td><td>No</td><td>No</td><td>No </td><td>No</td><td>No</td></tr>\n",
       "\t<tr><td>vietnamese</td><td>No</td><td>No</td><td>No</td><td>No</td><td>No</td><td>No</td><td>No</td><td>No</td><td>No</td><td>⋯</td><td>No</td><td>No</td><td>No </td><td>No</td><td>No </td><td>No</td><td>No</td><td>No </td><td>No</td><td>No</td></tr>\n",
       "\t<tr><td>vietnamese</td><td>No</td><td>No</td><td>No</td><td>No</td><td>No</td><td>No</td><td>No</td><td>No</td><td>No</td><td>⋯</td><td>No</td><td>No</td><td>No </td><td>No</td><td>No </td><td>No</td><td>No</td><td>No </td><td>No</td><td>No</td></tr>\n",
       "\t<tr><td>vietnamese</td><td>No</td><td>No</td><td>No</td><td>No</td><td>No</td><td>No</td><td>No</td><td>No</td><td>No</td><td>⋯</td><td>No</td><td>No</td><td>No </td><td>No</td><td>No </td><td>No</td><td>No</td><td>No </td><td>No</td><td>No</td></tr>\n",
       "\t<tr><td>vietnamese</td><td>No</td><td>No</td><td>No</td><td>No</td><td>No</td><td>No</td><td>No</td><td>No</td><td>No</td><td>⋯</td><td>No</td><td>No</td><td>No </td><td>No</td><td>No </td><td>No</td><td>No</td><td>No </td><td>No</td><td>No</td></tr>\n",
       "\t<tr><td>vietnamese</td><td>No</td><td>No</td><td>No</td><td>No</td><td>No</td><td>No</td><td>No</td><td>No</td><td>No</td><td>⋯</td><td>No</td><td>No</td><td>No </td><td>No</td><td>Yes</td><td>No</td><td>No</td><td>No </td><td>No</td><td>No</td></tr>\n",
       "\t<tr><td>vietnamese</td><td>No</td><td>No</td><td>No</td><td>No</td><td>No</td><td>No</td><td>No</td><td>No</td><td>No</td><td>⋯</td><td>No</td><td>No</td><td>No </td><td>No</td><td>Yes</td><td>No</td><td>No</td><td>No </td><td>No</td><td>No</td></tr>\n",
       "\t<tr><td>vietnamese</td><td>No</td><td>No</td><td>No</td><td>No</td><td>No</td><td>No</td><td>No</td><td>No</td><td>No</td><td>⋯</td><td>No</td><td>No</td><td>No </td><td>No</td><td>No </td><td>No</td><td>No</td><td>No </td><td>No</td><td>No</td></tr>\n",
       "\t<tr><td>vietnamese</td><td>No</td><td>No</td><td>No</td><td>No</td><td>No</td><td>No</td><td>No</td><td>No</td><td>No</td><td>⋯</td><td>No</td><td>No</td><td>No </td><td>No</td><td>No </td><td>No</td><td>No</td><td>No </td><td>No</td><td>No</td></tr>\n",
       "\t<tr><td>vietnamese</td><td>No</td><td>No</td><td>No</td><td>No</td><td>No</td><td>No</td><td>No</td><td>No</td><td>No</td><td>⋯</td><td>No</td><td>No</td><td>No </td><td>No</td><td>No </td><td>No</td><td>No</td><td>No </td><td>No</td><td>No</td></tr>\n",
       "\t<tr><td>vietnamese</td><td>No</td><td>No</td><td>No</td><td>No</td><td>No</td><td>No</td><td>No</td><td>No</td><td>No</td><td>⋯</td><td>No</td><td>No</td><td>No </td><td>No</td><td>Yes</td><td>No</td><td>No</td><td>No </td><td>No</td><td>No</td></tr>\n",
       "\t<tr><td>vietnamese</td><td>No</td><td>No</td><td>No</td><td>No</td><td>No</td><td>No</td><td>No</td><td>No</td><td>No</td><td>⋯</td><td>No</td><td>No</td><td>No </td><td>No</td><td>No </td><td>No</td><td>No</td><td>Yes</td><td>No</td><td>No</td></tr>\n",
       "\t<tr><td>vietnamese</td><td>No</td><td>No</td><td>No</td><td>No</td><td>No</td><td>No</td><td>No</td><td>No</td><td>No</td><td>⋯</td><td>No</td><td>No</td><td>No </td><td>No</td><td>No </td><td>No</td><td>No</td><td>No </td><td>No</td><td>No</td></tr>\n",
       "\t<tr><td>vietnamese</td><td>No</td><td>No</td><td>No</td><td>No</td><td>No</td><td>No</td><td>No</td><td>No</td><td>No</td><td>⋯</td><td>No</td><td>No</td><td>No </td><td>No</td><td>No </td><td>No</td><td>No</td><td>No </td><td>No</td><td>No</td></tr>\n",
       "\t<tr><td>vietnamese</td><td>No</td><td>No</td><td>No</td><td>No</td><td>No</td><td>No</td><td>No</td><td>No</td><td>No</td><td>⋯</td><td>No</td><td>No</td><td>No </td><td>No</td><td>No </td><td>No</td><td>No</td><td>No </td><td>No</td><td>No</td></tr>\n",
       "\t<tr><td>vietnamese</td><td>No</td><td>No</td><td>No</td><td>No</td><td>No</td><td>No</td><td>No</td><td>No</td><td>No</td><td>⋯</td><td>No</td><td>No</td><td>No </td><td>No</td><td>No </td><td>No</td><td>No</td><td>No </td><td>No</td><td>No</td></tr>\n",
       "\t<tr><td>vietnamese</td><td>No</td><td>No</td><td>No</td><td>No</td><td>No</td><td>No</td><td>No</td><td>No</td><td>No</td><td>⋯</td><td>No</td><td>No</td><td>No </td><td>No</td><td>No </td><td>No</td><td>No</td><td>No </td><td>No</td><td>No</td></tr>\n",
       "\t<tr><td>vietnamese</td><td>No</td><td>No</td><td>No</td><td>No</td><td>No</td><td>No</td><td>No</td><td>No</td><td>No</td><td>⋯</td><td>No</td><td>No</td><td>No </td><td>No</td><td>No </td><td>No</td><td>No</td><td>No </td><td>No</td><td>No</td></tr>\n",
       "\t<tr><td>vietnamese</td><td>No</td><td>No</td><td>No</td><td>No</td><td>No</td><td>No</td><td>No</td><td>No</td><td>No</td><td>⋯</td><td>No</td><td>No</td><td>Yes</td><td>No</td><td>No </td><td>No</td><td>No</td><td>No </td><td>No</td><td>No</td></tr>\n",
       "\t<tr><td>vietnamese</td><td>No</td><td>No</td><td>No</td><td>No</td><td>No</td><td>No</td><td>No</td><td>No</td><td>No</td><td>⋯</td><td>No</td><td>No</td><td>No </td><td>No</td><td>No </td><td>No</td><td>No</td><td>No </td><td>No</td><td>No</td></tr>\n",
       "\t<tr><td>vietnamese</td><td>No</td><td>No</td><td>No</td><td>No</td><td>No</td><td>No</td><td>No</td><td>No</td><td>No</td><td>⋯</td><td>No</td><td>No</td><td>No </td><td>No</td><td>Yes</td><td>No</td><td>No</td><td>No </td><td>No</td><td>No</td></tr>\n",
       "\t<tr><td>vietnamese</td><td>No</td><td>No</td><td>No</td><td>No</td><td>No</td><td>No</td><td>No</td><td>No</td><td>No</td><td>⋯</td><td>No</td><td>No</td><td>No </td><td>No</td><td>No </td><td>No</td><td>No</td><td>No </td><td>No</td><td>No</td></tr>\n",
       "\t<tr><td>⋮</td><td>⋮</td><td>⋮</td><td>⋮</td><td>⋮</td><td>⋮</td><td>⋮</td><td>⋮</td><td>⋮</td><td>⋮</td><td>⋱</td><td>⋮</td><td>⋮</td><td>⋮</td><td>⋮</td><td>⋮</td><td>⋮</td><td>⋮</td><td>⋮</td><td>⋮</td><td>⋮</td></tr>\n",
       "\t<tr><td>japanese</td><td>No</td><td>No</td><td>No</td><td>No</td><td>No</td><td>No</td><td>No</td><td>No</td><td>No</td><td>⋯</td><td>No</td><td>No</td><td>No</td><td>No</td><td>Yes</td><td>No</td><td>No</td><td>No</td><td>No</td><td>No</td></tr>\n",
       "\t<tr><td>japanese</td><td>No</td><td>No</td><td>No</td><td>No</td><td>No</td><td>No</td><td>No</td><td>No</td><td>No</td><td>⋯</td><td>No</td><td>No</td><td>No</td><td>No</td><td>No </td><td>No</td><td>No</td><td>No</td><td>No</td><td>No</td></tr>\n",
       "\t<tr><td>japanese</td><td>No</td><td>No</td><td>No</td><td>No</td><td>No</td><td>No</td><td>No</td><td>No</td><td>No</td><td>⋯</td><td>No</td><td>No</td><td>No</td><td>No</td><td>Yes</td><td>No</td><td>No</td><td>No</td><td>No</td><td>No</td></tr>\n",
       "\t<tr><td>japanese</td><td>No</td><td>No</td><td>No</td><td>No</td><td>No</td><td>No</td><td>No</td><td>No</td><td>No</td><td>⋯</td><td>No</td><td>No</td><td>No</td><td>No</td><td>No </td><td>No</td><td>No</td><td>No</td><td>No</td><td>No</td></tr>\n",
       "\t<tr><td>japanese</td><td>No</td><td>No</td><td>No</td><td>No</td><td>No</td><td>No</td><td>No</td><td>No</td><td>No</td><td>⋯</td><td>No</td><td>No</td><td>No</td><td>No</td><td>Yes</td><td>No</td><td>No</td><td>No</td><td>No</td><td>No</td></tr>\n",
       "\t<tr><td>japanese</td><td>No</td><td>No</td><td>No</td><td>No</td><td>No</td><td>No</td><td>No</td><td>No</td><td>No</td><td>⋯</td><td>No</td><td>No</td><td>No</td><td>No</td><td>No </td><td>No</td><td>No</td><td>No</td><td>No</td><td>No</td></tr>\n",
       "\t<tr><td>japanese</td><td>No</td><td>No</td><td>No</td><td>No</td><td>No</td><td>No</td><td>No</td><td>No</td><td>No</td><td>⋯</td><td>No</td><td>No</td><td>No</td><td>No</td><td>No </td><td>No</td><td>No</td><td>No</td><td>No</td><td>No</td></tr>\n",
       "\t<tr><td>japanese</td><td>No</td><td>No</td><td>No</td><td>No</td><td>No</td><td>No</td><td>No</td><td>No</td><td>No</td><td>⋯</td><td>No</td><td>No</td><td>No</td><td>No</td><td>No </td><td>No</td><td>No</td><td>No</td><td>No</td><td>No</td></tr>\n",
       "\t<tr><td>japanese</td><td>No</td><td>No</td><td>No</td><td>No</td><td>No</td><td>No</td><td>No</td><td>No</td><td>No</td><td>⋯</td><td>No</td><td>No</td><td>No</td><td>No</td><td>No </td><td>No</td><td>No</td><td>No</td><td>No</td><td>No</td></tr>\n",
       "\t<tr><td>japanese</td><td>No</td><td>No</td><td>No</td><td>No</td><td>No</td><td>No</td><td>No</td><td>No</td><td>No</td><td>⋯</td><td>No</td><td>No</td><td>No</td><td>No</td><td>No </td><td>No</td><td>No</td><td>No</td><td>No</td><td>No</td></tr>\n",
       "\t<tr><td>japanese</td><td>No</td><td>No</td><td>No</td><td>No</td><td>No</td><td>No</td><td>No</td><td>No</td><td>No</td><td>⋯</td><td>No</td><td>No</td><td>No</td><td>No</td><td>No </td><td>No</td><td>No</td><td>No</td><td>No</td><td>No</td></tr>\n",
       "\t<tr><td>japanese</td><td>No</td><td>No</td><td>No</td><td>No</td><td>No</td><td>No</td><td>No</td><td>No</td><td>No</td><td>⋯</td><td>No</td><td>No</td><td>No</td><td>No</td><td>No </td><td>No</td><td>No</td><td>No</td><td>No</td><td>No</td></tr>\n",
       "\t<tr><td>japanese</td><td>No</td><td>No</td><td>No</td><td>No</td><td>No</td><td>No</td><td>No</td><td>No</td><td>No</td><td>⋯</td><td>No</td><td>No</td><td>No</td><td>No</td><td>No </td><td>No</td><td>No</td><td>No</td><td>No</td><td>No</td></tr>\n",
       "\t<tr><td>japanese</td><td>No</td><td>No</td><td>No</td><td>No</td><td>No</td><td>No</td><td>No</td><td>No</td><td>No</td><td>⋯</td><td>No</td><td>No</td><td>No</td><td>No</td><td>Yes</td><td>No</td><td>No</td><td>No</td><td>No</td><td>No</td></tr>\n",
       "\t<tr><td>japanese</td><td>No</td><td>No</td><td>No</td><td>No</td><td>No</td><td>No</td><td>No</td><td>No</td><td>No</td><td>⋯</td><td>No</td><td>No</td><td>No</td><td>No</td><td>Yes</td><td>No</td><td>No</td><td>No</td><td>No</td><td>No</td></tr>\n",
       "\t<tr><td>japanese</td><td>No</td><td>No</td><td>No</td><td>No</td><td>No</td><td>No</td><td>No</td><td>No</td><td>No</td><td>⋯</td><td>No</td><td>No</td><td>No</td><td>No</td><td>No </td><td>No</td><td>No</td><td>No</td><td>No</td><td>No</td></tr>\n",
       "\t<tr><td>japanese</td><td>No</td><td>No</td><td>No</td><td>No</td><td>No</td><td>No</td><td>No</td><td>No</td><td>No</td><td>⋯</td><td>No</td><td>No</td><td>No</td><td>No</td><td>No </td><td>No</td><td>No</td><td>No</td><td>No</td><td>No</td></tr>\n",
       "\t<tr><td>japanese</td><td>No</td><td>No</td><td>No</td><td>No</td><td>No</td><td>No</td><td>No</td><td>No</td><td>No</td><td>⋯</td><td>No</td><td>No</td><td>No</td><td>No</td><td>No </td><td>No</td><td>No</td><td>No</td><td>No</td><td>No</td></tr>\n",
       "\t<tr><td>japanese</td><td>No</td><td>No</td><td>No</td><td>No</td><td>No</td><td>No</td><td>No</td><td>No</td><td>No</td><td>⋯</td><td>No</td><td>No</td><td>No</td><td>No</td><td>No </td><td>No</td><td>No</td><td>No</td><td>No</td><td>No</td></tr>\n",
       "\t<tr><td>japanese</td><td>No</td><td>No</td><td>No</td><td>No</td><td>No</td><td>No</td><td>No</td><td>No</td><td>No</td><td>⋯</td><td>No</td><td>No</td><td>No</td><td>No</td><td>No </td><td>No</td><td>No</td><td>No</td><td>No</td><td>No</td></tr>\n",
       "\t<tr><td>japanese</td><td>No</td><td>No</td><td>No</td><td>No</td><td>No</td><td>No</td><td>No</td><td>No</td><td>No</td><td>⋯</td><td>No</td><td>No</td><td>No</td><td>No</td><td>No </td><td>No</td><td>No</td><td>No</td><td>No</td><td>No</td></tr>\n",
       "\t<tr><td>japanese</td><td>No</td><td>No</td><td>No</td><td>No</td><td>No</td><td>No</td><td>No</td><td>No</td><td>No</td><td>⋯</td><td>No</td><td>No</td><td>No</td><td>No</td><td>No </td><td>No</td><td>No</td><td>No</td><td>No</td><td>No</td></tr>\n",
       "\t<tr><td>japanese</td><td>No</td><td>No</td><td>No</td><td>No</td><td>No</td><td>No</td><td>No</td><td>No</td><td>No</td><td>⋯</td><td>No</td><td>No</td><td>No</td><td>No</td><td>No </td><td>No</td><td>No</td><td>No</td><td>No</td><td>No</td></tr>\n",
       "\t<tr><td>japanese</td><td>No</td><td>No</td><td>No</td><td>No</td><td>No</td><td>No</td><td>No</td><td>No</td><td>No</td><td>⋯</td><td>No</td><td>No</td><td>No</td><td>No</td><td>Yes</td><td>No</td><td>No</td><td>No</td><td>No</td><td>No</td></tr>\n",
       "\t<tr><td>japanese</td><td>No</td><td>No</td><td>No</td><td>No</td><td>No</td><td>No</td><td>No</td><td>No</td><td>No</td><td>⋯</td><td>No</td><td>No</td><td>No</td><td>No</td><td>No </td><td>No</td><td>No</td><td>No</td><td>No</td><td>No</td></tr>\n",
       "\t<tr><td>japanese</td><td>No</td><td>No</td><td>No</td><td>No</td><td>No</td><td>No</td><td>No</td><td>No</td><td>No</td><td>⋯</td><td>No</td><td>No</td><td>No</td><td>No</td><td>No </td><td>No</td><td>No</td><td>No</td><td>No</td><td>No</td></tr>\n",
       "\t<tr><td>japanese</td><td>No</td><td>No</td><td>No</td><td>No</td><td>No</td><td>No</td><td>No</td><td>No</td><td>No</td><td>⋯</td><td>No</td><td>No</td><td>No</td><td>No</td><td>No </td><td>No</td><td>No</td><td>No</td><td>No</td><td>No</td></tr>\n",
       "\t<tr><td>japanese</td><td>No</td><td>No</td><td>No</td><td>No</td><td>No</td><td>No</td><td>No</td><td>No</td><td>No</td><td>⋯</td><td>No</td><td>No</td><td>No</td><td>No</td><td>No </td><td>No</td><td>No</td><td>No</td><td>No</td><td>No</td></tr>\n",
       "\t<tr><td>japanese</td><td>No</td><td>No</td><td>No</td><td>No</td><td>No</td><td>No</td><td>No</td><td>No</td><td>No</td><td>⋯</td><td>No</td><td>No</td><td>No</td><td>No</td><td>No </td><td>No</td><td>No</td><td>No</td><td>No</td><td>No</td></tr>\n",
       "\t<tr><td>japanese</td><td>No</td><td>No</td><td>No</td><td>No</td><td>No</td><td>No</td><td>No</td><td>No</td><td>No</td><td>⋯</td><td>No</td><td>No</td><td>No</td><td>No</td><td>No </td><td>No</td><td>No</td><td>No</td><td>No</td><td>No</td></tr>\n",
       "</tbody>\n",
       "</table>\n"
      ],
      "text/latex": [
       "A data.frame: 57691 × 384\n",
       "\\begin{tabular}{lllllllllllllllllllll}\n",
       " cuisine & almond & angelica & anise & anise\\_seed & apple & apple\\_brandy & apricot & armagnac & artemisia & ⋯ & whiskey & white\\_bread & white\\_wine & whole\\_grain\\_wheat\\_flour & wine & wood & yam & yeast & yogurt & zucchini\\\\\n",
       " <chr> & <fct> & <fct> & <fct> & <fct> & <fct> & <fct> & <fct> & <fct> & <fct> & ⋯ & <fct> & <fct> & <fct> & <fct> & <fct> & <fct> & <fct> & <fct> & <fct> & <fct>\\\\\n",
       "\\hline\n",
       "\t vietnamese & No & No & No & No & No & No & No & No & No & ⋯ & No & No & No  & No & No  & No & No & No  & No & No\\\\\n",
       "\t vietnamese & No & No & No & No & No & No & No & No & No & ⋯ & No & No & No  & No & No  & No & No & No  & No & No\\\\\n",
       "\t vietnamese & No & No & No & No & No & No & No & No & No & ⋯ & No & No & No  & No & No  & No & No & No  & No & No\\\\\n",
       "\t vietnamese & No & No & No & No & No & No & No & No & No & ⋯ & No & No & No  & No & No  & No & No & No  & No & No\\\\\n",
       "\t vietnamese & No & No & No & No & No & No & No & No & No & ⋯ & No & No & No  & No & No  & No & No & No  & No & No\\\\\n",
       "\t vietnamese & No & No & No & No & No & No & No & No & No & ⋯ & No & No & No  & No & No  & No & No & No  & No & No\\\\\n",
       "\t vietnamese & No & No & No & No & No & No & No & No & No & ⋯ & No & No & No  & No & No  & No & No & No  & No & No\\\\\n",
       "\t vietnamese & No & No & No & No & No & No & No & No & No & ⋯ & No & No & No  & No & No  & No & No & No  & No & No\\\\\n",
       "\t vietnamese & No & No & No & No & No & No & No & No & No & ⋯ & No & No & No  & No & No  & No & No & No  & No & No\\\\\n",
       "\t vietnamese & No & No & No & No & No & No & No & No & No & ⋯ & No & No & No  & No & No  & No & No & No  & No & No\\\\\n",
       "\t vietnamese & No & No & No & No & No & No & No & No & No & ⋯ & No & No & No  & No & No  & No & No & No  & No & No\\\\\n",
       "\t vietnamese & No & No & No & No & No & No & No & No & No & ⋯ & No & No & No  & No & No  & No & No & No  & No & No\\\\\n",
       "\t vietnamese & No & No & No & No & No & No & No & No & No & ⋯ & No & No & No  & No & No  & No & No & No  & No & No\\\\\n",
       "\t vietnamese & No & No & No & No & No & No & No & No & No & ⋯ & No & No & No  & No & Yes & No & No & No  & No & No\\\\\n",
       "\t vietnamese & No & No & No & No & No & No & No & No & No & ⋯ & No & No & No  & No & Yes & No & No & No  & No & No\\\\\n",
       "\t vietnamese & No & No & No & No & No & No & No & No & No & ⋯ & No & No & No  & No & No  & No & No & No  & No & No\\\\\n",
       "\t vietnamese & No & No & No & No & No & No & No & No & No & ⋯ & No & No & No  & No & No  & No & No & No  & No & No\\\\\n",
       "\t vietnamese & No & No & No & No & No & No & No & No & No & ⋯ & No & No & No  & No & No  & No & No & No  & No & No\\\\\n",
       "\t vietnamese & No & No & No & No & No & No & No & No & No & ⋯ & No & No & No  & No & Yes & No & No & No  & No & No\\\\\n",
       "\t vietnamese & No & No & No & No & No & No & No & No & No & ⋯ & No & No & No  & No & No  & No & No & Yes & No & No\\\\\n",
       "\t vietnamese & No & No & No & No & No & No & No & No & No & ⋯ & No & No & No  & No & No  & No & No & No  & No & No\\\\\n",
       "\t vietnamese & No & No & No & No & No & No & No & No & No & ⋯ & No & No & No  & No & No  & No & No & No  & No & No\\\\\n",
       "\t vietnamese & No & No & No & No & No & No & No & No & No & ⋯ & No & No & No  & No & No  & No & No & No  & No & No\\\\\n",
       "\t vietnamese & No & No & No & No & No & No & No & No & No & ⋯ & No & No & No  & No & No  & No & No & No  & No & No\\\\\n",
       "\t vietnamese & No & No & No & No & No & No & No & No & No & ⋯ & No & No & No  & No & No  & No & No & No  & No & No\\\\\n",
       "\t vietnamese & No & No & No & No & No & No & No & No & No & ⋯ & No & No & No  & No & No  & No & No & No  & No & No\\\\\n",
       "\t vietnamese & No & No & No & No & No & No & No & No & No & ⋯ & No & No & Yes & No & No  & No & No & No  & No & No\\\\\n",
       "\t vietnamese & No & No & No & No & No & No & No & No & No & ⋯ & No & No & No  & No & No  & No & No & No  & No & No\\\\\n",
       "\t vietnamese & No & No & No & No & No & No & No & No & No & ⋯ & No & No & No  & No & Yes & No & No & No  & No & No\\\\\n",
       "\t vietnamese & No & No & No & No & No & No & No & No & No & ⋯ & No & No & No  & No & No  & No & No & No  & No & No\\\\\n",
       "\t ⋮ & ⋮ & ⋮ & ⋮ & ⋮ & ⋮ & ⋮ & ⋮ & ⋮ & ⋮ & ⋱ & ⋮ & ⋮ & ⋮ & ⋮ & ⋮ & ⋮ & ⋮ & ⋮ & ⋮ & ⋮\\\\\n",
       "\t japanese & No & No & No & No & No & No & No & No & No & ⋯ & No & No & No & No & Yes & No & No & No & No & No\\\\\n",
       "\t japanese & No & No & No & No & No & No & No & No & No & ⋯ & No & No & No & No & No  & No & No & No & No & No\\\\\n",
       "\t japanese & No & No & No & No & No & No & No & No & No & ⋯ & No & No & No & No & Yes & No & No & No & No & No\\\\\n",
       "\t japanese & No & No & No & No & No & No & No & No & No & ⋯ & No & No & No & No & No  & No & No & No & No & No\\\\\n",
       "\t japanese & No & No & No & No & No & No & No & No & No & ⋯ & No & No & No & No & Yes & No & No & No & No & No\\\\\n",
       "\t japanese & No & No & No & No & No & No & No & No & No & ⋯ & No & No & No & No & No  & No & No & No & No & No\\\\\n",
       "\t japanese & No & No & No & No & No & No & No & No & No & ⋯ & No & No & No & No & No  & No & No & No & No & No\\\\\n",
       "\t japanese & No & No & No & No & No & No & No & No & No & ⋯ & No & No & No & No & No  & No & No & No & No & No\\\\\n",
       "\t japanese & No & No & No & No & No & No & No & No & No & ⋯ & No & No & No & No & No  & No & No & No & No & No\\\\\n",
       "\t japanese & No & No & No & No & No & No & No & No & No & ⋯ & No & No & No & No & No  & No & No & No & No & No\\\\\n",
       "\t japanese & No & No & No & No & No & No & No & No & No & ⋯ & No & No & No & No & No  & No & No & No & No & No\\\\\n",
       "\t japanese & No & No & No & No & No & No & No & No & No & ⋯ & No & No & No & No & No  & No & No & No & No & No\\\\\n",
       "\t japanese & No & No & No & No & No & No & No & No & No & ⋯ & No & No & No & No & No  & No & No & No & No & No\\\\\n",
       "\t japanese & No & No & No & No & No & No & No & No & No & ⋯ & No & No & No & No & Yes & No & No & No & No & No\\\\\n",
       "\t japanese & No & No & No & No & No & No & No & No & No & ⋯ & No & No & No & No & Yes & No & No & No & No & No\\\\\n",
       "\t japanese & No & No & No & No & No & No & No & No & No & ⋯ & No & No & No & No & No  & No & No & No & No & No\\\\\n",
       "\t japanese & No & No & No & No & No & No & No & No & No & ⋯ & No & No & No & No & No  & No & No & No & No & No\\\\\n",
       "\t japanese & No & No & No & No & No & No & No & No & No & ⋯ & No & No & No & No & No  & No & No & No & No & No\\\\\n",
       "\t japanese & No & No & No & No & No & No & No & No & No & ⋯ & No & No & No & No & No  & No & No & No & No & No\\\\\n",
       "\t japanese & No & No & No & No & No & No & No & No & No & ⋯ & No & No & No & No & No  & No & No & No & No & No\\\\\n",
       "\t japanese & No & No & No & No & No & No & No & No & No & ⋯ & No & No & No & No & No  & No & No & No & No & No\\\\\n",
       "\t japanese & No & No & No & No & No & No & No & No & No & ⋯ & No & No & No & No & No  & No & No & No & No & No\\\\\n",
       "\t japanese & No & No & No & No & No & No & No & No & No & ⋯ & No & No & No & No & No  & No & No & No & No & No\\\\\n",
       "\t japanese & No & No & No & No & No & No & No & No & No & ⋯ & No & No & No & No & Yes & No & No & No & No & No\\\\\n",
       "\t japanese & No & No & No & No & No & No & No & No & No & ⋯ & No & No & No & No & No  & No & No & No & No & No\\\\\n",
       "\t japanese & No & No & No & No & No & No & No & No & No & ⋯ & No & No & No & No & No  & No & No & No & No & No\\\\\n",
       "\t japanese & No & No & No & No & No & No & No & No & No & ⋯ & No & No & No & No & No  & No & No & No & No & No\\\\\n",
       "\t japanese & No & No & No & No & No & No & No & No & No & ⋯ & No & No & No & No & No  & No & No & No & No & No\\\\\n",
       "\t japanese & No & No & No & No & No & No & No & No & No & ⋯ & No & No & No & No & No  & No & No & No & No & No\\\\\n",
       "\t japanese & No & No & No & No & No & No & No & No & No & ⋯ & No & No & No & No & No  & No & No & No & No & No\\\\\n",
       "\\end{tabular}\n"
      ],
      "text/markdown": [
       "\n",
       "A data.frame: 57691 × 384\n",
       "\n",
       "| cuisine &lt;chr&gt; | almond &lt;fct&gt; | angelica &lt;fct&gt; | anise &lt;fct&gt; | anise_seed &lt;fct&gt; | apple &lt;fct&gt; | apple_brandy &lt;fct&gt; | apricot &lt;fct&gt; | armagnac &lt;fct&gt; | artemisia &lt;fct&gt; | ⋯ ⋯ | whiskey &lt;fct&gt; | white_bread &lt;fct&gt; | white_wine &lt;fct&gt; | whole_grain_wheat_flour &lt;fct&gt; | wine &lt;fct&gt; | wood &lt;fct&gt; | yam &lt;fct&gt; | yeast &lt;fct&gt; | yogurt &lt;fct&gt; | zucchini &lt;fct&gt; |\n",
       "|---|---|---|---|---|---|---|---|---|---|---|---|---|---|---|---|---|---|---|---|---|\n",
       "| vietnamese | No | No | No | No | No | No | No | No | No | ⋯ | No | No | No  | No | No  | No | No | No  | No | No |\n",
       "| vietnamese | No | No | No | No | No | No | No | No | No | ⋯ | No | No | No  | No | No  | No | No | No  | No | No |\n",
       "| vietnamese | No | No | No | No | No | No | No | No | No | ⋯ | No | No | No  | No | No  | No | No | No  | No | No |\n",
       "| vietnamese | No | No | No | No | No | No | No | No | No | ⋯ | No | No | No  | No | No  | No | No | No  | No | No |\n",
       "| vietnamese | No | No | No | No | No | No | No | No | No | ⋯ | No | No | No  | No | No  | No | No | No  | No | No |\n",
       "| vietnamese | No | No | No | No | No | No | No | No | No | ⋯ | No | No | No  | No | No  | No | No | No  | No | No |\n",
       "| vietnamese | No | No | No | No | No | No | No | No | No | ⋯ | No | No | No  | No | No  | No | No | No  | No | No |\n",
       "| vietnamese | No | No | No | No | No | No | No | No | No | ⋯ | No | No | No  | No | No  | No | No | No  | No | No |\n",
       "| vietnamese | No | No | No | No | No | No | No | No | No | ⋯ | No | No | No  | No | No  | No | No | No  | No | No |\n",
       "| vietnamese | No | No | No | No | No | No | No | No | No | ⋯ | No | No | No  | No | No  | No | No | No  | No | No |\n",
       "| vietnamese | No | No | No | No | No | No | No | No | No | ⋯ | No | No | No  | No | No  | No | No | No  | No | No |\n",
       "| vietnamese | No | No | No | No | No | No | No | No | No | ⋯ | No | No | No  | No | No  | No | No | No  | No | No |\n",
       "| vietnamese | No | No | No | No | No | No | No | No | No | ⋯ | No | No | No  | No | No  | No | No | No  | No | No |\n",
       "| vietnamese | No | No | No | No | No | No | No | No | No | ⋯ | No | No | No  | No | Yes | No | No | No  | No | No |\n",
       "| vietnamese | No | No | No | No | No | No | No | No | No | ⋯ | No | No | No  | No | Yes | No | No | No  | No | No |\n",
       "| vietnamese | No | No | No | No | No | No | No | No | No | ⋯ | No | No | No  | No | No  | No | No | No  | No | No |\n",
       "| vietnamese | No | No | No | No | No | No | No | No | No | ⋯ | No | No | No  | No | No  | No | No | No  | No | No |\n",
       "| vietnamese | No | No | No | No | No | No | No | No | No | ⋯ | No | No | No  | No | No  | No | No | No  | No | No |\n",
       "| vietnamese | No | No | No | No | No | No | No | No | No | ⋯ | No | No | No  | No | Yes | No | No | No  | No | No |\n",
       "| vietnamese | No | No | No | No | No | No | No | No | No | ⋯ | No | No | No  | No | No  | No | No | Yes | No | No |\n",
       "| vietnamese | No | No | No | No | No | No | No | No | No | ⋯ | No | No | No  | No | No  | No | No | No  | No | No |\n",
       "| vietnamese | No | No | No | No | No | No | No | No | No | ⋯ | No | No | No  | No | No  | No | No | No  | No | No |\n",
       "| vietnamese | No | No | No | No | No | No | No | No | No | ⋯ | No | No | No  | No | No  | No | No | No  | No | No |\n",
       "| vietnamese | No | No | No | No | No | No | No | No | No | ⋯ | No | No | No  | No | No  | No | No | No  | No | No |\n",
       "| vietnamese | No | No | No | No | No | No | No | No | No | ⋯ | No | No | No  | No | No  | No | No | No  | No | No |\n",
       "| vietnamese | No | No | No | No | No | No | No | No | No | ⋯ | No | No | No  | No | No  | No | No | No  | No | No |\n",
       "| vietnamese | No | No | No | No | No | No | No | No | No | ⋯ | No | No | Yes | No | No  | No | No | No  | No | No |\n",
       "| vietnamese | No | No | No | No | No | No | No | No | No | ⋯ | No | No | No  | No | No  | No | No | No  | No | No |\n",
       "| vietnamese | No | No | No | No | No | No | No | No | No | ⋯ | No | No | No  | No | Yes | No | No | No  | No | No |\n",
       "| vietnamese | No | No | No | No | No | No | No | No | No | ⋯ | No | No | No  | No | No  | No | No | No  | No | No |\n",
       "| ⋮ | ⋮ | ⋮ | ⋮ | ⋮ | ⋮ | ⋮ | ⋮ | ⋮ | ⋮ | ⋱ | ⋮ | ⋮ | ⋮ | ⋮ | ⋮ | ⋮ | ⋮ | ⋮ | ⋮ | ⋮ |\n",
       "| japanese | No | No | No | No | No | No | No | No | No | ⋯ | No | No | No | No | Yes | No | No | No | No | No |\n",
       "| japanese | No | No | No | No | No | No | No | No | No | ⋯ | No | No | No | No | No  | No | No | No | No | No |\n",
       "| japanese | No | No | No | No | No | No | No | No | No | ⋯ | No | No | No | No | Yes | No | No | No | No | No |\n",
       "| japanese | No | No | No | No | No | No | No | No | No | ⋯ | No | No | No | No | No  | No | No | No | No | No |\n",
       "| japanese | No | No | No | No | No | No | No | No | No | ⋯ | No | No | No | No | Yes | No | No | No | No | No |\n",
       "| japanese | No | No | No | No | No | No | No | No | No | ⋯ | No | No | No | No | No  | No | No | No | No | No |\n",
       "| japanese | No | No | No | No | No | No | No | No | No | ⋯ | No | No | No | No | No  | No | No | No | No | No |\n",
       "| japanese | No | No | No | No | No | No | No | No | No | ⋯ | No | No | No | No | No  | No | No | No | No | No |\n",
       "| japanese | No | No | No | No | No | No | No | No | No | ⋯ | No | No | No | No | No  | No | No | No | No | No |\n",
       "| japanese | No | No | No | No | No | No | No | No | No | ⋯ | No | No | No | No | No  | No | No | No | No | No |\n",
       "| japanese | No | No | No | No | No | No | No | No | No | ⋯ | No | No | No | No | No  | No | No | No | No | No |\n",
       "| japanese | No | No | No | No | No | No | No | No | No | ⋯ | No | No | No | No | No  | No | No | No | No | No |\n",
       "| japanese | No | No | No | No | No | No | No | No | No | ⋯ | No | No | No | No | No  | No | No | No | No | No |\n",
       "| japanese | No | No | No | No | No | No | No | No | No | ⋯ | No | No | No | No | Yes | No | No | No | No | No |\n",
       "| japanese | No | No | No | No | No | No | No | No | No | ⋯ | No | No | No | No | Yes | No | No | No | No | No |\n",
       "| japanese | No | No | No | No | No | No | No | No | No | ⋯ | No | No | No | No | No  | No | No | No | No | No |\n",
       "| japanese | No | No | No | No | No | No | No | No | No | ⋯ | No | No | No | No | No  | No | No | No | No | No |\n",
       "| japanese | No | No | No | No | No | No | No | No | No | ⋯ | No | No | No | No | No  | No | No | No | No | No |\n",
       "| japanese | No | No | No | No | No | No | No | No | No | ⋯ | No | No | No | No | No  | No | No | No | No | No |\n",
       "| japanese | No | No | No | No | No | No | No | No | No | ⋯ | No | No | No | No | No  | No | No | No | No | No |\n",
       "| japanese | No | No | No | No | No | No | No | No | No | ⋯ | No | No | No | No | No  | No | No | No | No | No |\n",
       "| japanese | No | No | No | No | No | No | No | No | No | ⋯ | No | No | No | No | No  | No | No | No | No | No |\n",
       "| japanese | No | No | No | No | No | No | No | No | No | ⋯ | No | No | No | No | No  | No | No | No | No | No |\n",
       "| japanese | No | No | No | No | No | No | No | No | No | ⋯ | No | No | No | No | Yes | No | No | No | No | No |\n",
       "| japanese | No | No | No | No | No | No | No | No | No | ⋯ | No | No | No | No | No  | No | No | No | No | No |\n",
       "| japanese | No | No | No | No | No | No | No | No | No | ⋯ | No | No | No | No | No  | No | No | No | No | No |\n",
       "| japanese | No | No | No | No | No | No | No | No | No | ⋯ | No | No | No | No | No  | No | No | No | No | No |\n",
       "| japanese | No | No | No | No | No | No | No | No | No | ⋯ | No | No | No | No | No  | No | No | No | No | No |\n",
       "| japanese | No | No | No | No | No | No | No | No | No | ⋯ | No | No | No | No | No  | No | No | No | No | No |\n",
       "| japanese | No | No | No | No | No | No | No | No | No | ⋯ | No | No | No | No | No  | No | No | No | No | No |\n",
       "\n"
      ],
      "text/plain": [
       "      cuisine    almond angelica anise anise_seed apple apple_brandy apricot\n",
       "1     vietnamese No     No       No    No         No    No           No     \n",
       "2     vietnamese No     No       No    No         No    No           No     \n",
       "3     vietnamese No     No       No    No         No    No           No     \n",
       "4     vietnamese No     No       No    No         No    No           No     \n",
       "5     vietnamese No     No       No    No         No    No           No     \n",
       "6     vietnamese No     No       No    No         No    No           No     \n",
       "7     vietnamese No     No       No    No         No    No           No     \n",
       "8     vietnamese No     No       No    No         No    No           No     \n",
       "9     vietnamese No     No       No    No         No    No           No     \n",
       "10    vietnamese No     No       No    No         No    No           No     \n",
       "11    vietnamese No     No       No    No         No    No           No     \n",
       "12    vietnamese No     No       No    No         No    No           No     \n",
       "13    vietnamese No     No       No    No         No    No           No     \n",
       "14    vietnamese No     No       No    No         No    No           No     \n",
       "15    vietnamese No     No       No    No         No    No           No     \n",
       "16    vietnamese No     No       No    No         No    No           No     \n",
       "17    vietnamese No     No       No    No         No    No           No     \n",
       "18    vietnamese No     No       No    No         No    No           No     \n",
       "19    vietnamese No     No       No    No         No    No           No     \n",
       "20    vietnamese No     No       No    No         No    No           No     \n",
       "21    vietnamese No     No       No    No         No    No           No     \n",
       "22    vietnamese No     No       No    No         No    No           No     \n",
       "23    vietnamese No     No       No    No         No    No           No     \n",
       "24    vietnamese No     No       No    No         No    No           No     \n",
       "25    vietnamese No     No       No    No         No    No           No     \n",
       "26    vietnamese No     No       No    No         No    No           No     \n",
       "27    vietnamese No     No       No    No         No    No           No     \n",
       "28    vietnamese No     No       No    No         No    No           No     \n",
       "29    vietnamese No     No       No    No         No    No           No     \n",
       "30    vietnamese No     No       No    No         No    No           No     \n",
       "⋮     ⋮          ⋮      ⋮        ⋮     ⋮          ⋮     ⋮            ⋮      \n",
       "57662 japanese   No     No       No    No         No    No           No     \n",
       "57663 japanese   No     No       No    No         No    No           No     \n",
       "57664 japanese   No     No       No    No         No    No           No     \n",
       "57665 japanese   No     No       No    No         No    No           No     \n",
       "57666 japanese   No     No       No    No         No    No           No     \n",
       "57667 japanese   No     No       No    No         No    No           No     \n",
       "57668 japanese   No     No       No    No         No    No           No     \n",
       "57669 japanese   No     No       No    No         No    No           No     \n",
       "57670 japanese   No     No       No    No         No    No           No     \n",
       "57671 japanese   No     No       No    No         No    No           No     \n",
       "57672 japanese   No     No       No    No         No    No           No     \n",
       "57673 japanese   No     No       No    No         No    No           No     \n",
       "57674 japanese   No     No       No    No         No    No           No     \n",
       "57675 japanese   No     No       No    No         No    No           No     \n",
       "57676 japanese   No     No       No    No         No    No           No     \n",
       "57677 japanese   No     No       No    No         No    No           No     \n",
       "57678 japanese   No     No       No    No         No    No           No     \n",
       "57679 japanese   No     No       No    No         No    No           No     \n",
       "57680 japanese   No     No       No    No         No    No           No     \n",
       "57681 japanese   No     No       No    No         No    No           No     \n",
       "57682 japanese   No     No       No    No         No    No           No     \n",
       "57683 japanese   No     No       No    No         No    No           No     \n",
       "57684 japanese   No     No       No    No         No    No           No     \n",
       "57685 japanese   No     No       No    No         No    No           No     \n",
       "57686 japanese   No     No       No    No         No    No           No     \n",
       "57687 japanese   No     No       No    No         No    No           No     \n",
       "57688 japanese   No     No       No    No         No    No           No     \n",
       "57689 japanese   No     No       No    No         No    No           No     \n",
       "57690 japanese   No     No       No    No         No    No           No     \n",
       "57691 japanese   No     No       No    No         No    No           No     \n",
       "      armagnac artemisia ⋯ whiskey white_bread white_wine\n",
       "1     No       No        ⋯ No      No          No        \n",
       "2     No       No        ⋯ No      No          No        \n",
       "3     No       No        ⋯ No      No          No        \n",
       "4     No       No        ⋯ No      No          No        \n",
       "5     No       No        ⋯ No      No          No        \n",
       "6     No       No        ⋯ No      No          No        \n",
       "7     No       No        ⋯ No      No          No        \n",
       "8     No       No        ⋯ No      No          No        \n",
       "9     No       No        ⋯ No      No          No        \n",
       "10    No       No        ⋯ No      No          No        \n",
       "11    No       No        ⋯ No      No          No        \n",
       "12    No       No        ⋯ No      No          No        \n",
       "13    No       No        ⋯ No      No          No        \n",
       "14    No       No        ⋯ No      No          No        \n",
       "15    No       No        ⋯ No      No          No        \n",
       "16    No       No        ⋯ No      No          No        \n",
       "17    No       No        ⋯ No      No          No        \n",
       "18    No       No        ⋯ No      No          No        \n",
       "19    No       No        ⋯ No      No          No        \n",
       "20    No       No        ⋯ No      No          No        \n",
       "21    No       No        ⋯ No      No          No        \n",
       "22    No       No        ⋯ No      No          No        \n",
       "23    No       No        ⋯ No      No          No        \n",
       "24    No       No        ⋯ No      No          No        \n",
       "25    No       No        ⋯ No      No          No        \n",
       "26    No       No        ⋯ No      No          No        \n",
       "27    No       No        ⋯ No      No          Yes       \n",
       "28    No       No        ⋯ No      No          No        \n",
       "29    No       No        ⋯ No      No          No        \n",
       "30    No       No        ⋯ No      No          No        \n",
       "⋮     ⋮        ⋮         ⋱ ⋮       ⋮           ⋮         \n",
       "57662 No       No        ⋯ No      No          No        \n",
       "57663 No       No        ⋯ No      No          No        \n",
       "57664 No       No        ⋯ No      No          No        \n",
       "57665 No       No        ⋯ No      No          No        \n",
       "57666 No       No        ⋯ No      No          No        \n",
       "57667 No       No        ⋯ No      No          No        \n",
       "57668 No       No        ⋯ No      No          No        \n",
       "57669 No       No        ⋯ No      No          No        \n",
       "57670 No       No        ⋯ No      No          No        \n",
       "57671 No       No        ⋯ No      No          No        \n",
       "57672 No       No        ⋯ No      No          No        \n",
       "57673 No       No        ⋯ No      No          No        \n",
       "57674 No       No        ⋯ No      No          No        \n",
       "57675 No       No        ⋯ No      No          No        \n",
       "57676 No       No        ⋯ No      No          No        \n",
       "57677 No       No        ⋯ No      No          No        \n",
       "57678 No       No        ⋯ No      No          No        \n",
       "57679 No       No        ⋯ No      No          No        \n",
       "57680 No       No        ⋯ No      No          No        \n",
       "57681 No       No        ⋯ No      No          No        \n",
       "57682 No       No        ⋯ No      No          No        \n",
       "57683 No       No        ⋯ No      No          No        \n",
       "57684 No       No        ⋯ No      No          No        \n",
       "57685 No       No        ⋯ No      No          No        \n",
       "57686 No       No        ⋯ No      No          No        \n",
       "57687 No       No        ⋯ No      No          No        \n",
       "57688 No       No        ⋯ No      No          No        \n",
       "57689 No       No        ⋯ No      No          No        \n",
       "57690 No       No        ⋯ No      No          No        \n",
       "57691 No       No        ⋯ No      No          No        \n",
       "      whole_grain_wheat_flour wine wood yam yeast yogurt zucchini\n",
       "1     No                      No   No   No  No    No     No      \n",
       "2     No                      No   No   No  No    No     No      \n",
       "3     No                      No   No   No  No    No     No      \n",
       "4     No                      No   No   No  No    No     No      \n",
       "5     No                      No   No   No  No    No     No      \n",
       "6     No                      No   No   No  No    No     No      \n",
       "7     No                      No   No   No  No    No     No      \n",
       "8     No                      No   No   No  No    No     No      \n",
       "9     No                      No   No   No  No    No     No      \n",
       "10    No                      No   No   No  No    No     No      \n",
       "11    No                      No   No   No  No    No     No      \n",
       "12    No                      No   No   No  No    No     No      \n",
       "13    No                      No   No   No  No    No     No      \n",
       "14    No                      Yes  No   No  No    No     No      \n",
       "15    No                      Yes  No   No  No    No     No      \n",
       "16    No                      No   No   No  No    No     No      \n",
       "17    No                      No   No   No  No    No     No      \n",
       "18    No                      No   No   No  No    No     No      \n",
       "19    No                      Yes  No   No  No    No     No      \n",
       "20    No                      No   No   No  Yes   No     No      \n",
       "21    No                      No   No   No  No    No     No      \n",
       "22    No                      No   No   No  No    No     No      \n",
       "23    No                      No   No   No  No    No     No      \n",
       "24    No                      No   No   No  No    No     No      \n",
       "25    No                      No   No   No  No    No     No      \n",
       "26    No                      No   No   No  No    No     No      \n",
       "27    No                      No   No   No  No    No     No      \n",
       "28    No                      No   No   No  No    No     No      \n",
       "29    No                      Yes  No   No  No    No     No      \n",
       "30    No                      No   No   No  No    No     No      \n",
       "⋮     ⋮                       ⋮    ⋮    ⋮   ⋮     ⋮      ⋮       \n",
       "57662 No                      Yes  No   No  No    No     No      \n",
       "57663 No                      No   No   No  No    No     No      \n",
       "57664 No                      Yes  No   No  No    No     No      \n",
       "57665 No                      No   No   No  No    No     No      \n",
       "57666 No                      Yes  No   No  No    No     No      \n",
       "57667 No                      No   No   No  No    No     No      \n",
       "57668 No                      No   No   No  No    No     No      \n",
       "57669 No                      No   No   No  No    No     No      \n",
       "57670 No                      No   No   No  No    No     No      \n",
       "57671 No                      No   No   No  No    No     No      \n",
       "57672 No                      No   No   No  No    No     No      \n",
       "57673 No                      No   No   No  No    No     No      \n",
       "57674 No                      No   No   No  No    No     No      \n",
       "57675 No                      Yes  No   No  No    No     No      \n",
       "57676 No                      Yes  No   No  No    No     No      \n",
       "57677 No                      No   No   No  No    No     No      \n",
       "57678 No                      No   No   No  No    No     No      \n",
       "57679 No                      No   No   No  No    No     No      \n",
       "57680 No                      No   No   No  No    No     No      \n",
       "57681 No                      No   No   No  No    No     No      \n",
       "57682 No                      No   No   No  No    No     No      \n",
       "57683 No                      No   No   No  No    No     No      \n",
       "57684 No                      No   No   No  No    No     No      \n",
       "57685 No                      Yes  No   No  No    No     No      \n",
       "57686 No                      No   No   No  No    No     No      \n",
       "57687 No                      No   No   No  No    No     No      \n",
       "57688 No                      No   No   No  No    No     No      \n",
       "57689 No                      No   No   No  No    No     No      \n",
       "57690 No                      No   No   No  No    No     No      \n",
       "57691 No                      No   No   No  No    No     No      "
      ]
     },
     "metadata": {},
     "output_type": "display_data"
    }
   ],
   "source": [
    "recipes$cuisine[recipes$cuisine == \"austria\"] <- \"austrian\"\n",
    "recipes$cuisine[recipes$cuisine == \"belgium\"] <- \"belgian\"\n",
    "recipes$cuisine[recipes$cuisine == \"china\"] <- \"chinese\"\n",
    "recipes$cuisine[recipes$cuisine == \"canada\"] <- \"canadian\"\n",
    "recipes$cuisine[recipes$cuisine == \"netherlands\"] <- \"dutch\"\n",
    "recipes$cuisine[recipes$cuisine == \"france\"] <- \"french\"\n",
    "recipes$cuisine[recipes$cuisine == \"germany\"] <- \"german\"\n",
    "recipes$cuisine[recipes$cuisine == \"india\"] <- \"indian\"\n",
    "recipes$cuisine[recipes$cuisine == \"indonesia\"] <- \"indonesian\"\n",
    "recipes$cuisine[recipes$cuisine == \"iran\"] <- \"iranian\"\n",
    "recipes$cuisine[recipes$cuisine == \"israel\"] <- \"jewish\"\n",
    "recipes$cuisine[recipes$cuisine == \"italy\"] <- \"italian\"\n",
    "recipes$cuisine[recipes$cuisine == \"japan\"] <- \"japanese\"\n",
    "recipes$cuisine[recipes$cuisine == \"korea\"] <- \"korean\"\n",
    "recipes$cuisine[recipes$cuisine == \"lebanon\"] <- \"lebanese\"\n",
    "recipes$cuisine[recipes$cuisine == \"malaysia\"] <- \"malaysian\"\n",
    "recipes$cuisine[recipes$cuisine == \"mexico\"] <- \"mexican\"\n",
    "recipes$cuisine[recipes$cuisine == \"pakistan\"] <- \"pakistani\"\n",
    "recipes$cuisine[recipes$cuisine == \"philippines\"] <- \"philippine\"\n",
    "recipes$cuisine[recipes$cuisine == \"scandinavia\"] <- \"scandinavian\"\n",
    "recipes$cuisine[recipes$cuisine == \"spain\"] <- \"spanish_portuguese\"\n",
    "recipes$cuisine[recipes$cuisine == \"portugal\"] <- \"spanish_portuguese\"\n",
    "recipes$cuisine[recipes$cuisine == \"switzerland\"] <- \"swiss\"\n",
    "recipes$cuisine[recipes$cuisine == \"thailand\"] <- \"thai\"\n",
    "recipes$cuisine[recipes$cuisine == \"turkey\"] <- \"turkish\"\n",
    "recipes$cuisine[recipes$cuisine == \"irish\"] <- \"uk-and-irish\"\n",
    "recipes$cuisine[recipes$cuisine == \"uk-and-ireland\"] <- \"uk-and-irish\"\n",
    "recipes$cuisine[recipes$cuisine == \"vietnam\"] <- \"vietnamese\"\n",
    "\n",
    "recipes"
   ]
  },
  {
   "cell_type": "markdown",
   "metadata": {
    "button": false,
    "deletable": true,
    "new_sheet": false,
    "run_control": {
     "read_only": false
    }
   },
   "source": [
    "Remove cuisines with < 50 recipes:"
   ]
  },
  {
   "cell_type": "code",
   "execution_count": 11,
   "metadata": {
    "button": false,
    "collapsed": false,
    "deletable": true,
    "jupyter": {
     "outputs_hidden": false
    },
    "new_sheet": false,
    "run_control": {
     "read_only": false
    }
   },
   "outputs": [
    {
     "data": {
      "text/plain": [
       "\n",
       "               american                 italian                 mexican \n",
       "                  40150                    3250                    2390 \n",
       "                 french                   asian              east_asian \n",
       "                   1264                    1193                     951 \n",
       "                 korean                canadian                  indian \n",
       "                    799                     774                     598 \n",
       "                western                 chinese      spanish_portuguese \n",
       "                    450                     442                     416 \n",
       "           uk-and-irish       southern_soulfood                  jewish \n",
       "                    368                     346                     329 \n",
       "               japanese                  german           mediterranean \n",
       "                    320                     289                     289 \n",
       "                   thai            scandinavian           middleeastern \n",
       "                    289                     250                     248 \n",
       "  central_southamerican          eastern-europe                   greek \n",
       "                    241                     235                     225 \n",
       "       english_scottish               caribbean            cajun_creole \n",
       "                    204                     183                     146 \n",
       "easterneuropean_russian                moroccan                 african \n",
       "                    146                     137                     115 \n",
       "           southwestern           south-america              vietnamese \n",
       "                    108                     103                      95 \n",
       "          north-african              philippine                   dutch \n",
       "                     60                      43                      32 \n",
       "               lebanese                austrian                 iranian \n",
       "                     31                      21                      21 \n",
       "                  swiss               pakistani               malaysian \n",
       "                     20                      19                      18 \n",
       "          south-african                 turkish            west-african \n",
       "                     16                      16                      13 \n",
       "             indonesian                 belgian            east-african \n",
       "                     12                      11                      11 \n",
       "             bangladesh \n",
       "                      4 "
      ]
     },
     "metadata": {},
     "output_type": "display_data"
    }
   ],
   "source": [
    "# sort the table of cuisines by descending order\n",
    "t <- sort(base::table(recipes$cuisine), decreasing = T)\n",
    "\n",
    "t"
   ]
  },
  {
   "cell_type": "code",
   "execution_count": 12,
   "metadata": {
    "button": false,
    "collapsed": false,
    "deletable": true,
    "jupyter": {
     "outputs_hidden": false
    },
    "new_sheet": false,
    "run_control": {
     "read_only": false
    }
   },
   "outputs": [
    {
     "data": {
      "text/html": [
       "<style>\n",
       ".list-inline {list-style: none; margin:0; padding: 0}\n",
       ".list-inline>li {display: inline-block}\n",
       ".list-inline>li:not(:last-child)::after {content: \"\\00b7\"; padding: 0 .5ex}\n",
       "</style>\n",
       "<ol class=list-inline><li>'american'</li><li>'italian'</li><li>'mexican'</li><li>'french'</li><li>'asian'</li><li>'east_asian'</li><li>'korean'</li><li>'canadian'</li><li>'indian'</li><li>'western'</li><li>'chinese'</li><li>'spanish_portuguese'</li><li>'uk-and-irish'</li><li>'southern_soulfood'</li><li>'jewish'</li><li>'japanese'</li><li>'german'</li><li>'mediterranean'</li><li>'thai'</li><li>'scandinavian'</li><li>'middleeastern'</li><li>'central_southamerican'</li><li>'eastern-europe'</li><li>'greek'</li><li>'english_scottish'</li><li>'caribbean'</li><li>'cajun_creole'</li><li>'easterneuropean_russian'</li><li>'moroccan'</li><li>'african'</li><li>'southwestern'</li><li>'south-america'</li><li>'vietnamese'</li><li>'north-african'</li></ol>\n"
      ],
      "text/latex": [
       "\\begin{enumerate*}\n",
       "\\item 'american'\n",
       "\\item 'italian'\n",
       "\\item 'mexican'\n",
       "\\item 'french'\n",
       "\\item 'asian'\n",
       "\\item 'east\\_asian'\n",
       "\\item 'korean'\n",
       "\\item 'canadian'\n",
       "\\item 'indian'\n",
       "\\item 'western'\n",
       "\\item 'chinese'\n",
       "\\item 'spanish\\_portuguese'\n",
       "\\item 'uk-and-irish'\n",
       "\\item 'southern\\_soulfood'\n",
       "\\item 'jewish'\n",
       "\\item 'japanese'\n",
       "\\item 'german'\n",
       "\\item 'mediterranean'\n",
       "\\item 'thai'\n",
       "\\item 'scandinavian'\n",
       "\\item 'middleeastern'\n",
       "\\item 'central\\_southamerican'\n",
       "\\item 'eastern-europe'\n",
       "\\item 'greek'\n",
       "\\item 'english\\_scottish'\n",
       "\\item 'caribbean'\n",
       "\\item 'cajun\\_creole'\n",
       "\\item 'easterneuropean\\_russian'\n",
       "\\item 'moroccan'\n",
       "\\item 'african'\n",
       "\\item 'southwestern'\n",
       "\\item 'south-america'\n",
       "\\item 'vietnamese'\n",
       "\\item 'north-african'\n",
       "\\end{enumerate*}\n"
      ],
      "text/markdown": [
       "1. 'american'\n",
       "2. 'italian'\n",
       "3. 'mexican'\n",
       "4. 'french'\n",
       "5. 'asian'\n",
       "6. 'east_asian'\n",
       "7. 'korean'\n",
       "8. 'canadian'\n",
       "9. 'indian'\n",
       "10. 'western'\n",
       "11. 'chinese'\n",
       "12. 'spanish_portuguese'\n",
       "13. 'uk-and-irish'\n",
       "14. 'southern_soulfood'\n",
       "15. 'jewish'\n",
       "16. 'japanese'\n",
       "17. 'german'\n",
       "18. 'mediterranean'\n",
       "19. 'thai'\n",
       "20. 'scandinavian'\n",
       "21. 'middleeastern'\n",
       "22. 'central_southamerican'\n",
       "23. 'eastern-europe'\n",
       "24. 'greek'\n",
       "25. 'english_scottish'\n",
       "26. 'caribbean'\n",
       "27. 'cajun_creole'\n",
       "28. 'easterneuropean_russian'\n",
       "29. 'moroccan'\n",
       "30. 'african'\n",
       "31. 'southwestern'\n",
       "32. 'south-america'\n",
       "33. 'vietnamese'\n",
       "34. 'north-african'\n",
       "\n",
       "\n"
      ],
      "text/plain": [
       " [1] \"american\"                \"italian\"                \n",
       " [3] \"mexican\"                 \"french\"                 \n",
       " [5] \"asian\"                   \"east_asian\"             \n",
       " [7] \"korean\"                  \"canadian\"               \n",
       " [9] \"indian\"                  \"western\"                \n",
       "[11] \"chinese\"                 \"spanish_portuguese\"     \n",
       "[13] \"uk-and-irish\"            \"southern_soulfood\"      \n",
       "[15] \"jewish\"                  \"japanese\"               \n",
       "[17] \"german\"                  \"mediterranean\"          \n",
       "[19] \"thai\"                    \"scandinavian\"           \n",
       "[21] \"middleeastern\"           \"central_southamerican\"  \n",
       "[23] \"eastern-europe\"          \"greek\"                  \n",
       "[25] \"english_scottish\"        \"caribbean\"              \n",
       "[27] \"cajun_creole\"            \"easterneuropean_russian\"\n",
       "[29] \"moroccan\"                \"african\"                \n",
       "[31] \"southwestern\"            \"south-america\"          \n",
       "[33] \"vietnamese\"              \"north-african\"          "
      ]
     },
     "metadata": {},
     "output_type": "display_data"
    }
   ],
   "source": [
    "# get cuisines with >= 50 recipes\n",
    "filter_list <- names(t[t >= 50])\n",
    "\n",
    "filter_list"
   ]
  },
  {
   "cell_type": "code",
   "execution_count": 13,
   "metadata": {
    "button": false,
    "collapsed": false,
    "deletable": true,
    "jupyter": {
     "outputs_hidden": false
    },
    "new_sheet": false,
    "run_control": {
     "read_only": false
    }
   },
   "outputs": [
    {
     "name": "stdout",
     "output_type": "stream",
     "text": [
      "[1] \"Number of rows of original dataframe is 57691\"\n",
      "[1] \"Number of rows of processed dataframe is 57403\"\n",
      "[1] \"288 rows removed!\"\n"
     ]
    }
   ],
   "source": [
    "before <- nrow(recipes) # number of rows of original dataframe\n",
    "print(paste0(\"Number of rows of original dataframe is \", before))\n",
    "\n",
    "recipes <- recipes[recipes$cuisine %in% filter_list,]\n",
    "\n",
    "after <- nrow(recipes)\n",
    "print(paste0(\"Number of rows of processed dataframe is \", after))\n",
    "\n",
    "print(paste0(before - after, \" rows removed!\"))"
   ]
  },
  {
   "cell_type": "markdown",
   "metadata": {
    "button": false,
    "deletable": true,
    "new_sheet": false,
    "run_control": {
     "read_only": false
    }
   },
   "source": [
    "Convert all of the columns into factors. This is to run the classification model later."
   ]
  },
  {
   "cell_type": "code",
   "execution_count": 14,
   "metadata": {
    "button": false,
    "collapsed": false,
    "deletable": true,
    "jupyter": {
     "outputs_hidden": false
    },
    "new_sheet": false,
    "run_control": {
     "read_only": false
    }
   },
   "outputs": [
    {
     "data": {
      "text/html": [
       "<table>\n",
       "<caption>A data.frame: 57403 × 384</caption>\n",
       "<thead>\n",
       "\t<tr><th></th><th scope=col>cuisine</th><th scope=col>almond</th><th scope=col>angelica</th><th scope=col>anise</th><th scope=col>anise_seed</th><th scope=col>apple</th><th scope=col>apple_brandy</th><th scope=col>apricot</th><th scope=col>armagnac</th><th scope=col>artemisia</th><th scope=col>⋯</th><th scope=col>whiskey</th><th scope=col>white_bread</th><th scope=col>white_wine</th><th scope=col>whole_grain_wheat_flour</th><th scope=col>wine</th><th scope=col>wood</th><th scope=col>yam</th><th scope=col>yeast</th><th scope=col>yogurt</th><th scope=col>zucchini</th></tr>\n",
       "\t<tr><th></th><th scope=col>&lt;fct&gt;</th><th scope=col>&lt;fct&gt;</th><th scope=col>&lt;fct&gt;</th><th scope=col>&lt;fct&gt;</th><th scope=col>&lt;fct&gt;</th><th scope=col>&lt;fct&gt;</th><th scope=col>&lt;fct&gt;</th><th scope=col>&lt;fct&gt;</th><th scope=col>&lt;fct&gt;</th><th scope=col>&lt;fct&gt;</th><th scope=col>⋯</th><th scope=col>&lt;fct&gt;</th><th scope=col>&lt;fct&gt;</th><th scope=col>&lt;fct&gt;</th><th scope=col>&lt;fct&gt;</th><th scope=col>&lt;fct&gt;</th><th scope=col>&lt;fct&gt;</th><th scope=col>&lt;fct&gt;</th><th scope=col>&lt;fct&gt;</th><th scope=col>&lt;fct&gt;</th><th scope=col>&lt;fct&gt;</th></tr>\n",
       "</thead>\n",
       "<tbody>\n",
       "\t<tr><th scope=row>1</th><td>vietnamese</td><td>No</td><td>No</td><td>No</td><td>No</td><td>No</td><td>No</td><td>No</td><td>No</td><td>No</td><td>⋯</td><td>No</td><td>No</td><td>No </td><td>No</td><td>No </td><td>No</td><td>No</td><td>No </td><td>No</td><td>No</td></tr>\n",
       "\t<tr><th scope=row>2</th><td>vietnamese</td><td>No</td><td>No</td><td>No</td><td>No</td><td>No</td><td>No</td><td>No</td><td>No</td><td>No</td><td>⋯</td><td>No</td><td>No</td><td>No </td><td>No</td><td>No </td><td>No</td><td>No</td><td>No </td><td>No</td><td>No</td></tr>\n",
       "\t<tr><th scope=row>3</th><td>vietnamese</td><td>No</td><td>No</td><td>No</td><td>No</td><td>No</td><td>No</td><td>No</td><td>No</td><td>No</td><td>⋯</td><td>No</td><td>No</td><td>No </td><td>No</td><td>No </td><td>No</td><td>No</td><td>No </td><td>No</td><td>No</td></tr>\n",
       "\t<tr><th scope=row>4</th><td>vietnamese</td><td>No</td><td>No</td><td>No</td><td>No</td><td>No</td><td>No</td><td>No</td><td>No</td><td>No</td><td>⋯</td><td>No</td><td>No</td><td>No </td><td>No</td><td>No </td><td>No</td><td>No</td><td>No </td><td>No</td><td>No</td></tr>\n",
       "\t<tr><th scope=row>5</th><td>vietnamese</td><td>No</td><td>No</td><td>No</td><td>No</td><td>No</td><td>No</td><td>No</td><td>No</td><td>No</td><td>⋯</td><td>No</td><td>No</td><td>No </td><td>No</td><td>No </td><td>No</td><td>No</td><td>No </td><td>No</td><td>No</td></tr>\n",
       "\t<tr><th scope=row>6</th><td>vietnamese</td><td>No</td><td>No</td><td>No</td><td>No</td><td>No</td><td>No</td><td>No</td><td>No</td><td>No</td><td>⋯</td><td>No</td><td>No</td><td>No </td><td>No</td><td>No </td><td>No</td><td>No</td><td>No </td><td>No</td><td>No</td></tr>\n",
       "\t<tr><th scope=row>7</th><td>vietnamese</td><td>No</td><td>No</td><td>No</td><td>No</td><td>No</td><td>No</td><td>No</td><td>No</td><td>No</td><td>⋯</td><td>No</td><td>No</td><td>No </td><td>No</td><td>No </td><td>No</td><td>No</td><td>No </td><td>No</td><td>No</td></tr>\n",
       "\t<tr><th scope=row>8</th><td>vietnamese</td><td>No</td><td>No</td><td>No</td><td>No</td><td>No</td><td>No</td><td>No</td><td>No</td><td>No</td><td>⋯</td><td>No</td><td>No</td><td>No </td><td>No</td><td>No </td><td>No</td><td>No</td><td>No </td><td>No</td><td>No</td></tr>\n",
       "\t<tr><th scope=row>9</th><td>vietnamese</td><td>No</td><td>No</td><td>No</td><td>No</td><td>No</td><td>No</td><td>No</td><td>No</td><td>No</td><td>⋯</td><td>No</td><td>No</td><td>No </td><td>No</td><td>No </td><td>No</td><td>No</td><td>No </td><td>No</td><td>No</td></tr>\n",
       "\t<tr><th scope=row>10</th><td>vietnamese</td><td>No</td><td>No</td><td>No</td><td>No</td><td>No</td><td>No</td><td>No</td><td>No</td><td>No</td><td>⋯</td><td>No</td><td>No</td><td>No </td><td>No</td><td>No </td><td>No</td><td>No</td><td>No </td><td>No</td><td>No</td></tr>\n",
       "\t<tr><th scope=row>11</th><td>vietnamese</td><td>No</td><td>No</td><td>No</td><td>No</td><td>No</td><td>No</td><td>No</td><td>No</td><td>No</td><td>⋯</td><td>No</td><td>No</td><td>No </td><td>No</td><td>No </td><td>No</td><td>No</td><td>No </td><td>No</td><td>No</td></tr>\n",
       "\t<tr><th scope=row>12</th><td>vietnamese</td><td>No</td><td>No</td><td>No</td><td>No</td><td>No</td><td>No</td><td>No</td><td>No</td><td>No</td><td>⋯</td><td>No</td><td>No</td><td>No </td><td>No</td><td>No </td><td>No</td><td>No</td><td>No </td><td>No</td><td>No</td></tr>\n",
       "\t<tr><th scope=row>13</th><td>vietnamese</td><td>No</td><td>No</td><td>No</td><td>No</td><td>No</td><td>No</td><td>No</td><td>No</td><td>No</td><td>⋯</td><td>No</td><td>No</td><td>No </td><td>No</td><td>No </td><td>No</td><td>No</td><td>No </td><td>No</td><td>No</td></tr>\n",
       "\t<tr><th scope=row>14</th><td>vietnamese</td><td>No</td><td>No</td><td>No</td><td>No</td><td>No</td><td>No</td><td>No</td><td>No</td><td>No</td><td>⋯</td><td>No</td><td>No</td><td>No </td><td>No</td><td>Yes</td><td>No</td><td>No</td><td>No </td><td>No</td><td>No</td></tr>\n",
       "\t<tr><th scope=row>15</th><td>vietnamese</td><td>No</td><td>No</td><td>No</td><td>No</td><td>No</td><td>No</td><td>No</td><td>No</td><td>No</td><td>⋯</td><td>No</td><td>No</td><td>No </td><td>No</td><td>Yes</td><td>No</td><td>No</td><td>No </td><td>No</td><td>No</td></tr>\n",
       "\t<tr><th scope=row>16</th><td>vietnamese</td><td>No</td><td>No</td><td>No</td><td>No</td><td>No</td><td>No</td><td>No</td><td>No</td><td>No</td><td>⋯</td><td>No</td><td>No</td><td>No </td><td>No</td><td>No </td><td>No</td><td>No</td><td>No </td><td>No</td><td>No</td></tr>\n",
       "\t<tr><th scope=row>17</th><td>vietnamese</td><td>No</td><td>No</td><td>No</td><td>No</td><td>No</td><td>No</td><td>No</td><td>No</td><td>No</td><td>⋯</td><td>No</td><td>No</td><td>No </td><td>No</td><td>No </td><td>No</td><td>No</td><td>No </td><td>No</td><td>No</td></tr>\n",
       "\t<tr><th scope=row>18</th><td>vietnamese</td><td>No</td><td>No</td><td>No</td><td>No</td><td>No</td><td>No</td><td>No</td><td>No</td><td>No</td><td>⋯</td><td>No</td><td>No</td><td>No </td><td>No</td><td>No </td><td>No</td><td>No</td><td>No </td><td>No</td><td>No</td></tr>\n",
       "\t<tr><th scope=row>19</th><td>vietnamese</td><td>No</td><td>No</td><td>No</td><td>No</td><td>No</td><td>No</td><td>No</td><td>No</td><td>No</td><td>⋯</td><td>No</td><td>No</td><td>No </td><td>No</td><td>Yes</td><td>No</td><td>No</td><td>No </td><td>No</td><td>No</td></tr>\n",
       "\t<tr><th scope=row>20</th><td>vietnamese</td><td>No</td><td>No</td><td>No</td><td>No</td><td>No</td><td>No</td><td>No</td><td>No</td><td>No</td><td>⋯</td><td>No</td><td>No</td><td>No </td><td>No</td><td>No </td><td>No</td><td>No</td><td>Yes</td><td>No</td><td>No</td></tr>\n",
       "\t<tr><th scope=row>21</th><td>vietnamese</td><td>No</td><td>No</td><td>No</td><td>No</td><td>No</td><td>No</td><td>No</td><td>No</td><td>No</td><td>⋯</td><td>No</td><td>No</td><td>No </td><td>No</td><td>No </td><td>No</td><td>No</td><td>No </td><td>No</td><td>No</td></tr>\n",
       "\t<tr><th scope=row>22</th><td>vietnamese</td><td>No</td><td>No</td><td>No</td><td>No</td><td>No</td><td>No</td><td>No</td><td>No</td><td>No</td><td>⋯</td><td>No</td><td>No</td><td>No </td><td>No</td><td>No </td><td>No</td><td>No</td><td>No </td><td>No</td><td>No</td></tr>\n",
       "\t<tr><th scope=row>23</th><td>vietnamese</td><td>No</td><td>No</td><td>No</td><td>No</td><td>No</td><td>No</td><td>No</td><td>No</td><td>No</td><td>⋯</td><td>No</td><td>No</td><td>No </td><td>No</td><td>No </td><td>No</td><td>No</td><td>No </td><td>No</td><td>No</td></tr>\n",
       "\t<tr><th scope=row>24</th><td>vietnamese</td><td>No</td><td>No</td><td>No</td><td>No</td><td>No</td><td>No</td><td>No</td><td>No</td><td>No</td><td>⋯</td><td>No</td><td>No</td><td>No </td><td>No</td><td>No </td><td>No</td><td>No</td><td>No </td><td>No</td><td>No</td></tr>\n",
       "\t<tr><th scope=row>25</th><td>vietnamese</td><td>No</td><td>No</td><td>No</td><td>No</td><td>No</td><td>No</td><td>No</td><td>No</td><td>No</td><td>⋯</td><td>No</td><td>No</td><td>No </td><td>No</td><td>No </td><td>No</td><td>No</td><td>No </td><td>No</td><td>No</td></tr>\n",
       "\t<tr><th scope=row>26</th><td>vietnamese</td><td>No</td><td>No</td><td>No</td><td>No</td><td>No</td><td>No</td><td>No</td><td>No</td><td>No</td><td>⋯</td><td>No</td><td>No</td><td>No </td><td>No</td><td>No </td><td>No</td><td>No</td><td>No </td><td>No</td><td>No</td></tr>\n",
       "\t<tr><th scope=row>27</th><td>vietnamese</td><td>No</td><td>No</td><td>No</td><td>No</td><td>No</td><td>No</td><td>No</td><td>No</td><td>No</td><td>⋯</td><td>No</td><td>No</td><td>Yes</td><td>No</td><td>No </td><td>No</td><td>No</td><td>No </td><td>No</td><td>No</td></tr>\n",
       "\t<tr><th scope=row>28</th><td>vietnamese</td><td>No</td><td>No</td><td>No</td><td>No</td><td>No</td><td>No</td><td>No</td><td>No</td><td>No</td><td>⋯</td><td>No</td><td>No</td><td>No </td><td>No</td><td>No </td><td>No</td><td>No</td><td>No </td><td>No</td><td>No</td></tr>\n",
       "\t<tr><th scope=row>29</th><td>vietnamese</td><td>No</td><td>No</td><td>No</td><td>No</td><td>No</td><td>No</td><td>No</td><td>No</td><td>No</td><td>⋯</td><td>No</td><td>No</td><td>No </td><td>No</td><td>Yes</td><td>No</td><td>No</td><td>No </td><td>No</td><td>No</td></tr>\n",
       "\t<tr><th scope=row>30</th><td>vietnamese</td><td>No</td><td>No</td><td>No</td><td>No</td><td>No</td><td>No</td><td>No</td><td>No</td><td>No</td><td>⋯</td><td>No</td><td>No</td><td>No </td><td>No</td><td>No </td><td>No</td><td>No</td><td>No </td><td>No</td><td>No</td></tr>\n",
       "\t<tr><th scope=row>⋮</th><td>⋮</td><td>⋮</td><td>⋮</td><td>⋮</td><td>⋮</td><td>⋮</td><td>⋮</td><td>⋮</td><td>⋮</td><td>⋮</td><td>⋱</td><td>⋮</td><td>⋮</td><td>⋮</td><td>⋮</td><td>⋮</td><td>⋮</td><td>⋮</td><td>⋮</td><td>⋮</td><td>⋮</td></tr>\n",
       "\t<tr><th scope=row>57662</th><td>japanese</td><td>No</td><td>No</td><td>No</td><td>No</td><td>No</td><td>No</td><td>No</td><td>No</td><td>No</td><td>⋯</td><td>No</td><td>No</td><td>No</td><td>No</td><td>Yes</td><td>No</td><td>No</td><td>No</td><td>No</td><td>No</td></tr>\n",
       "\t<tr><th scope=row>57663</th><td>japanese</td><td>No</td><td>No</td><td>No</td><td>No</td><td>No</td><td>No</td><td>No</td><td>No</td><td>No</td><td>⋯</td><td>No</td><td>No</td><td>No</td><td>No</td><td>No </td><td>No</td><td>No</td><td>No</td><td>No</td><td>No</td></tr>\n",
       "\t<tr><th scope=row>57664</th><td>japanese</td><td>No</td><td>No</td><td>No</td><td>No</td><td>No</td><td>No</td><td>No</td><td>No</td><td>No</td><td>⋯</td><td>No</td><td>No</td><td>No</td><td>No</td><td>Yes</td><td>No</td><td>No</td><td>No</td><td>No</td><td>No</td></tr>\n",
       "\t<tr><th scope=row>57665</th><td>japanese</td><td>No</td><td>No</td><td>No</td><td>No</td><td>No</td><td>No</td><td>No</td><td>No</td><td>No</td><td>⋯</td><td>No</td><td>No</td><td>No</td><td>No</td><td>No </td><td>No</td><td>No</td><td>No</td><td>No</td><td>No</td></tr>\n",
       "\t<tr><th scope=row>57666</th><td>japanese</td><td>No</td><td>No</td><td>No</td><td>No</td><td>No</td><td>No</td><td>No</td><td>No</td><td>No</td><td>⋯</td><td>No</td><td>No</td><td>No</td><td>No</td><td>Yes</td><td>No</td><td>No</td><td>No</td><td>No</td><td>No</td></tr>\n",
       "\t<tr><th scope=row>57667</th><td>japanese</td><td>No</td><td>No</td><td>No</td><td>No</td><td>No</td><td>No</td><td>No</td><td>No</td><td>No</td><td>⋯</td><td>No</td><td>No</td><td>No</td><td>No</td><td>No </td><td>No</td><td>No</td><td>No</td><td>No</td><td>No</td></tr>\n",
       "\t<tr><th scope=row>57668</th><td>japanese</td><td>No</td><td>No</td><td>No</td><td>No</td><td>No</td><td>No</td><td>No</td><td>No</td><td>No</td><td>⋯</td><td>No</td><td>No</td><td>No</td><td>No</td><td>No </td><td>No</td><td>No</td><td>No</td><td>No</td><td>No</td></tr>\n",
       "\t<tr><th scope=row>57669</th><td>japanese</td><td>No</td><td>No</td><td>No</td><td>No</td><td>No</td><td>No</td><td>No</td><td>No</td><td>No</td><td>⋯</td><td>No</td><td>No</td><td>No</td><td>No</td><td>No </td><td>No</td><td>No</td><td>No</td><td>No</td><td>No</td></tr>\n",
       "\t<tr><th scope=row>57670</th><td>japanese</td><td>No</td><td>No</td><td>No</td><td>No</td><td>No</td><td>No</td><td>No</td><td>No</td><td>No</td><td>⋯</td><td>No</td><td>No</td><td>No</td><td>No</td><td>No </td><td>No</td><td>No</td><td>No</td><td>No</td><td>No</td></tr>\n",
       "\t<tr><th scope=row>57671</th><td>japanese</td><td>No</td><td>No</td><td>No</td><td>No</td><td>No</td><td>No</td><td>No</td><td>No</td><td>No</td><td>⋯</td><td>No</td><td>No</td><td>No</td><td>No</td><td>No </td><td>No</td><td>No</td><td>No</td><td>No</td><td>No</td></tr>\n",
       "\t<tr><th scope=row>57672</th><td>japanese</td><td>No</td><td>No</td><td>No</td><td>No</td><td>No</td><td>No</td><td>No</td><td>No</td><td>No</td><td>⋯</td><td>No</td><td>No</td><td>No</td><td>No</td><td>No </td><td>No</td><td>No</td><td>No</td><td>No</td><td>No</td></tr>\n",
       "\t<tr><th scope=row>57673</th><td>japanese</td><td>No</td><td>No</td><td>No</td><td>No</td><td>No</td><td>No</td><td>No</td><td>No</td><td>No</td><td>⋯</td><td>No</td><td>No</td><td>No</td><td>No</td><td>No </td><td>No</td><td>No</td><td>No</td><td>No</td><td>No</td></tr>\n",
       "\t<tr><th scope=row>57674</th><td>japanese</td><td>No</td><td>No</td><td>No</td><td>No</td><td>No</td><td>No</td><td>No</td><td>No</td><td>No</td><td>⋯</td><td>No</td><td>No</td><td>No</td><td>No</td><td>No </td><td>No</td><td>No</td><td>No</td><td>No</td><td>No</td></tr>\n",
       "\t<tr><th scope=row>57675</th><td>japanese</td><td>No</td><td>No</td><td>No</td><td>No</td><td>No</td><td>No</td><td>No</td><td>No</td><td>No</td><td>⋯</td><td>No</td><td>No</td><td>No</td><td>No</td><td>Yes</td><td>No</td><td>No</td><td>No</td><td>No</td><td>No</td></tr>\n",
       "\t<tr><th scope=row>57676</th><td>japanese</td><td>No</td><td>No</td><td>No</td><td>No</td><td>No</td><td>No</td><td>No</td><td>No</td><td>No</td><td>⋯</td><td>No</td><td>No</td><td>No</td><td>No</td><td>Yes</td><td>No</td><td>No</td><td>No</td><td>No</td><td>No</td></tr>\n",
       "\t<tr><th scope=row>57677</th><td>japanese</td><td>No</td><td>No</td><td>No</td><td>No</td><td>No</td><td>No</td><td>No</td><td>No</td><td>No</td><td>⋯</td><td>No</td><td>No</td><td>No</td><td>No</td><td>No </td><td>No</td><td>No</td><td>No</td><td>No</td><td>No</td></tr>\n",
       "\t<tr><th scope=row>57678</th><td>japanese</td><td>No</td><td>No</td><td>No</td><td>No</td><td>No</td><td>No</td><td>No</td><td>No</td><td>No</td><td>⋯</td><td>No</td><td>No</td><td>No</td><td>No</td><td>No </td><td>No</td><td>No</td><td>No</td><td>No</td><td>No</td></tr>\n",
       "\t<tr><th scope=row>57679</th><td>japanese</td><td>No</td><td>No</td><td>No</td><td>No</td><td>No</td><td>No</td><td>No</td><td>No</td><td>No</td><td>⋯</td><td>No</td><td>No</td><td>No</td><td>No</td><td>No </td><td>No</td><td>No</td><td>No</td><td>No</td><td>No</td></tr>\n",
       "\t<tr><th scope=row>57680</th><td>japanese</td><td>No</td><td>No</td><td>No</td><td>No</td><td>No</td><td>No</td><td>No</td><td>No</td><td>No</td><td>⋯</td><td>No</td><td>No</td><td>No</td><td>No</td><td>No </td><td>No</td><td>No</td><td>No</td><td>No</td><td>No</td></tr>\n",
       "\t<tr><th scope=row>57681</th><td>japanese</td><td>No</td><td>No</td><td>No</td><td>No</td><td>No</td><td>No</td><td>No</td><td>No</td><td>No</td><td>⋯</td><td>No</td><td>No</td><td>No</td><td>No</td><td>No </td><td>No</td><td>No</td><td>No</td><td>No</td><td>No</td></tr>\n",
       "\t<tr><th scope=row>57682</th><td>japanese</td><td>No</td><td>No</td><td>No</td><td>No</td><td>No</td><td>No</td><td>No</td><td>No</td><td>No</td><td>⋯</td><td>No</td><td>No</td><td>No</td><td>No</td><td>No </td><td>No</td><td>No</td><td>No</td><td>No</td><td>No</td></tr>\n",
       "\t<tr><th scope=row>57683</th><td>japanese</td><td>No</td><td>No</td><td>No</td><td>No</td><td>No</td><td>No</td><td>No</td><td>No</td><td>No</td><td>⋯</td><td>No</td><td>No</td><td>No</td><td>No</td><td>No </td><td>No</td><td>No</td><td>No</td><td>No</td><td>No</td></tr>\n",
       "\t<tr><th scope=row>57684</th><td>japanese</td><td>No</td><td>No</td><td>No</td><td>No</td><td>No</td><td>No</td><td>No</td><td>No</td><td>No</td><td>⋯</td><td>No</td><td>No</td><td>No</td><td>No</td><td>No </td><td>No</td><td>No</td><td>No</td><td>No</td><td>No</td></tr>\n",
       "\t<tr><th scope=row>57685</th><td>japanese</td><td>No</td><td>No</td><td>No</td><td>No</td><td>No</td><td>No</td><td>No</td><td>No</td><td>No</td><td>⋯</td><td>No</td><td>No</td><td>No</td><td>No</td><td>Yes</td><td>No</td><td>No</td><td>No</td><td>No</td><td>No</td></tr>\n",
       "\t<tr><th scope=row>57686</th><td>japanese</td><td>No</td><td>No</td><td>No</td><td>No</td><td>No</td><td>No</td><td>No</td><td>No</td><td>No</td><td>⋯</td><td>No</td><td>No</td><td>No</td><td>No</td><td>No </td><td>No</td><td>No</td><td>No</td><td>No</td><td>No</td></tr>\n",
       "\t<tr><th scope=row>57687</th><td>japanese</td><td>No</td><td>No</td><td>No</td><td>No</td><td>No</td><td>No</td><td>No</td><td>No</td><td>No</td><td>⋯</td><td>No</td><td>No</td><td>No</td><td>No</td><td>No </td><td>No</td><td>No</td><td>No</td><td>No</td><td>No</td></tr>\n",
       "\t<tr><th scope=row>57688</th><td>japanese</td><td>No</td><td>No</td><td>No</td><td>No</td><td>No</td><td>No</td><td>No</td><td>No</td><td>No</td><td>⋯</td><td>No</td><td>No</td><td>No</td><td>No</td><td>No </td><td>No</td><td>No</td><td>No</td><td>No</td><td>No</td></tr>\n",
       "\t<tr><th scope=row>57689</th><td>japanese</td><td>No</td><td>No</td><td>No</td><td>No</td><td>No</td><td>No</td><td>No</td><td>No</td><td>No</td><td>⋯</td><td>No</td><td>No</td><td>No</td><td>No</td><td>No </td><td>No</td><td>No</td><td>No</td><td>No</td><td>No</td></tr>\n",
       "\t<tr><th scope=row>57690</th><td>japanese</td><td>No</td><td>No</td><td>No</td><td>No</td><td>No</td><td>No</td><td>No</td><td>No</td><td>No</td><td>⋯</td><td>No</td><td>No</td><td>No</td><td>No</td><td>No </td><td>No</td><td>No</td><td>No</td><td>No</td><td>No</td></tr>\n",
       "\t<tr><th scope=row>57691</th><td>japanese</td><td>No</td><td>No</td><td>No</td><td>No</td><td>No</td><td>No</td><td>No</td><td>No</td><td>No</td><td>⋯</td><td>No</td><td>No</td><td>No</td><td>No</td><td>No </td><td>No</td><td>No</td><td>No</td><td>No</td><td>No</td></tr>\n",
       "</tbody>\n",
       "</table>\n"
      ],
      "text/latex": [
       "A data.frame: 57403 × 384\n",
       "\\begin{tabular}{r|lllllllllllllllllllll}\n",
       "  & cuisine & almond & angelica & anise & anise\\_seed & apple & apple\\_brandy & apricot & armagnac & artemisia & ⋯ & whiskey & white\\_bread & white\\_wine & whole\\_grain\\_wheat\\_flour & wine & wood & yam & yeast & yogurt & zucchini\\\\\n",
       "  & <fct> & <fct> & <fct> & <fct> & <fct> & <fct> & <fct> & <fct> & <fct> & <fct> & ⋯ & <fct> & <fct> & <fct> & <fct> & <fct> & <fct> & <fct> & <fct> & <fct> & <fct>\\\\\n",
       "\\hline\n",
       "\t1 & vietnamese & No & No & No & No & No & No & No & No & No & ⋯ & No & No & No  & No & No  & No & No & No  & No & No\\\\\n",
       "\t2 & vietnamese & No & No & No & No & No & No & No & No & No & ⋯ & No & No & No  & No & No  & No & No & No  & No & No\\\\\n",
       "\t3 & vietnamese & No & No & No & No & No & No & No & No & No & ⋯ & No & No & No  & No & No  & No & No & No  & No & No\\\\\n",
       "\t4 & vietnamese & No & No & No & No & No & No & No & No & No & ⋯ & No & No & No  & No & No  & No & No & No  & No & No\\\\\n",
       "\t5 & vietnamese & No & No & No & No & No & No & No & No & No & ⋯ & No & No & No  & No & No  & No & No & No  & No & No\\\\\n",
       "\t6 & vietnamese & No & No & No & No & No & No & No & No & No & ⋯ & No & No & No  & No & No  & No & No & No  & No & No\\\\\n",
       "\t7 & vietnamese & No & No & No & No & No & No & No & No & No & ⋯ & No & No & No  & No & No  & No & No & No  & No & No\\\\\n",
       "\t8 & vietnamese & No & No & No & No & No & No & No & No & No & ⋯ & No & No & No  & No & No  & No & No & No  & No & No\\\\\n",
       "\t9 & vietnamese & No & No & No & No & No & No & No & No & No & ⋯ & No & No & No  & No & No  & No & No & No  & No & No\\\\\n",
       "\t10 & vietnamese & No & No & No & No & No & No & No & No & No & ⋯ & No & No & No  & No & No  & No & No & No  & No & No\\\\\n",
       "\t11 & vietnamese & No & No & No & No & No & No & No & No & No & ⋯ & No & No & No  & No & No  & No & No & No  & No & No\\\\\n",
       "\t12 & vietnamese & No & No & No & No & No & No & No & No & No & ⋯ & No & No & No  & No & No  & No & No & No  & No & No\\\\\n",
       "\t13 & vietnamese & No & No & No & No & No & No & No & No & No & ⋯ & No & No & No  & No & No  & No & No & No  & No & No\\\\\n",
       "\t14 & vietnamese & No & No & No & No & No & No & No & No & No & ⋯ & No & No & No  & No & Yes & No & No & No  & No & No\\\\\n",
       "\t15 & vietnamese & No & No & No & No & No & No & No & No & No & ⋯ & No & No & No  & No & Yes & No & No & No  & No & No\\\\\n",
       "\t16 & vietnamese & No & No & No & No & No & No & No & No & No & ⋯ & No & No & No  & No & No  & No & No & No  & No & No\\\\\n",
       "\t17 & vietnamese & No & No & No & No & No & No & No & No & No & ⋯ & No & No & No  & No & No  & No & No & No  & No & No\\\\\n",
       "\t18 & vietnamese & No & No & No & No & No & No & No & No & No & ⋯ & No & No & No  & No & No  & No & No & No  & No & No\\\\\n",
       "\t19 & vietnamese & No & No & No & No & No & No & No & No & No & ⋯ & No & No & No  & No & Yes & No & No & No  & No & No\\\\\n",
       "\t20 & vietnamese & No & No & No & No & No & No & No & No & No & ⋯ & No & No & No  & No & No  & No & No & Yes & No & No\\\\\n",
       "\t21 & vietnamese & No & No & No & No & No & No & No & No & No & ⋯ & No & No & No  & No & No  & No & No & No  & No & No\\\\\n",
       "\t22 & vietnamese & No & No & No & No & No & No & No & No & No & ⋯ & No & No & No  & No & No  & No & No & No  & No & No\\\\\n",
       "\t23 & vietnamese & No & No & No & No & No & No & No & No & No & ⋯ & No & No & No  & No & No  & No & No & No  & No & No\\\\\n",
       "\t24 & vietnamese & No & No & No & No & No & No & No & No & No & ⋯ & No & No & No  & No & No  & No & No & No  & No & No\\\\\n",
       "\t25 & vietnamese & No & No & No & No & No & No & No & No & No & ⋯ & No & No & No  & No & No  & No & No & No  & No & No\\\\\n",
       "\t26 & vietnamese & No & No & No & No & No & No & No & No & No & ⋯ & No & No & No  & No & No  & No & No & No  & No & No\\\\\n",
       "\t27 & vietnamese & No & No & No & No & No & No & No & No & No & ⋯ & No & No & Yes & No & No  & No & No & No  & No & No\\\\\n",
       "\t28 & vietnamese & No & No & No & No & No & No & No & No & No & ⋯ & No & No & No  & No & No  & No & No & No  & No & No\\\\\n",
       "\t29 & vietnamese & No & No & No & No & No & No & No & No & No & ⋯ & No & No & No  & No & Yes & No & No & No  & No & No\\\\\n",
       "\t30 & vietnamese & No & No & No & No & No & No & No & No & No & ⋯ & No & No & No  & No & No  & No & No & No  & No & No\\\\\n",
       "\t⋮ & ⋮ & ⋮ & ⋮ & ⋮ & ⋮ & ⋮ & ⋮ & ⋮ & ⋮ & ⋮ & ⋱ & ⋮ & ⋮ & ⋮ & ⋮ & ⋮ & ⋮ & ⋮ & ⋮ & ⋮ & ⋮\\\\\n",
       "\t57662 & japanese & No & No & No & No & No & No & No & No & No & ⋯ & No & No & No & No & Yes & No & No & No & No & No\\\\\n",
       "\t57663 & japanese & No & No & No & No & No & No & No & No & No & ⋯ & No & No & No & No & No  & No & No & No & No & No\\\\\n",
       "\t57664 & japanese & No & No & No & No & No & No & No & No & No & ⋯ & No & No & No & No & Yes & No & No & No & No & No\\\\\n",
       "\t57665 & japanese & No & No & No & No & No & No & No & No & No & ⋯ & No & No & No & No & No  & No & No & No & No & No\\\\\n",
       "\t57666 & japanese & No & No & No & No & No & No & No & No & No & ⋯ & No & No & No & No & Yes & No & No & No & No & No\\\\\n",
       "\t57667 & japanese & No & No & No & No & No & No & No & No & No & ⋯ & No & No & No & No & No  & No & No & No & No & No\\\\\n",
       "\t57668 & japanese & No & No & No & No & No & No & No & No & No & ⋯ & No & No & No & No & No  & No & No & No & No & No\\\\\n",
       "\t57669 & japanese & No & No & No & No & No & No & No & No & No & ⋯ & No & No & No & No & No  & No & No & No & No & No\\\\\n",
       "\t57670 & japanese & No & No & No & No & No & No & No & No & No & ⋯ & No & No & No & No & No  & No & No & No & No & No\\\\\n",
       "\t57671 & japanese & No & No & No & No & No & No & No & No & No & ⋯ & No & No & No & No & No  & No & No & No & No & No\\\\\n",
       "\t57672 & japanese & No & No & No & No & No & No & No & No & No & ⋯ & No & No & No & No & No  & No & No & No & No & No\\\\\n",
       "\t57673 & japanese & No & No & No & No & No & No & No & No & No & ⋯ & No & No & No & No & No  & No & No & No & No & No\\\\\n",
       "\t57674 & japanese & No & No & No & No & No & No & No & No & No & ⋯ & No & No & No & No & No  & No & No & No & No & No\\\\\n",
       "\t57675 & japanese & No & No & No & No & No & No & No & No & No & ⋯ & No & No & No & No & Yes & No & No & No & No & No\\\\\n",
       "\t57676 & japanese & No & No & No & No & No & No & No & No & No & ⋯ & No & No & No & No & Yes & No & No & No & No & No\\\\\n",
       "\t57677 & japanese & No & No & No & No & No & No & No & No & No & ⋯ & No & No & No & No & No  & No & No & No & No & No\\\\\n",
       "\t57678 & japanese & No & No & No & No & No & No & No & No & No & ⋯ & No & No & No & No & No  & No & No & No & No & No\\\\\n",
       "\t57679 & japanese & No & No & No & No & No & No & No & No & No & ⋯ & No & No & No & No & No  & No & No & No & No & No\\\\\n",
       "\t57680 & japanese & No & No & No & No & No & No & No & No & No & ⋯ & No & No & No & No & No  & No & No & No & No & No\\\\\n",
       "\t57681 & japanese & No & No & No & No & No & No & No & No & No & ⋯ & No & No & No & No & No  & No & No & No & No & No\\\\\n",
       "\t57682 & japanese & No & No & No & No & No & No & No & No & No & ⋯ & No & No & No & No & No  & No & No & No & No & No\\\\\n",
       "\t57683 & japanese & No & No & No & No & No & No & No & No & No & ⋯ & No & No & No & No & No  & No & No & No & No & No\\\\\n",
       "\t57684 & japanese & No & No & No & No & No & No & No & No & No & ⋯ & No & No & No & No & No  & No & No & No & No & No\\\\\n",
       "\t57685 & japanese & No & No & No & No & No & No & No & No & No & ⋯ & No & No & No & No & Yes & No & No & No & No & No\\\\\n",
       "\t57686 & japanese & No & No & No & No & No & No & No & No & No & ⋯ & No & No & No & No & No  & No & No & No & No & No\\\\\n",
       "\t57687 & japanese & No & No & No & No & No & No & No & No & No & ⋯ & No & No & No & No & No  & No & No & No & No & No\\\\\n",
       "\t57688 & japanese & No & No & No & No & No & No & No & No & No & ⋯ & No & No & No & No & No  & No & No & No & No & No\\\\\n",
       "\t57689 & japanese & No & No & No & No & No & No & No & No & No & ⋯ & No & No & No & No & No  & No & No & No & No & No\\\\\n",
       "\t57690 & japanese & No & No & No & No & No & No & No & No & No & ⋯ & No & No & No & No & No  & No & No & No & No & No\\\\\n",
       "\t57691 & japanese & No & No & No & No & No & No & No & No & No & ⋯ & No & No & No & No & No  & No & No & No & No & No\\\\\n",
       "\\end{tabular}\n"
      ],
      "text/markdown": [
       "\n",
       "A data.frame: 57403 × 384\n",
       "\n",
       "| <!--/--> | cuisine &lt;fct&gt; | almond &lt;fct&gt; | angelica &lt;fct&gt; | anise &lt;fct&gt; | anise_seed &lt;fct&gt; | apple &lt;fct&gt; | apple_brandy &lt;fct&gt; | apricot &lt;fct&gt; | armagnac &lt;fct&gt; | artemisia &lt;fct&gt; | ⋯ ⋯ | whiskey &lt;fct&gt; | white_bread &lt;fct&gt; | white_wine &lt;fct&gt; | whole_grain_wheat_flour &lt;fct&gt; | wine &lt;fct&gt; | wood &lt;fct&gt; | yam &lt;fct&gt; | yeast &lt;fct&gt; | yogurt &lt;fct&gt; | zucchini &lt;fct&gt; |\n",
       "|---|---|---|---|---|---|---|---|---|---|---|---|---|---|---|---|---|---|---|---|---|---|\n",
       "| 1 | vietnamese | No | No | No | No | No | No | No | No | No | ⋯ | No | No | No  | No | No  | No | No | No  | No | No |\n",
       "| 2 | vietnamese | No | No | No | No | No | No | No | No | No | ⋯ | No | No | No  | No | No  | No | No | No  | No | No |\n",
       "| 3 | vietnamese | No | No | No | No | No | No | No | No | No | ⋯ | No | No | No  | No | No  | No | No | No  | No | No |\n",
       "| 4 | vietnamese | No | No | No | No | No | No | No | No | No | ⋯ | No | No | No  | No | No  | No | No | No  | No | No |\n",
       "| 5 | vietnamese | No | No | No | No | No | No | No | No | No | ⋯ | No | No | No  | No | No  | No | No | No  | No | No |\n",
       "| 6 | vietnamese | No | No | No | No | No | No | No | No | No | ⋯ | No | No | No  | No | No  | No | No | No  | No | No |\n",
       "| 7 | vietnamese | No | No | No | No | No | No | No | No | No | ⋯ | No | No | No  | No | No  | No | No | No  | No | No |\n",
       "| 8 | vietnamese | No | No | No | No | No | No | No | No | No | ⋯ | No | No | No  | No | No  | No | No | No  | No | No |\n",
       "| 9 | vietnamese | No | No | No | No | No | No | No | No | No | ⋯ | No | No | No  | No | No  | No | No | No  | No | No |\n",
       "| 10 | vietnamese | No | No | No | No | No | No | No | No | No | ⋯ | No | No | No  | No | No  | No | No | No  | No | No |\n",
       "| 11 | vietnamese | No | No | No | No | No | No | No | No | No | ⋯ | No | No | No  | No | No  | No | No | No  | No | No |\n",
       "| 12 | vietnamese | No | No | No | No | No | No | No | No | No | ⋯ | No | No | No  | No | No  | No | No | No  | No | No |\n",
       "| 13 | vietnamese | No | No | No | No | No | No | No | No | No | ⋯ | No | No | No  | No | No  | No | No | No  | No | No |\n",
       "| 14 | vietnamese | No | No | No | No | No | No | No | No | No | ⋯ | No | No | No  | No | Yes | No | No | No  | No | No |\n",
       "| 15 | vietnamese | No | No | No | No | No | No | No | No | No | ⋯ | No | No | No  | No | Yes | No | No | No  | No | No |\n",
       "| 16 | vietnamese | No | No | No | No | No | No | No | No | No | ⋯ | No | No | No  | No | No  | No | No | No  | No | No |\n",
       "| 17 | vietnamese | No | No | No | No | No | No | No | No | No | ⋯ | No | No | No  | No | No  | No | No | No  | No | No |\n",
       "| 18 | vietnamese | No | No | No | No | No | No | No | No | No | ⋯ | No | No | No  | No | No  | No | No | No  | No | No |\n",
       "| 19 | vietnamese | No | No | No | No | No | No | No | No | No | ⋯ | No | No | No  | No | Yes | No | No | No  | No | No |\n",
       "| 20 | vietnamese | No | No | No | No | No | No | No | No | No | ⋯ | No | No | No  | No | No  | No | No | Yes | No | No |\n",
       "| 21 | vietnamese | No | No | No | No | No | No | No | No | No | ⋯ | No | No | No  | No | No  | No | No | No  | No | No |\n",
       "| 22 | vietnamese | No | No | No | No | No | No | No | No | No | ⋯ | No | No | No  | No | No  | No | No | No  | No | No |\n",
       "| 23 | vietnamese | No | No | No | No | No | No | No | No | No | ⋯ | No | No | No  | No | No  | No | No | No  | No | No |\n",
       "| 24 | vietnamese | No | No | No | No | No | No | No | No | No | ⋯ | No | No | No  | No | No  | No | No | No  | No | No |\n",
       "| 25 | vietnamese | No | No | No | No | No | No | No | No | No | ⋯ | No | No | No  | No | No  | No | No | No  | No | No |\n",
       "| 26 | vietnamese | No | No | No | No | No | No | No | No | No | ⋯ | No | No | No  | No | No  | No | No | No  | No | No |\n",
       "| 27 | vietnamese | No | No | No | No | No | No | No | No | No | ⋯ | No | No | Yes | No | No  | No | No | No  | No | No |\n",
       "| 28 | vietnamese | No | No | No | No | No | No | No | No | No | ⋯ | No | No | No  | No | No  | No | No | No  | No | No |\n",
       "| 29 | vietnamese | No | No | No | No | No | No | No | No | No | ⋯ | No | No | No  | No | Yes | No | No | No  | No | No |\n",
       "| 30 | vietnamese | No | No | No | No | No | No | No | No | No | ⋯ | No | No | No  | No | No  | No | No | No  | No | No |\n",
       "| ⋮ | ⋮ | ⋮ | ⋮ | ⋮ | ⋮ | ⋮ | ⋮ | ⋮ | ⋮ | ⋮ | ⋱ | ⋮ | ⋮ | ⋮ | ⋮ | ⋮ | ⋮ | ⋮ | ⋮ | ⋮ | ⋮ |\n",
       "| 57662 | japanese | No | No | No | No | No | No | No | No | No | ⋯ | No | No | No | No | Yes | No | No | No | No | No |\n",
       "| 57663 | japanese | No | No | No | No | No | No | No | No | No | ⋯ | No | No | No | No | No  | No | No | No | No | No |\n",
       "| 57664 | japanese | No | No | No | No | No | No | No | No | No | ⋯ | No | No | No | No | Yes | No | No | No | No | No |\n",
       "| 57665 | japanese | No | No | No | No | No | No | No | No | No | ⋯ | No | No | No | No | No  | No | No | No | No | No |\n",
       "| 57666 | japanese | No | No | No | No | No | No | No | No | No | ⋯ | No | No | No | No | Yes | No | No | No | No | No |\n",
       "| 57667 | japanese | No | No | No | No | No | No | No | No | No | ⋯ | No | No | No | No | No  | No | No | No | No | No |\n",
       "| 57668 | japanese | No | No | No | No | No | No | No | No | No | ⋯ | No | No | No | No | No  | No | No | No | No | No |\n",
       "| 57669 | japanese | No | No | No | No | No | No | No | No | No | ⋯ | No | No | No | No | No  | No | No | No | No | No |\n",
       "| 57670 | japanese | No | No | No | No | No | No | No | No | No | ⋯ | No | No | No | No | No  | No | No | No | No | No |\n",
       "| 57671 | japanese | No | No | No | No | No | No | No | No | No | ⋯ | No | No | No | No | No  | No | No | No | No | No |\n",
       "| 57672 | japanese | No | No | No | No | No | No | No | No | No | ⋯ | No | No | No | No | No  | No | No | No | No | No |\n",
       "| 57673 | japanese | No | No | No | No | No | No | No | No | No | ⋯ | No | No | No | No | No  | No | No | No | No | No |\n",
       "| 57674 | japanese | No | No | No | No | No | No | No | No | No | ⋯ | No | No | No | No | No  | No | No | No | No | No |\n",
       "| 57675 | japanese | No | No | No | No | No | No | No | No | No | ⋯ | No | No | No | No | Yes | No | No | No | No | No |\n",
       "| 57676 | japanese | No | No | No | No | No | No | No | No | No | ⋯ | No | No | No | No | Yes | No | No | No | No | No |\n",
       "| 57677 | japanese | No | No | No | No | No | No | No | No | No | ⋯ | No | No | No | No | No  | No | No | No | No | No |\n",
       "| 57678 | japanese | No | No | No | No | No | No | No | No | No | ⋯ | No | No | No | No | No  | No | No | No | No | No |\n",
       "| 57679 | japanese | No | No | No | No | No | No | No | No | No | ⋯ | No | No | No | No | No  | No | No | No | No | No |\n",
       "| 57680 | japanese | No | No | No | No | No | No | No | No | No | ⋯ | No | No | No | No | No  | No | No | No | No | No |\n",
       "| 57681 | japanese | No | No | No | No | No | No | No | No | No | ⋯ | No | No | No | No | No  | No | No | No | No | No |\n",
       "| 57682 | japanese | No | No | No | No | No | No | No | No | No | ⋯ | No | No | No | No | No  | No | No | No | No | No |\n",
       "| 57683 | japanese | No | No | No | No | No | No | No | No | No | ⋯ | No | No | No | No | No  | No | No | No | No | No |\n",
       "| 57684 | japanese | No | No | No | No | No | No | No | No | No | ⋯ | No | No | No | No | No  | No | No | No | No | No |\n",
       "| 57685 | japanese | No | No | No | No | No | No | No | No | No | ⋯ | No | No | No | No | Yes | No | No | No | No | No |\n",
       "| 57686 | japanese | No | No | No | No | No | No | No | No | No | ⋯ | No | No | No | No | No  | No | No | No | No | No |\n",
       "| 57687 | japanese | No | No | No | No | No | No | No | No | No | ⋯ | No | No | No | No | No  | No | No | No | No | No |\n",
       "| 57688 | japanese | No | No | No | No | No | No | No | No | No | ⋯ | No | No | No | No | No  | No | No | No | No | No |\n",
       "| 57689 | japanese | No | No | No | No | No | No | No | No | No | ⋯ | No | No | No | No | No  | No | No | No | No | No |\n",
       "| 57690 | japanese | No | No | No | No | No | No | No | No | No | ⋯ | No | No | No | No | No  | No | No | No | No | No |\n",
       "| 57691 | japanese | No | No | No | No | No | No | No | No | No | ⋯ | No | No | No | No | No  | No | No | No | No | No |\n",
       "\n"
      ],
      "text/plain": [
       "      cuisine    almond angelica anise anise_seed apple apple_brandy apricot\n",
       "1     vietnamese No     No       No    No         No    No           No     \n",
       "2     vietnamese No     No       No    No         No    No           No     \n",
       "3     vietnamese No     No       No    No         No    No           No     \n",
       "4     vietnamese No     No       No    No         No    No           No     \n",
       "5     vietnamese No     No       No    No         No    No           No     \n",
       "6     vietnamese No     No       No    No         No    No           No     \n",
       "7     vietnamese No     No       No    No         No    No           No     \n",
       "8     vietnamese No     No       No    No         No    No           No     \n",
       "9     vietnamese No     No       No    No         No    No           No     \n",
       "10    vietnamese No     No       No    No         No    No           No     \n",
       "11    vietnamese No     No       No    No         No    No           No     \n",
       "12    vietnamese No     No       No    No         No    No           No     \n",
       "13    vietnamese No     No       No    No         No    No           No     \n",
       "14    vietnamese No     No       No    No         No    No           No     \n",
       "15    vietnamese No     No       No    No         No    No           No     \n",
       "16    vietnamese No     No       No    No         No    No           No     \n",
       "17    vietnamese No     No       No    No         No    No           No     \n",
       "18    vietnamese No     No       No    No         No    No           No     \n",
       "19    vietnamese No     No       No    No         No    No           No     \n",
       "20    vietnamese No     No       No    No         No    No           No     \n",
       "21    vietnamese No     No       No    No         No    No           No     \n",
       "22    vietnamese No     No       No    No         No    No           No     \n",
       "23    vietnamese No     No       No    No         No    No           No     \n",
       "24    vietnamese No     No       No    No         No    No           No     \n",
       "25    vietnamese No     No       No    No         No    No           No     \n",
       "26    vietnamese No     No       No    No         No    No           No     \n",
       "27    vietnamese No     No       No    No         No    No           No     \n",
       "28    vietnamese No     No       No    No         No    No           No     \n",
       "29    vietnamese No     No       No    No         No    No           No     \n",
       "30    vietnamese No     No       No    No         No    No           No     \n",
       "⋮     ⋮          ⋮      ⋮        ⋮     ⋮          ⋮     ⋮            ⋮      \n",
       "57662 japanese   No     No       No    No         No    No           No     \n",
       "57663 japanese   No     No       No    No         No    No           No     \n",
       "57664 japanese   No     No       No    No         No    No           No     \n",
       "57665 japanese   No     No       No    No         No    No           No     \n",
       "57666 japanese   No     No       No    No         No    No           No     \n",
       "57667 japanese   No     No       No    No         No    No           No     \n",
       "57668 japanese   No     No       No    No         No    No           No     \n",
       "57669 japanese   No     No       No    No         No    No           No     \n",
       "57670 japanese   No     No       No    No         No    No           No     \n",
       "57671 japanese   No     No       No    No         No    No           No     \n",
       "57672 japanese   No     No       No    No         No    No           No     \n",
       "57673 japanese   No     No       No    No         No    No           No     \n",
       "57674 japanese   No     No       No    No         No    No           No     \n",
       "57675 japanese   No     No       No    No         No    No           No     \n",
       "57676 japanese   No     No       No    No         No    No           No     \n",
       "57677 japanese   No     No       No    No         No    No           No     \n",
       "57678 japanese   No     No       No    No         No    No           No     \n",
       "57679 japanese   No     No       No    No         No    No           No     \n",
       "57680 japanese   No     No       No    No         No    No           No     \n",
       "57681 japanese   No     No       No    No         No    No           No     \n",
       "57682 japanese   No     No       No    No         No    No           No     \n",
       "57683 japanese   No     No       No    No         No    No           No     \n",
       "57684 japanese   No     No       No    No         No    No           No     \n",
       "57685 japanese   No     No       No    No         No    No           No     \n",
       "57686 japanese   No     No       No    No         No    No           No     \n",
       "57687 japanese   No     No       No    No         No    No           No     \n",
       "57688 japanese   No     No       No    No         No    No           No     \n",
       "57689 japanese   No     No       No    No         No    No           No     \n",
       "57690 japanese   No     No       No    No         No    No           No     \n",
       "57691 japanese   No     No       No    No         No    No           No     \n",
       "      armagnac artemisia ⋯ whiskey white_bread white_wine\n",
       "1     No       No        ⋯ No      No          No        \n",
       "2     No       No        ⋯ No      No          No        \n",
       "3     No       No        ⋯ No      No          No        \n",
       "4     No       No        ⋯ No      No          No        \n",
       "5     No       No        ⋯ No      No          No        \n",
       "6     No       No        ⋯ No      No          No        \n",
       "7     No       No        ⋯ No      No          No        \n",
       "8     No       No        ⋯ No      No          No        \n",
       "9     No       No        ⋯ No      No          No        \n",
       "10    No       No        ⋯ No      No          No        \n",
       "11    No       No        ⋯ No      No          No        \n",
       "12    No       No        ⋯ No      No          No        \n",
       "13    No       No        ⋯ No      No          No        \n",
       "14    No       No        ⋯ No      No          No        \n",
       "15    No       No        ⋯ No      No          No        \n",
       "16    No       No        ⋯ No      No          No        \n",
       "17    No       No        ⋯ No      No          No        \n",
       "18    No       No        ⋯ No      No          No        \n",
       "19    No       No        ⋯ No      No          No        \n",
       "20    No       No        ⋯ No      No          No        \n",
       "21    No       No        ⋯ No      No          No        \n",
       "22    No       No        ⋯ No      No          No        \n",
       "23    No       No        ⋯ No      No          No        \n",
       "24    No       No        ⋯ No      No          No        \n",
       "25    No       No        ⋯ No      No          No        \n",
       "26    No       No        ⋯ No      No          No        \n",
       "27    No       No        ⋯ No      No          Yes       \n",
       "28    No       No        ⋯ No      No          No        \n",
       "29    No       No        ⋯ No      No          No        \n",
       "30    No       No        ⋯ No      No          No        \n",
       "⋮     ⋮        ⋮         ⋱ ⋮       ⋮           ⋮         \n",
       "57662 No       No        ⋯ No      No          No        \n",
       "57663 No       No        ⋯ No      No          No        \n",
       "57664 No       No        ⋯ No      No          No        \n",
       "57665 No       No        ⋯ No      No          No        \n",
       "57666 No       No        ⋯ No      No          No        \n",
       "57667 No       No        ⋯ No      No          No        \n",
       "57668 No       No        ⋯ No      No          No        \n",
       "57669 No       No        ⋯ No      No          No        \n",
       "57670 No       No        ⋯ No      No          No        \n",
       "57671 No       No        ⋯ No      No          No        \n",
       "57672 No       No        ⋯ No      No          No        \n",
       "57673 No       No        ⋯ No      No          No        \n",
       "57674 No       No        ⋯ No      No          No        \n",
       "57675 No       No        ⋯ No      No          No        \n",
       "57676 No       No        ⋯ No      No          No        \n",
       "57677 No       No        ⋯ No      No          No        \n",
       "57678 No       No        ⋯ No      No          No        \n",
       "57679 No       No        ⋯ No      No          No        \n",
       "57680 No       No        ⋯ No      No          No        \n",
       "57681 No       No        ⋯ No      No          No        \n",
       "57682 No       No        ⋯ No      No          No        \n",
       "57683 No       No        ⋯ No      No          No        \n",
       "57684 No       No        ⋯ No      No          No        \n",
       "57685 No       No        ⋯ No      No          No        \n",
       "57686 No       No        ⋯ No      No          No        \n",
       "57687 No       No        ⋯ No      No          No        \n",
       "57688 No       No        ⋯ No      No          No        \n",
       "57689 No       No        ⋯ No      No          No        \n",
       "57690 No       No        ⋯ No      No          No        \n",
       "57691 No       No        ⋯ No      No          No        \n",
       "      whole_grain_wheat_flour wine wood yam yeast yogurt zucchini\n",
       "1     No                      No   No   No  No    No     No      \n",
       "2     No                      No   No   No  No    No     No      \n",
       "3     No                      No   No   No  No    No     No      \n",
       "4     No                      No   No   No  No    No     No      \n",
       "5     No                      No   No   No  No    No     No      \n",
       "6     No                      No   No   No  No    No     No      \n",
       "7     No                      No   No   No  No    No     No      \n",
       "8     No                      No   No   No  No    No     No      \n",
       "9     No                      No   No   No  No    No     No      \n",
       "10    No                      No   No   No  No    No     No      \n",
       "11    No                      No   No   No  No    No     No      \n",
       "12    No                      No   No   No  No    No     No      \n",
       "13    No                      No   No   No  No    No     No      \n",
       "14    No                      Yes  No   No  No    No     No      \n",
       "15    No                      Yes  No   No  No    No     No      \n",
       "16    No                      No   No   No  No    No     No      \n",
       "17    No                      No   No   No  No    No     No      \n",
       "18    No                      No   No   No  No    No     No      \n",
       "19    No                      Yes  No   No  No    No     No      \n",
       "20    No                      No   No   No  Yes   No     No      \n",
       "21    No                      No   No   No  No    No     No      \n",
       "22    No                      No   No   No  No    No     No      \n",
       "23    No                      No   No   No  No    No     No      \n",
       "24    No                      No   No   No  No    No     No      \n",
       "25    No                      No   No   No  No    No     No      \n",
       "26    No                      No   No   No  No    No     No      \n",
       "27    No                      No   No   No  No    No     No      \n",
       "28    No                      No   No   No  No    No     No      \n",
       "29    No                      Yes  No   No  No    No     No      \n",
       "30    No                      No   No   No  No    No     No      \n",
       "⋮     ⋮                       ⋮    ⋮    ⋮   ⋮     ⋮      ⋮       \n",
       "57662 No                      Yes  No   No  No    No     No      \n",
       "57663 No                      No   No   No  No    No     No      \n",
       "57664 No                      Yes  No   No  No    No     No      \n",
       "57665 No                      No   No   No  No    No     No      \n",
       "57666 No                      Yes  No   No  No    No     No      \n",
       "57667 No                      No   No   No  No    No     No      \n",
       "57668 No                      No   No   No  No    No     No      \n",
       "57669 No                      No   No   No  No    No     No      \n",
       "57670 No                      No   No   No  No    No     No      \n",
       "57671 No                      No   No   No  No    No     No      \n",
       "57672 No                      No   No   No  No    No     No      \n",
       "57673 No                      No   No   No  No    No     No      \n",
       "57674 No                      No   No   No  No    No     No      \n",
       "57675 No                      Yes  No   No  No    No     No      \n",
       "57676 No                      Yes  No   No  No    No     No      \n",
       "57677 No                      No   No   No  No    No     No      \n",
       "57678 No                      No   No   No  No    No     No      \n",
       "57679 No                      No   No   No  No    No     No      \n",
       "57680 No                      No   No   No  No    No     No      \n",
       "57681 No                      No   No   No  No    No     No      \n",
       "57682 No                      No   No   No  No    No     No      \n",
       "57683 No                      No   No   No  No    No     No      \n",
       "57684 No                      No   No   No  No    No     No      \n",
       "57685 No                      Yes  No   No  No    No     No      \n",
       "57686 No                      No   No   No  No    No     No      \n",
       "57687 No                      No   No   No  No    No     No      \n",
       "57688 No                      No   No   No  No    No     No      \n",
       "57689 No                      No   No   No  No    No     No      \n",
       "57690 No                      No   No   No  No    No     No      \n",
       "57691 No                      No   No   No  No    No     No      "
      ]
     },
     "metadata": {},
     "output_type": "display_data"
    }
   ],
   "source": [
    "recipes[,names(recipes)] <- lapply(recipes[,names(recipes)], as.factor)\n",
    "\n",
    "recipes"
   ]
  },
  {
   "cell_type": "markdown",
   "metadata": {
    "button": false,
    "deletable": true,
    "new_sheet": false,
    "run_control": {
     "read_only": false
    }
   },
   "source": [
    "In R, you can check the structure of your data using the **str** function. Let's check the structure of our dataframe **recipes**."
   ]
  },
  {
   "cell_type": "code",
   "execution_count": 15,
   "metadata": {
    "button": false,
    "collapsed": false,
    "deletable": true,
    "jupyter": {
     "outputs_hidden": false
    },
    "new_sheet": false,
    "run_control": {
     "read_only": false
    }
   },
   "outputs": [
    {
     "name": "stdout",
     "output_type": "stream",
     "text": [
      "'data.frame':\t57403 obs. of  384 variables:\n",
      " $ cuisine                : Factor w/ 34 levels \"african\",\"american\",..: 33 33 33 33 33 33 33 33 33 33 ...\n",
      " $ almond                 : Factor w/ 2 levels \"No\",\"Yes\": 1 1 1 1 1 1 1 1 1 1 ...\n",
      " $ angelica               : Factor w/ 2 levels \"No\",\"Yes\": 1 1 1 1 1 1 1 1 1 1 ...\n",
      " $ anise                  : Factor w/ 2 levels \"No\",\"Yes\": 1 1 1 1 1 1 1 1 1 1 ...\n",
      " $ anise_seed             : Factor w/ 2 levels \"No\",\"Yes\": 1 1 1 1 1 1 1 1 1 1 ...\n",
      " $ apple                  : Factor w/ 2 levels \"No\",\"Yes\": 1 1 1 1 1 1 1 1 1 1 ...\n",
      " $ apple_brandy           : Factor w/ 2 levels \"No\",\"Yes\": 1 1 1 1 1 1 1 1 1 1 ...\n",
      " $ apricot                : Factor w/ 2 levels \"No\",\"Yes\": 1 1 1 1 1 1 1 1 1 1 ...\n",
      " $ armagnac               : Factor w/ 2 levels \"No\",\"Yes\": 1 1 1 1 1 1 1 1 1 1 ...\n",
      " $ artemisia              : Factor w/ 2 levels \"No\",\"Yes\": 1 1 1 1 1 1 1 1 1 1 ...\n",
      " $ artichoke              : Factor w/ 2 levels \"No\",\"Yes\": 1 1 1 1 1 1 1 1 1 1 ...\n",
      " $ asparagus              : Factor w/ 2 levels \"No\",\"Yes\": 1 1 1 1 1 1 1 1 1 1 ...\n",
      " $ avocado                : Factor w/ 2 levels \"No\",\"Yes\": 1 1 1 1 1 1 1 1 1 1 ...\n",
      " $ bacon                  : Factor w/ 2 levels \"No\",\"Yes\": 1 1 1 1 1 1 1 1 1 1 ...\n",
      " $ baked_potato           : Factor w/ 2 levels \"No\",\"Yes\": 1 1 1 1 1 1 1 1 1 1 ...\n",
      " $ balm                   : Factor w/ 2 levels \"No\",\"Yes\": 1 1 1 1 1 1 1 1 1 1 ...\n",
      " $ banana                 : Factor w/ 2 levels \"No\",\"Yes\": 1 1 1 1 1 1 1 1 1 1 ...\n",
      " $ barley                 : Factor w/ 2 levels \"No\",\"Yes\": 1 1 1 1 1 1 1 1 1 1 ...\n",
      " $ bartlett_pear          : Factor w/ 2 levels \"No\",\"Yes\": 1 1 1 1 1 1 1 1 1 1 ...\n",
      " $ basil                  : Factor w/ 2 levels \"No\",\"Yes\": 2 1 1 2 1 2 2 1 1 1 ...\n",
      " $ bay                    : Factor w/ 2 levels \"No\",\"Yes\": 1 1 1 1 1 1 1 1 1 1 ...\n",
      " $ bean                   : Factor w/ 2 levels \"No\",\"Yes\": 1 1 1 2 1 1 1 2 1 1 ...\n",
      " $ beech                  : Factor w/ 2 levels \"No\",\"Yes\": 1 1 1 1 1 1 1 1 1 1 ...\n",
      " $ beef                   : Factor w/ 2 levels \"No\",\"Yes\": 1 1 1 1 1 2 1 1 1 1 ...\n",
      " $ beef_broth             : Factor w/ 2 levels \"No\",\"Yes\": 1 1 1 2 1 1 1 1 1 1 ...\n",
      " $ beef_liver             : Factor w/ 2 levels \"No\",\"Yes\": 1 1 1 1 1 1 1 1 1 1 ...\n",
      " $ beer                   : Factor w/ 2 levels \"No\",\"Yes\": 1 1 1 1 1 1 1 1 1 1 ...\n",
      " $ beet                   : Factor w/ 2 levels \"No\",\"Yes\": 1 1 1 1 1 1 1 1 1 1 ...\n",
      " $ bell_pepper            : Factor w/ 2 levels \"No\",\"Yes\": 1 1 1 1 1 1 1 1 1 1 ...\n",
      " $ bergamot               : Factor w/ 2 levels \"No\",\"Yes\": 1 1 1 1 1 1 1 1 1 1 ...\n",
      " $ berry                  : Factor w/ 2 levels \"No\",\"Yes\": 1 1 1 1 1 1 1 1 1 1 ...\n",
      " $ bitter_orange          : Factor w/ 2 levels \"No\",\"Yes\": 1 1 1 1 1 1 1 1 1 1 ...\n",
      " $ black_bean             : Factor w/ 2 levels \"No\",\"Yes\": 1 1 1 1 1 1 1 1 1 1 ...\n",
      " $ black_currant          : Factor w/ 2 levels \"No\",\"Yes\": 1 1 1 1 1 1 1 1 1 1 ...\n",
      " $ black_mustard_seed_oil : Factor w/ 2 levels \"No\",\"Yes\": 1 1 1 1 1 1 1 1 1 1 ...\n",
      " $ black_pepper           : Factor w/ 2 levels \"No\",\"Yes\": 1 2 1 1 1 1 2 2 1 2 ...\n",
      " $ black_raspberry        : Factor w/ 2 levels \"No\",\"Yes\": 1 1 1 1 1 1 1 1 1 1 ...\n",
      " $ black_sesame_seed      : Factor w/ 2 levels \"No\",\"Yes\": 1 1 1 1 1 1 1 1 1 1 ...\n",
      " $ black_tea              : Factor w/ 2 levels \"No\",\"Yes\": 1 1 1 1 1 1 1 1 1 1 ...\n",
      " $ blackberry             : Factor w/ 2 levels \"No\",\"Yes\": 1 1 1 1 1 1 1 1 1 1 ...\n",
      " $ blackberry_brandy      : Factor w/ 2 levels \"No\",\"Yes\": 1 1 1 1 1 1 1 1 1 1 ...\n",
      " $ blue_cheese            : Factor w/ 2 levels \"No\",\"Yes\": 1 1 1 1 1 1 1 1 1 1 ...\n",
      " $ blueberry              : Factor w/ 2 levels \"No\",\"Yes\": 1 1 1 1 1 1 1 1 1 1 ...\n",
      " $ bone_oil               : Factor w/ 2 levels \"No\",\"Yes\": 1 1 1 1 1 1 1 1 1 1 ...\n",
      " $ bourbon_whiskey        : Factor w/ 2 levels \"No\",\"Yes\": 1 1 1 1 1 1 1 1 1 1 ...\n",
      " $ brandy                 : Factor w/ 2 levels \"No\",\"Yes\": 1 1 1 1 1 1 1 1 1 1 ...\n",
      " $ brassica               : Factor w/ 2 levels \"No\",\"Yes\": 1 1 1 1 1 1 1 1 1 1 ...\n",
      " $ bread                  : Factor w/ 2 levels \"No\",\"Yes\": 1 1 1 1 1 1 1 2 1 1 ...\n",
      " $ broccoli               : Factor w/ 2 levels \"No\",\"Yes\": 1 1 1 1 1 1 1 1 1 1 ...\n",
      " $ brown_rice             : Factor w/ 2 levels \"No\",\"Yes\": 1 1 1 1 1 1 1 1 1 1 ...\n",
      " $ brussels_sprout        : Factor w/ 2 levels \"No\",\"Yes\": 1 1 1 1 1 1 1 1 1 1 ...\n",
      " $ buckwheat              : Factor w/ 2 levels \"No\",\"Yes\": 1 1 1 1 1 1 1 1 1 1 ...\n",
      " $ butter                 : Factor w/ 2 levels \"No\",\"Yes\": 1 1 1 1 1 1 1 2 1 1 ...\n",
      " $ buttermilk             : Factor w/ 2 levels \"No\",\"Yes\": 1 1 1 1 1 1 1 1 1 1 ...\n",
      " $ cabbage                : Factor w/ 2 levels \"No\",\"Yes\": 1 1 1 1 1 1 1 1 1 1 ...\n",
      " $ cabernet_sauvignon_wine: Factor w/ 2 levels \"No\",\"Yes\": 1 1 1 1 1 1 1 1 1 1 ...\n",
      " $ cacao                  : Factor w/ 2 levels \"No\",\"Yes\": 1 1 1 1 1 1 1 1 1 1 ...\n",
      " $ camembert_cheese       : Factor w/ 2 levels \"No\",\"Yes\": 1 1 1 1 1 1 1 1 1 1 ...\n",
      " $ cane_molasses          : Factor w/ 2 levels \"No\",\"Yes\": 1 1 1 1 1 1 1 1 1 1 ...\n",
      " $ caraway                : Factor w/ 2 levels \"No\",\"Yes\": 1 1 1 1 1 1 1 1 1 1 ...\n",
      " $ cardamom               : Factor w/ 2 levels \"No\",\"Yes\": 1 1 1 1 1 1 1 1 1 1 ...\n",
      " $ carnation              : Factor w/ 2 levels \"No\",\"Yes\": 1 1 1 1 1 1 1 1 1 1 ...\n",
      " $ carob                  : Factor w/ 2 levels \"No\",\"Yes\": 1 1 1 1 1 1 1 1 1 1 ...\n",
      " $ carrot                 : Factor w/ 2 levels \"No\",\"Yes\": 2 1 1 1 1 1 1 2 1 1 ...\n",
      " $ cashew                 : Factor w/ 2 levels \"No\",\"Yes\": 1 1 1 1 1 1 1 1 1 1 ...\n",
      " $ cassava                : Factor w/ 2 levels \"No\",\"Yes\": 1 1 1 1 1 1 1 1 1 1 ...\n",
      " $ catfish                : Factor w/ 2 levels \"No\",\"Yes\": 1 1 1 1 1 1 1 1 1 1 ...\n",
      " $ cauliflower            : Factor w/ 2 levels \"No\",\"Yes\": 1 1 1 1 1 1 1 1 1 1 ...\n",
      " $ caviar                 : Factor w/ 2 levels \"No\",\"Yes\": 1 1 1 1 1 1 1 1 1 1 ...\n",
      " $ cayenne                : Factor w/ 2 levels \"No\",\"Yes\": 2 2 1 2 2 1 2 2 2 2 ...\n",
      " $ celery                 : Factor w/ 2 levels \"No\",\"Yes\": 1 1 1 1 1 1 1 1 1 1 ...\n",
      " $ celery_oil             : Factor w/ 2 levels \"No\",\"Yes\": 1 1 1 1 1 1 1 1 1 1 ...\n",
      " $ cereal                 : Factor w/ 2 levels \"No\",\"Yes\": 1 1 1 1 1 1 1 1 1 1 ...\n",
      " $ chamomile              : Factor w/ 2 levels \"No\",\"Yes\": 1 1 1 1 1 1 1 1 1 1 ...\n",
      " $ champagne_wine         : Factor w/ 2 levels \"No\",\"Yes\": 1 1 1 1 1 1 1 1 1 1 ...\n",
      " $ chayote                : Factor w/ 2 levels \"No\",\"Yes\": 1 1 1 1 1 1 1 1 1 1 ...\n",
      " $ cheddar_cheese         : Factor w/ 2 levels \"No\",\"Yes\": 1 1 1 1 1 1 1 1 1 1 ...\n",
      " $ cheese                 : Factor w/ 2 levels \"No\",\"Yes\": 1 1 1 1 1 1 1 1 1 1 ...\n",
      " $ cherry                 : Factor w/ 2 levels \"No\",\"Yes\": 1 1 1 1 1 1 1 1 1 1 ...\n",
      " $ cherry_brandy          : Factor w/ 2 levels \"No\",\"Yes\": 1 1 1 1 1 1 1 1 1 1 ...\n",
      " $ chervil                : Factor w/ 2 levels \"No\",\"Yes\": 1 1 1 1 1 1 1 1 1 1 ...\n",
      " $ chicken                : Factor w/ 2 levels \"No\",\"Yes\": 1 1 1 1 1 1 2 1 1 2 ...\n",
      " $ chicken_broth          : Factor w/ 2 levels \"No\",\"Yes\": 1 1 1 1 1 1 1 1 1 2 ...\n",
      " $ chicken_liver          : Factor w/ 2 levels \"No\",\"Yes\": 1 1 1 1 1 1 1 1 1 1 ...\n",
      " $ chickpea               : Factor w/ 2 levels \"No\",\"Yes\": 1 1 1 1 1 1 1 1 1 1 ...\n",
      " $ chicory                : Factor w/ 2 levels \"No\",\"Yes\": 1 1 1 1 1 1 1 1 1 1 ...\n",
      " $ chinese_cabbage        : Factor w/ 2 levels \"No\",\"Yes\": 1 1 1 1 1 1 1 1 1 1 ...\n",
      " $ chive                  : Factor w/ 2 levels \"No\",\"Yes\": 1 1 1 1 1 1 1 1 1 1 ...\n",
      " $ cider                  : Factor w/ 2 levels \"No\",\"Yes\": 1 1 1 1 1 1 1 1 1 1 ...\n",
      " $ cilantro               : Factor w/ 2 levels \"No\",\"Yes\": 2 1 1 2 1 1 1 1 1 1 ...\n",
      " $ cinnamon               : Factor w/ 2 levels \"No\",\"Yes\": 1 1 1 1 1 1 1 1 1 1 ...\n",
      " $ citrus                 : Factor w/ 2 levels \"No\",\"Yes\": 1 1 1 1 1 1 1 1 1 1 ...\n",
      " $ citrus_peel            : Factor w/ 2 levels \"No\",\"Yes\": 1 1 1 1 1 1 1 1 1 1 ...\n",
      " $ clam                   : Factor w/ 2 levels \"No\",\"Yes\": 1 1 1 1 1 1 1 1 1 1 ...\n",
      " $ clove                  : Factor w/ 2 levels \"No\",\"Yes\": 1 1 1 1 1 1 1 1 1 1 ...\n",
      " $ cocoa                  : Factor w/ 2 levels \"No\",\"Yes\": 1 1 1 1 1 1 1 1 1 1 ...\n",
      " $ coconut                : Factor w/ 2 levels \"No\",\"Yes\": 1 1 1 1 1 1 1 1 1 2 ...\n",
      " $ coconut_oil            : Factor w/ 2 levels \"No\",\"Yes\": 1 1 1 1 1 1 1 1 1 1 ...\n",
      " $ cod                    : Factor w/ 2 levels \"No\",\"Yes\": 1 1 1 1 1 1 1 1 1 1 ...\n",
      "  [list output truncated]\n"
     ]
    }
   ],
   "source": [
    "str(recipes)"
   ]
  },
  {
   "cell_type": "markdown",
   "metadata": {
    "button": false,
    "deletable": true,
    "new_sheet": false,
    "run_control": {
     "read_only": false
    }
   },
   "source": [
    "#### Let's analyze the data a little more in order to learn the data better and note any interesting preliminary observations."
   ]
  },
  {
   "cell_type": "markdown",
   "metadata": {
    "button": false,
    "deletable": true,
    "new_sheet": false,
    "run_control": {
     "read_only": false
    }
   },
   "source": [
    "Run the following cell to get the recipes that contain **rice** *and* **soy** *and* **wasabi** *and* **seaweed**."
   ]
  },
  {
   "cell_type": "code",
   "execution_count": 16,
   "metadata": {
    "button": false,
    "collapsed": false,
    "deletable": true,
    "jupyter": {
     "outputs_hidden": false
    },
    "new_sheet": false,
    "run_control": {
     "read_only": false
    }
   },
   "outputs": [
    {
     "data": {
      "text/html": [
       "<table>\n",
       "<caption>A data.frame: 11 × 384</caption>\n",
       "<thead>\n",
       "\t<tr><th></th><th scope=col>cuisine</th><th scope=col>almond</th><th scope=col>angelica</th><th scope=col>anise</th><th scope=col>anise_seed</th><th scope=col>apple</th><th scope=col>apple_brandy</th><th scope=col>apricot</th><th scope=col>armagnac</th><th scope=col>artemisia</th><th scope=col>⋯</th><th scope=col>whiskey</th><th scope=col>white_bread</th><th scope=col>white_wine</th><th scope=col>whole_grain_wheat_flour</th><th scope=col>wine</th><th scope=col>wood</th><th scope=col>yam</th><th scope=col>yeast</th><th scope=col>yogurt</th><th scope=col>zucchini</th></tr>\n",
       "\t<tr><th></th><th scope=col>&lt;fct&gt;</th><th scope=col>&lt;fct&gt;</th><th scope=col>&lt;fct&gt;</th><th scope=col>&lt;fct&gt;</th><th scope=col>&lt;fct&gt;</th><th scope=col>&lt;fct&gt;</th><th scope=col>&lt;fct&gt;</th><th scope=col>&lt;fct&gt;</th><th scope=col>&lt;fct&gt;</th><th scope=col>&lt;fct&gt;</th><th scope=col>⋯</th><th scope=col>&lt;fct&gt;</th><th scope=col>&lt;fct&gt;</th><th scope=col>&lt;fct&gt;</th><th scope=col>&lt;fct&gt;</th><th scope=col>&lt;fct&gt;</th><th scope=col>&lt;fct&gt;</th><th scope=col>&lt;fct&gt;</th><th scope=col>&lt;fct&gt;</th><th scope=col>&lt;fct&gt;</th><th scope=col>&lt;fct&gt;</th></tr>\n",
       "</thead>\n",
       "<tbody>\n",
       "\t<tr><th scope=row>11307</th><td>japanese  </td><td>No</td><td>No</td><td>No</td><td>No</td><td>No</td><td>No</td><td>No</td><td>No</td><td>No</td><td>⋯</td><td>No</td><td>No</td><td>No</td><td>No</td><td>No </td><td>No</td><td>No</td><td>No</td><td>No</td><td>No</td></tr>\n",
       "\t<tr><th scope=row>11322</th><td>japanese  </td><td>No</td><td>No</td><td>No</td><td>No</td><td>No</td><td>No</td><td>No</td><td>No</td><td>No</td><td>⋯</td><td>No</td><td>No</td><td>No</td><td>No</td><td>Yes</td><td>No</td><td>No</td><td>No</td><td>No</td><td>No</td></tr>\n",
       "\t<tr><th scope=row>11362</th><td>japanese  </td><td>No</td><td>No</td><td>No</td><td>No</td><td>No</td><td>No</td><td>No</td><td>No</td><td>No</td><td>⋯</td><td>No</td><td>No</td><td>No</td><td>No</td><td>No </td><td>No</td><td>No</td><td>No</td><td>No</td><td>No</td></tr>\n",
       "\t<tr><th scope=row>12172</th><td>asian     </td><td>No</td><td>No</td><td>No</td><td>No</td><td>No</td><td>No</td><td>No</td><td>No</td><td>No</td><td>⋯</td><td>No</td><td>No</td><td>No</td><td>No</td><td>Yes</td><td>No</td><td>No</td><td>No</td><td>No</td><td>No</td></tr>\n",
       "\t<tr><th scope=row>12386</th><td>asian     </td><td>No</td><td>No</td><td>No</td><td>No</td><td>No</td><td>No</td><td>No</td><td>No</td><td>No</td><td>⋯</td><td>No</td><td>No</td><td>No</td><td>No</td><td>No </td><td>No</td><td>No</td><td>No</td><td>No</td><td>No</td></tr>\n",
       "\t<tr><th scope=row>13011</th><td>asian     </td><td>No</td><td>No</td><td>No</td><td>No</td><td>No</td><td>No</td><td>No</td><td>No</td><td>No</td><td>⋯</td><td>No</td><td>No</td><td>No</td><td>No</td><td>No </td><td>No</td><td>No</td><td>No</td><td>No</td><td>No</td></tr>\n",
       "\t<tr><th scope=row>13160</th><td>asian     </td><td>No</td><td>No</td><td>No</td><td>No</td><td>No</td><td>No</td><td>No</td><td>No</td><td>No</td><td>⋯</td><td>No</td><td>No</td><td>No</td><td>No</td><td>No </td><td>No</td><td>No</td><td>No</td><td>No</td><td>No</td></tr>\n",
       "\t<tr><th scope=row>13514</th><td>japanese  </td><td>No</td><td>No</td><td>No</td><td>No</td><td>No</td><td>No</td><td>No</td><td>No</td><td>No</td><td>⋯</td><td>No</td><td>No</td><td>No</td><td>No</td><td>No </td><td>No</td><td>No</td><td>No</td><td>No</td><td>No</td></tr>\n",
       "\t<tr><th scope=row>13587</th><td>japanese  </td><td>No</td><td>No</td><td>No</td><td>No</td><td>No</td><td>No</td><td>No</td><td>No</td><td>No</td><td>⋯</td><td>No</td><td>No</td><td>No</td><td>No</td><td>No </td><td>No</td><td>No</td><td>No</td><td>No</td><td>No</td></tr>\n",
       "\t<tr><th scope=row>13626</th><td>east_asian</td><td>No</td><td>No</td><td>No</td><td>No</td><td>No</td><td>No</td><td>No</td><td>No</td><td>No</td><td>⋯</td><td>No</td><td>No</td><td>No</td><td>No</td><td>No </td><td>No</td><td>No</td><td>No</td><td>No</td><td>No</td></tr>\n",
       "\t<tr><th scope=row>14496</th><td>east_asian</td><td>No</td><td>No</td><td>No</td><td>No</td><td>No</td><td>No</td><td>No</td><td>No</td><td>No</td><td>⋯</td><td>No</td><td>No</td><td>No</td><td>No</td><td>No </td><td>No</td><td>No</td><td>No</td><td>No</td><td>No</td></tr>\n",
       "</tbody>\n",
       "</table>\n"
      ],
      "text/latex": [
       "A data.frame: 11 × 384\n",
       "\\begin{tabular}{r|lllllllllllllllllllll}\n",
       "  & cuisine & almond & angelica & anise & anise\\_seed & apple & apple\\_brandy & apricot & armagnac & artemisia & ⋯ & whiskey & white\\_bread & white\\_wine & whole\\_grain\\_wheat\\_flour & wine & wood & yam & yeast & yogurt & zucchini\\\\\n",
       "  & <fct> & <fct> & <fct> & <fct> & <fct> & <fct> & <fct> & <fct> & <fct> & <fct> & ⋯ & <fct> & <fct> & <fct> & <fct> & <fct> & <fct> & <fct> & <fct> & <fct> & <fct>\\\\\n",
       "\\hline\n",
       "\t11307 & japanese   & No & No & No & No & No & No & No & No & No & ⋯ & No & No & No & No & No  & No & No & No & No & No\\\\\n",
       "\t11322 & japanese   & No & No & No & No & No & No & No & No & No & ⋯ & No & No & No & No & Yes & No & No & No & No & No\\\\\n",
       "\t11362 & japanese   & No & No & No & No & No & No & No & No & No & ⋯ & No & No & No & No & No  & No & No & No & No & No\\\\\n",
       "\t12172 & asian      & No & No & No & No & No & No & No & No & No & ⋯ & No & No & No & No & Yes & No & No & No & No & No\\\\\n",
       "\t12386 & asian      & No & No & No & No & No & No & No & No & No & ⋯ & No & No & No & No & No  & No & No & No & No & No\\\\\n",
       "\t13011 & asian      & No & No & No & No & No & No & No & No & No & ⋯ & No & No & No & No & No  & No & No & No & No & No\\\\\n",
       "\t13160 & asian      & No & No & No & No & No & No & No & No & No & ⋯ & No & No & No & No & No  & No & No & No & No & No\\\\\n",
       "\t13514 & japanese   & No & No & No & No & No & No & No & No & No & ⋯ & No & No & No & No & No  & No & No & No & No & No\\\\\n",
       "\t13587 & japanese   & No & No & No & No & No & No & No & No & No & ⋯ & No & No & No & No & No  & No & No & No & No & No\\\\\n",
       "\t13626 & east\\_asian & No & No & No & No & No & No & No & No & No & ⋯ & No & No & No & No & No  & No & No & No & No & No\\\\\n",
       "\t14496 & east\\_asian & No & No & No & No & No & No & No & No & No & ⋯ & No & No & No & No & No  & No & No & No & No & No\\\\\n",
       "\\end{tabular}\n"
      ],
      "text/markdown": [
       "\n",
       "A data.frame: 11 × 384\n",
       "\n",
       "| <!--/--> | cuisine &lt;fct&gt; | almond &lt;fct&gt; | angelica &lt;fct&gt; | anise &lt;fct&gt; | anise_seed &lt;fct&gt; | apple &lt;fct&gt; | apple_brandy &lt;fct&gt; | apricot &lt;fct&gt; | armagnac &lt;fct&gt; | artemisia &lt;fct&gt; | ⋯ ⋯ | whiskey &lt;fct&gt; | white_bread &lt;fct&gt; | white_wine &lt;fct&gt; | whole_grain_wheat_flour &lt;fct&gt; | wine &lt;fct&gt; | wood &lt;fct&gt; | yam &lt;fct&gt; | yeast &lt;fct&gt; | yogurt &lt;fct&gt; | zucchini &lt;fct&gt; |\n",
       "|---|---|---|---|---|---|---|---|---|---|---|---|---|---|---|---|---|---|---|---|---|---|\n",
       "| 11307 | japanese   | No | No | No | No | No | No | No | No | No | ⋯ | No | No | No | No | No  | No | No | No | No | No |\n",
       "| 11322 | japanese   | No | No | No | No | No | No | No | No | No | ⋯ | No | No | No | No | Yes | No | No | No | No | No |\n",
       "| 11362 | japanese   | No | No | No | No | No | No | No | No | No | ⋯ | No | No | No | No | No  | No | No | No | No | No |\n",
       "| 12172 | asian      | No | No | No | No | No | No | No | No | No | ⋯ | No | No | No | No | Yes | No | No | No | No | No |\n",
       "| 12386 | asian      | No | No | No | No | No | No | No | No | No | ⋯ | No | No | No | No | No  | No | No | No | No | No |\n",
       "| 13011 | asian      | No | No | No | No | No | No | No | No | No | ⋯ | No | No | No | No | No  | No | No | No | No | No |\n",
       "| 13160 | asian      | No | No | No | No | No | No | No | No | No | ⋯ | No | No | No | No | No  | No | No | No | No | No |\n",
       "| 13514 | japanese   | No | No | No | No | No | No | No | No | No | ⋯ | No | No | No | No | No  | No | No | No | No | No |\n",
       "| 13587 | japanese   | No | No | No | No | No | No | No | No | No | ⋯ | No | No | No | No | No  | No | No | No | No | No |\n",
       "| 13626 | east_asian | No | No | No | No | No | No | No | No | No | ⋯ | No | No | No | No | No  | No | No | No | No | No |\n",
       "| 14496 | east_asian | No | No | No | No | No | No | No | No | No | ⋯ | No | No | No | No | No  | No | No | No | No | No |\n",
       "\n"
      ],
      "text/plain": [
       "      cuisine    almond angelica anise anise_seed apple apple_brandy apricot\n",
       "11307 japanese   No     No       No    No         No    No           No     \n",
       "11322 japanese   No     No       No    No         No    No           No     \n",
       "11362 japanese   No     No       No    No         No    No           No     \n",
       "12172 asian      No     No       No    No         No    No           No     \n",
       "12386 asian      No     No       No    No         No    No           No     \n",
       "13011 asian      No     No       No    No         No    No           No     \n",
       "13160 asian      No     No       No    No         No    No           No     \n",
       "13514 japanese   No     No       No    No         No    No           No     \n",
       "13587 japanese   No     No       No    No         No    No           No     \n",
       "13626 east_asian No     No       No    No         No    No           No     \n",
       "14496 east_asian No     No       No    No         No    No           No     \n",
       "      armagnac artemisia ⋯ whiskey white_bread white_wine\n",
       "11307 No       No        ⋯ No      No          No        \n",
       "11322 No       No        ⋯ No      No          No        \n",
       "11362 No       No        ⋯ No      No          No        \n",
       "12172 No       No        ⋯ No      No          No        \n",
       "12386 No       No        ⋯ No      No          No        \n",
       "13011 No       No        ⋯ No      No          No        \n",
       "13160 No       No        ⋯ No      No          No        \n",
       "13514 No       No        ⋯ No      No          No        \n",
       "13587 No       No        ⋯ No      No          No        \n",
       "13626 No       No        ⋯ No      No          No        \n",
       "14496 No       No        ⋯ No      No          No        \n",
       "      whole_grain_wheat_flour wine wood yam yeast yogurt zucchini\n",
       "11307 No                      No   No   No  No    No     No      \n",
       "11322 No                      Yes  No   No  No    No     No      \n",
       "11362 No                      No   No   No  No    No     No      \n",
       "12172 No                      Yes  No   No  No    No     No      \n",
       "12386 No                      No   No   No  No    No     No      \n",
       "13011 No                      No   No   No  No    No     No      \n",
       "13160 No                      No   No   No  No    No     No      \n",
       "13514 No                      No   No   No  No    No     No      \n",
       "13587 No                      No   No   No  No    No     No      \n",
       "13626 No                      No   No   No  No    No     No      \n",
       "14496 No                      No   No   No  No    No     No      "
      ]
     },
     "metadata": {},
     "output_type": "display_data"
    }
   ],
   "source": [
    "check_recipes <- recipes[\n",
    "    recipes$rice == \"Yes\" &\n",
    "    recipes$soy_sauce == \"Yes\" &\n",
    "    recipes$wasabi == \"Yes\" &\n",
    "    recipes$seaweed == \"Yes\",\n",
    "]\n",
    "\n",
    "check_recipes"
   ]
  },
  {
   "cell_type": "markdown",
   "metadata": {
    "button": false,
    "deletable": true,
    "new_sheet": false,
    "run_control": {
     "read_only": false
    }
   },
   "source": [
    "Based on the results of the above code, can we classify all recipes that contain **rice** *and* **soy** *and* **wasabi** *and* **seaweed** as **Japanese** recipes? Why?"
   ]
  },
  {
   "cell_type": "raw",
   "metadata": {
    "button": false,
    "deletable": true,
    "new_sheet": false,
    "run_control": {
     "read_only": false
    }
   },
   "source": [
    "Your Answer:\n",
    "No, because other recipes such as Asian and East_Asian recipes also contain these ingredients."
   ]
  },
  {
   "cell_type": "markdown",
   "metadata": {
    "button": false,
    "deletable": true,
    "new_sheet": false,
    "run_control": {
     "read_only": false
    }
   },
   "source": [
    "Let's count the ingredients across all recipes."
   ]
  },
  {
   "cell_type": "code",
   "execution_count": 17,
   "metadata": {
    "button": false,
    "collapsed": false,
    "deletable": true,
    "jupyter": {
     "outputs_hidden": false
    },
    "new_sheet": false,
    "run_control": {
     "read_only": false
    }
   },
   "outputs": [
    {
     "data": {
      "text/html": [
       "<table>\n",
       "<caption>A data.frame: 383 × 2</caption>\n",
       "<thead>\n",
       "\t<tr><th></th><th scope=col>ingredient</th><th scope=col>count</th></tr>\n",
       "\t<tr><th></th><th scope=col>&lt;fct&gt;</th><th scope=col>&lt;dbl&gt;</th></tr>\n",
       "</thead>\n",
       "<tbody>\n",
       "\t<tr><th scope=row>2</th><td>almond       </td><td>2306</td></tr>\n",
       "\t<tr><th scope=row>3</th><td>angelica     </td><td>   1</td></tr>\n",
       "\t<tr><th scope=row>4</th><td>anise        </td><td> 223</td></tr>\n",
       "\t<tr><th scope=row>5</th><td>anise_seed   </td><td>  87</td></tr>\n",
       "\t<tr><th scope=row>6</th><td>apple        </td><td>2422</td></tr>\n",
       "\t<tr><th scope=row>7</th><td>apple_brandy </td><td>  37</td></tr>\n",
       "\t<tr><th scope=row>8</th><td>apricot      </td><td> 620</td></tr>\n",
       "\t<tr><th scope=row>9</th><td>armagnac     </td><td>  11</td></tr>\n",
       "\t<tr><th scope=row>10</th><td>artemisia    </td><td>  13</td></tr>\n",
       "\t<tr><th scope=row>11</th><td>artichoke    </td><td> 391</td></tr>\n",
       "\t<tr><th scope=row>12</th><td>asparagus    </td><td> 460</td></tr>\n",
       "\t<tr><th scope=row>13</th><td>avocado      </td><td> 660</td></tr>\n",
       "\t<tr><th scope=row>14</th><td>bacon        </td><td>2169</td></tr>\n",
       "\t<tr><th scope=row>15</th><td>baked_potato </td><td>   9</td></tr>\n",
       "\t<tr><th scope=row>16</th><td>balm         </td><td>   3</td></tr>\n",
       "\t<tr><th scope=row>17</th><td>banana       </td><td> 989</td></tr>\n",
       "\t<tr><th scope=row>18</th><td>barley       </td><td> 266</td></tr>\n",
       "\t<tr><th scope=row>19</th><td>bartlett_pear</td><td>  23</td></tr>\n",
       "\t<tr><th scope=row>20</th><td>basil        </td><td>3842</td></tr>\n",
       "\t<tr><th scope=row>21</th><td>bay          </td><td>1463</td></tr>\n",
       "\t<tr><th scope=row>22</th><td>bean         </td><td>1992</td></tr>\n",
       "\t<tr><th scope=row>23</th><td>beech        </td><td>   1</td></tr>\n",
       "\t<tr><th scope=row>24</th><td>beef         </td><td>4902</td></tr>\n",
       "\t<tr><th scope=row>25</th><td>beef_broth   </td><td> 845</td></tr>\n",
       "\t<tr><th scope=row>26</th><td>beef_liver   </td><td>  10</td></tr>\n",
       "\t<tr><th scope=row>27</th><td>beer         </td><td> 307</td></tr>\n",
       "\t<tr><th scope=row>28</th><td>beet         </td><td> 233</td></tr>\n",
       "\t<tr><th scope=row>29</th><td>bell_pepper  </td><td>5979</td></tr>\n",
       "\t<tr><th scope=row>30</th><td>bergamot     </td><td>   7</td></tr>\n",
       "\t<tr><th scope=row>31</th><td>berry        </td><td> 183</td></tr>\n",
       "\t<tr><th scope=row>⋮</th><td>⋮</td><td>⋮</td></tr>\n",
       "\t<tr><th scope=row>355</th><td>thyme                  </td><td> 3043</td></tr>\n",
       "\t<tr><th scope=row>356</th><td>tomato                 </td><td> 9920</td></tr>\n",
       "\t<tr><th scope=row>357</th><td>tomato_juice           </td><td>  176</td></tr>\n",
       "\t<tr><th scope=row>358</th><td>truffle                </td><td>   52</td></tr>\n",
       "\t<tr><th scope=row>359</th><td>tuna                   </td><td>  463</td></tr>\n",
       "\t<tr><th scope=row>360</th><td>turkey                 </td><td>  901</td></tr>\n",
       "\t<tr><th scope=row>361</th><td>turmeric               </td><td> 1291</td></tr>\n",
       "\t<tr><th scope=row>362</th><td>turnip                 </td><td>  188</td></tr>\n",
       "\t<tr><th scope=row>363</th><td>vanilla                </td><td> 9010</td></tr>\n",
       "\t<tr><th scope=row>364</th><td>veal                   </td><td>  197</td></tr>\n",
       "\t<tr><th scope=row>365</th><td>vegetable              </td><td> 1703</td></tr>\n",
       "\t<tr><th scope=row>366</th><td>vegetable_oil          </td><td>11105</td></tr>\n",
       "\t<tr><th scope=row>367</th><td>vinegar                </td><td> 8060</td></tr>\n",
       "\t<tr><th scope=row>368</th><td>violet                 </td><td>    5</td></tr>\n",
       "\t<tr><th scope=row>369</th><td>walnut                 </td><td> 2729</td></tr>\n",
       "\t<tr><th scope=row>370</th><td>wasabi                 </td><td>  135</td></tr>\n",
       "\t<tr><th scope=row>371</th><td>watercress             </td><td>  150</td></tr>\n",
       "\t<tr><th scope=row>372</th><td>watermelon             </td><td>  110</td></tr>\n",
       "\t<tr><th scope=row>373</th><td>wheat                  </td><td>20781</td></tr>\n",
       "\t<tr><th scope=row>374</th><td>wheat_bread            </td><td>   82</td></tr>\n",
       "\t<tr><th scope=row>375</th><td>whiskey                </td><td>  148</td></tr>\n",
       "\t<tr><th scope=row>376</th><td>white_bread            </td><td>  370</td></tr>\n",
       "\t<tr><th scope=row>377</th><td>white_wine             </td><td> 2205</td></tr>\n",
       "\t<tr><th scope=row>378</th><td>whole_grain_wheat_flour</td><td>  731</td></tr>\n",
       "\t<tr><th scope=row>379</th><td>wine                   </td><td> 1026</td></tr>\n",
       "\t<tr><th scope=row>380</th><td>wood                   </td><td>   33</td></tr>\n",
       "\t<tr><th scope=row>381</th><td>yam                    </td><td>   85</td></tr>\n",
       "\t<tr><th scope=row>382</th><td>yeast                  </td><td> 3385</td></tr>\n",
       "\t<tr><th scope=row>383</th><td>yogurt                 </td><td> 1033</td></tr>\n",
       "\t<tr><th scope=row>384</th><td>zucchini               </td><td> 1102</td></tr>\n",
       "</tbody>\n",
       "</table>\n"
      ],
      "text/latex": [
       "A data.frame: 383 × 2\n",
       "\\begin{tabular}{r|ll}\n",
       "  & ingredient & count\\\\\n",
       "  & <fct> & <dbl>\\\\\n",
       "\\hline\n",
       "\t2 & almond        & 2306\\\\\n",
       "\t3 & angelica      &    1\\\\\n",
       "\t4 & anise         &  223\\\\\n",
       "\t5 & anise\\_seed    &   87\\\\\n",
       "\t6 & apple         & 2422\\\\\n",
       "\t7 & apple\\_brandy  &   37\\\\\n",
       "\t8 & apricot       &  620\\\\\n",
       "\t9 & armagnac      &   11\\\\\n",
       "\t10 & artemisia     &   13\\\\\n",
       "\t11 & artichoke     &  391\\\\\n",
       "\t12 & asparagus     &  460\\\\\n",
       "\t13 & avocado       &  660\\\\\n",
       "\t14 & bacon         & 2169\\\\\n",
       "\t15 & baked\\_potato  &    9\\\\\n",
       "\t16 & balm          &    3\\\\\n",
       "\t17 & banana        &  989\\\\\n",
       "\t18 & barley        &  266\\\\\n",
       "\t19 & bartlett\\_pear &   23\\\\\n",
       "\t20 & basil         & 3842\\\\\n",
       "\t21 & bay           & 1463\\\\\n",
       "\t22 & bean          & 1992\\\\\n",
       "\t23 & beech         &    1\\\\\n",
       "\t24 & beef          & 4902\\\\\n",
       "\t25 & beef\\_broth    &  845\\\\\n",
       "\t26 & beef\\_liver    &   10\\\\\n",
       "\t27 & beer          &  307\\\\\n",
       "\t28 & beet          &  233\\\\\n",
       "\t29 & bell\\_pepper   & 5979\\\\\n",
       "\t30 & bergamot      &    7\\\\\n",
       "\t31 & berry         &  183\\\\\n",
       "\t⋮ & ⋮ & ⋮\\\\\n",
       "\t355 & thyme                   &  3043\\\\\n",
       "\t356 & tomato                  &  9920\\\\\n",
       "\t357 & tomato\\_juice            &   176\\\\\n",
       "\t358 & truffle                 &    52\\\\\n",
       "\t359 & tuna                    &   463\\\\\n",
       "\t360 & turkey                  &   901\\\\\n",
       "\t361 & turmeric                &  1291\\\\\n",
       "\t362 & turnip                  &   188\\\\\n",
       "\t363 & vanilla                 &  9010\\\\\n",
       "\t364 & veal                    &   197\\\\\n",
       "\t365 & vegetable               &  1703\\\\\n",
       "\t366 & vegetable\\_oil           & 11105\\\\\n",
       "\t367 & vinegar                 &  8060\\\\\n",
       "\t368 & violet                  &     5\\\\\n",
       "\t369 & walnut                  &  2729\\\\\n",
       "\t370 & wasabi                  &   135\\\\\n",
       "\t371 & watercress              &   150\\\\\n",
       "\t372 & watermelon              &   110\\\\\n",
       "\t373 & wheat                   & 20781\\\\\n",
       "\t374 & wheat\\_bread             &    82\\\\\n",
       "\t375 & whiskey                 &   148\\\\\n",
       "\t376 & white\\_bread             &   370\\\\\n",
       "\t377 & white\\_wine              &  2205\\\\\n",
       "\t378 & whole\\_grain\\_wheat\\_flour &   731\\\\\n",
       "\t379 & wine                    &  1026\\\\\n",
       "\t380 & wood                    &    33\\\\\n",
       "\t381 & yam                     &    85\\\\\n",
       "\t382 & yeast                   &  3385\\\\\n",
       "\t383 & yogurt                  &  1033\\\\\n",
       "\t384 & zucchini                &  1102\\\\\n",
       "\\end{tabular}\n"
      ],
      "text/markdown": [
       "\n",
       "A data.frame: 383 × 2\n",
       "\n",
       "| <!--/--> | ingredient &lt;fct&gt; | count &lt;dbl&gt; |\n",
       "|---|---|---|\n",
       "| 2 | almond        | 2306 |\n",
       "| 3 | angelica      |    1 |\n",
       "| 4 | anise         |  223 |\n",
       "| 5 | anise_seed    |   87 |\n",
       "| 6 | apple         | 2422 |\n",
       "| 7 | apple_brandy  |   37 |\n",
       "| 8 | apricot       |  620 |\n",
       "| 9 | armagnac      |   11 |\n",
       "| 10 | artemisia     |   13 |\n",
       "| 11 | artichoke     |  391 |\n",
       "| 12 | asparagus     |  460 |\n",
       "| 13 | avocado       |  660 |\n",
       "| 14 | bacon         | 2169 |\n",
       "| 15 | baked_potato  |    9 |\n",
       "| 16 | balm          |    3 |\n",
       "| 17 | banana        |  989 |\n",
       "| 18 | barley        |  266 |\n",
       "| 19 | bartlett_pear |   23 |\n",
       "| 20 | basil         | 3842 |\n",
       "| 21 | bay           | 1463 |\n",
       "| 22 | bean          | 1992 |\n",
       "| 23 | beech         |    1 |\n",
       "| 24 | beef          | 4902 |\n",
       "| 25 | beef_broth    |  845 |\n",
       "| 26 | beef_liver    |   10 |\n",
       "| 27 | beer          |  307 |\n",
       "| 28 | beet          |  233 |\n",
       "| 29 | bell_pepper   | 5979 |\n",
       "| 30 | bergamot      |    7 |\n",
       "| 31 | berry         |  183 |\n",
       "| ⋮ | ⋮ | ⋮ |\n",
       "| 355 | thyme                   |  3043 |\n",
       "| 356 | tomato                  |  9920 |\n",
       "| 357 | tomato_juice            |   176 |\n",
       "| 358 | truffle                 |    52 |\n",
       "| 359 | tuna                    |   463 |\n",
       "| 360 | turkey                  |   901 |\n",
       "| 361 | turmeric                |  1291 |\n",
       "| 362 | turnip                  |   188 |\n",
       "| 363 | vanilla                 |  9010 |\n",
       "| 364 | veal                    |   197 |\n",
       "| 365 | vegetable               |  1703 |\n",
       "| 366 | vegetable_oil           | 11105 |\n",
       "| 367 | vinegar                 |  8060 |\n",
       "| 368 | violet                  |     5 |\n",
       "| 369 | walnut                  |  2729 |\n",
       "| 370 | wasabi                  |   135 |\n",
       "| 371 | watercress              |   150 |\n",
       "| 372 | watermelon              |   110 |\n",
       "| 373 | wheat                   | 20781 |\n",
       "| 374 | wheat_bread             |    82 |\n",
       "| 375 | whiskey                 |   148 |\n",
       "| 376 | white_bread             |   370 |\n",
       "| 377 | white_wine              |  2205 |\n",
       "| 378 | whole_grain_wheat_flour |   731 |\n",
       "| 379 | wine                    |  1026 |\n",
       "| 380 | wood                    |    33 |\n",
       "| 381 | yam                     |    85 |\n",
       "| 382 | yeast                   |  3385 |\n",
       "| 383 | yogurt                  |  1033 |\n",
       "| 384 | zucchini                |  1102 |\n",
       "\n"
      ],
      "text/plain": [
       "    ingredient              count\n",
       "2   almond                  2306 \n",
       "3   angelica                   1 \n",
       "4   anise                    223 \n",
       "5   anise_seed                87 \n",
       "6   apple                   2422 \n",
       "7   apple_brandy              37 \n",
       "8   apricot                  620 \n",
       "9   armagnac                  11 \n",
       "10  artemisia                 13 \n",
       "11  artichoke                391 \n",
       "12  asparagus                460 \n",
       "13  avocado                  660 \n",
       "14  bacon                   2169 \n",
       "15  baked_potato               9 \n",
       "16  balm                       3 \n",
       "17  banana                   989 \n",
       "18  barley                   266 \n",
       "19  bartlett_pear             23 \n",
       "20  basil                   3842 \n",
       "21  bay                     1463 \n",
       "22  bean                    1992 \n",
       "23  beech                      1 \n",
       "24  beef                    4902 \n",
       "25  beef_broth               845 \n",
       "26  beef_liver                10 \n",
       "27  beer                     307 \n",
       "28  beet                     233 \n",
       "29  bell_pepper             5979 \n",
       "30  bergamot                   7 \n",
       "31  berry                    183 \n",
       "⋮   ⋮                       ⋮    \n",
       "355 thyme                    3043\n",
       "356 tomato                   9920\n",
       "357 tomato_juice              176\n",
       "358 truffle                    52\n",
       "359 tuna                      463\n",
       "360 turkey                    901\n",
       "361 turmeric                 1291\n",
       "362 turnip                    188\n",
       "363 vanilla                  9010\n",
       "364 veal                      197\n",
       "365 vegetable                1703\n",
       "366 vegetable_oil           11105\n",
       "367 vinegar                  8060\n",
       "368 violet                      5\n",
       "369 walnut                   2729\n",
       "370 wasabi                    135\n",
       "371 watercress                150\n",
       "372 watermelon                110\n",
       "373 wheat                   20781\n",
       "374 wheat_bread                82\n",
       "375 whiskey                   148\n",
       "376 white_bread               370\n",
       "377 white_wine               2205\n",
       "378 whole_grain_wheat_flour   731\n",
       "379 wine                     1026\n",
       "380 wood                       33\n",
       "381 yam                        85\n",
       "382 yeast                    3385\n",
       "383 yogurt                   1033\n",
       "384 zucchini                 1102"
      ]
     },
     "metadata": {},
     "output_type": "display_data"
    }
   ],
   "source": [
    "# sum the row count when the value of the row in a column is equal to \"Yes\" (value of 2)\n",
    "ingred <- unlist(\n",
    "            lapply( recipes[, names(recipes)], function(x) sum(as.integer(x) == 2))\n",
    "            )\n",
    "\n",
    "# transpose the dataframe so that each row is an ingredient\n",
    "ingred <- as.data.frame( t( as.data.frame(ingred) ))\n",
    "                \n",
    "ing_df <- data.frame(\"ingredient\" = names(ingred), \n",
    "                     \"count\" = as.numeric(ingred[1,])\n",
    "                    )[-1,]\n",
    "                \n",
    "ing_df"
   ]
  },
  {
   "cell_type": "markdown",
   "metadata": {
    "button": false,
    "deletable": true,
    "new_sheet": false,
    "run_control": {
     "read_only": false
    }
   },
   "source": [
    "Now we have a dataframe of ingredients and their total counts across all recipes. Let's sort this dataframe in descending order."
   ]
  },
  {
   "cell_type": "code",
   "execution_count": 18,
   "metadata": {
    "button": false,
    "collapsed": false,
    "deletable": true,
    "jupyter": {
     "outputs_hidden": false
    },
    "new_sheet": false,
    "run_control": {
     "read_only": false
    }
   },
   "outputs": [
    {
     "data": {
      "text/html": [
       "<table>\n",
       "<caption>A data.frame: 383 × 2</caption>\n",
       "<thead>\n",
       "\t<tr><th></th><th scope=col>ingredient</th><th scope=col>count</th></tr>\n",
       "\t<tr><th></th><th scope=col>&lt;fct&gt;</th><th scope=col>&lt;dbl&gt;</th></tr>\n",
       "</thead>\n",
       "<tbody>\n",
       "\t<tr><th scope=row>1</th><td>egg          </td><td>21025</td></tr>\n",
       "\t<tr><th scope=row>2</th><td>wheat        </td><td>20781</td></tr>\n",
       "\t<tr><th scope=row>3</th><td>butter       </td><td>20719</td></tr>\n",
       "\t<tr><th scope=row>4</th><td>onion        </td><td>18080</td></tr>\n",
       "\t<tr><th scope=row>5</th><td>garlic       </td><td>17353</td></tr>\n",
       "\t<tr><th scope=row>6</th><td>milk         </td><td>12870</td></tr>\n",
       "\t<tr><th scope=row>7</th><td>vegetable_oil</td><td>11105</td></tr>\n",
       "\t<tr><th scope=row>8</th><td>cream        </td><td>10171</td></tr>\n",
       "\t<tr><th scope=row>9</th><td>tomato       </td><td> 9920</td></tr>\n",
       "\t<tr><th scope=row>10</th><td>olive_oil    </td><td> 9876</td></tr>\n",
       "\t<tr><th scope=row>11</th><td>black_pepper </td><td> 9828</td></tr>\n",
       "\t<tr><th scope=row>12</th><td>pepper       </td><td> 9230</td></tr>\n",
       "\t<tr><th scope=row>13</th><td>vanilla      </td><td> 9010</td></tr>\n",
       "\t<tr><th scope=row>14</th><td>cayenne      </td><td> 8254</td></tr>\n",
       "\t<tr><th scope=row>15</th><td>vinegar      </td><td> 8060</td></tr>\n",
       "\t<tr><th scope=row>16</th><td>cane_molasses</td><td> 7741</td></tr>\n",
       "\t<tr><th scope=row>17</th><td>bell_pepper  </td><td> 5979</td></tr>\n",
       "\t<tr><th scope=row>18</th><td>cinnamon     </td><td> 5594</td></tr>\n",
       "\t<tr><th scope=row>19</th><td>parsley      </td><td> 5552</td></tr>\n",
       "\t<tr><th scope=row>20</th><td>chicken      </td><td> 5436</td></tr>\n",
       "\t<tr><th scope=row>21</th><td>lemon_juice  </td><td> 5065</td></tr>\n",
       "\t<tr><th scope=row>22</th><td>beef         </td><td> 4902</td></tr>\n",
       "\t<tr><th scope=row>23</th><td>corn         </td><td> 4828</td></tr>\n",
       "\t<tr><th scope=row>24</th><td>cocoa        </td><td> 4799</td></tr>\n",
       "\t<tr><th scope=row>25</th><td>scallion     </td><td> 4782</td></tr>\n",
       "\t<tr><th scope=row>26</th><td>bread        </td><td> 4571</td></tr>\n",
       "\t<tr><th scope=row>27</th><td>ginger       </td><td> 4358</td></tr>\n",
       "\t<tr><th scope=row>28</th><td>mustard      </td><td> 4119</td></tr>\n",
       "\t<tr><th scope=row>29</th><td>rice         </td><td> 3857</td></tr>\n",
       "\t<tr><th scope=row>30</th><td>basil        </td><td> 3842</td></tr>\n",
       "\t<tr><th scope=row>⋮</th><td>⋮</td><td>⋮</td></tr>\n",
       "\t<tr><th scope=row>354</th><td>holy_basil      </td><td>3</td></tr>\n",
       "\t<tr><th scope=row>355</th><td>hop             </td><td>3</td></tr>\n",
       "\t<tr><th scope=row>356</th><td>mutton          </td><td>3</td></tr>\n",
       "\t<tr><th scope=row>357</th><td>rapeseed        </td><td>3</td></tr>\n",
       "\t<tr><th scope=row>358</th><td>roasted_almond  </td><td>3</td></tr>\n",
       "\t<tr><th scope=row>359</th><td>jasmine_tea     </td><td>2</td></tr>\n",
       "\t<tr><th scope=row>360</th><td>laurel          </td><td>2</td></tr>\n",
       "\t<tr><th scope=row>361</th><td>long_pepper     </td><td>2</td></tr>\n",
       "\t<tr><th scope=row>362</th><td>pimenta         </td><td>2</td></tr>\n",
       "\t<tr><th scope=row>363</th><td>raw_beef        </td><td>2</td></tr>\n",
       "\t<tr><th scope=row>364</th><td>red_algae       </td><td>2</td></tr>\n",
       "\t<tr><th scope=row>365</th><td>sheep_cheese    </td><td>2</td></tr>\n",
       "\t<tr><th scope=row>366</th><td>soybean_oil     </td><td>2</td></tr>\n",
       "\t<tr><th scope=row>367</th><td>strawberry_juice</td><td>2</td></tr>\n",
       "\t<tr><th scope=row>368</th><td>angelica        </td><td>1</td></tr>\n",
       "\t<tr><th scope=row>369</th><td>beech           </td><td>1</td></tr>\n",
       "\t<tr><th scope=row>370</th><td>emmental_cheese </td><td>1</td></tr>\n",
       "\t<tr><th scope=row>371</th><td>geranium        </td><td>1</td></tr>\n",
       "\t<tr><th scope=row>372</th><td>jamaican_rum    </td><td>1</td></tr>\n",
       "\t<tr><th scope=row>373</th><td>kaffir_lime     </td><td>1</td></tr>\n",
       "\t<tr><th scope=row>374</th><td>lilac_flower_oil</td><td>1</td></tr>\n",
       "\t<tr><th scope=row>375</th><td>mate            </td><td>1</td></tr>\n",
       "\t<tr><th scope=row>376</th><td>muscat_grape    </td><td>1</td></tr>\n",
       "\t<tr><th scope=row>377</th><td>pelargonium     </td><td>1</td></tr>\n",
       "\t<tr><th scope=row>378</th><td>roasted_hazelnut</td><td>1</td></tr>\n",
       "\t<tr><th scope=row>379</th><td>roasted_nut     </td><td>1</td></tr>\n",
       "\t<tr><th scope=row>380</th><td>roasted_pecan   </td><td>1</td></tr>\n",
       "\t<tr><th scope=row>381</th><td>strawberry_jam  </td><td>1</td></tr>\n",
       "\t<tr><th scope=row>382</th><td>sturgeon_caviar </td><td>1</td></tr>\n",
       "\t<tr><th scope=row>383</th><td>durian          </td><td>0</td></tr>\n",
       "</tbody>\n",
       "</table>\n"
      ],
      "text/latex": [
       "A data.frame: 383 × 2\n",
       "\\begin{tabular}{r|ll}\n",
       "  & ingredient & count\\\\\n",
       "  & <fct> & <dbl>\\\\\n",
       "\\hline\n",
       "\t1 & egg           & 21025\\\\\n",
       "\t2 & wheat         & 20781\\\\\n",
       "\t3 & butter        & 20719\\\\\n",
       "\t4 & onion         & 18080\\\\\n",
       "\t5 & garlic        & 17353\\\\\n",
       "\t6 & milk          & 12870\\\\\n",
       "\t7 & vegetable\\_oil & 11105\\\\\n",
       "\t8 & cream         & 10171\\\\\n",
       "\t9 & tomato        &  9920\\\\\n",
       "\t10 & olive\\_oil     &  9876\\\\\n",
       "\t11 & black\\_pepper  &  9828\\\\\n",
       "\t12 & pepper        &  9230\\\\\n",
       "\t13 & vanilla       &  9010\\\\\n",
       "\t14 & cayenne       &  8254\\\\\n",
       "\t15 & vinegar       &  8060\\\\\n",
       "\t16 & cane\\_molasses &  7741\\\\\n",
       "\t17 & bell\\_pepper   &  5979\\\\\n",
       "\t18 & cinnamon      &  5594\\\\\n",
       "\t19 & parsley       &  5552\\\\\n",
       "\t20 & chicken       &  5436\\\\\n",
       "\t21 & lemon\\_juice   &  5065\\\\\n",
       "\t22 & beef          &  4902\\\\\n",
       "\t23 & corn          &  4828\\\\\n",
       "\t24 & cocoa         &  4799\\\\\n",
       "\t25 & scallion      &  4782\\\\\n",
       "\t26 & bread         &  4571\\\\\n",
       "\t27 & ginger        &  4358\\\\\n",
       "\t28 & mustard       &  4119\\\\\n",
       "\t29 & rice          &  3857\\\\\n",
       "\t30 & basil         &  3842\\\\\n",
       "\t⋮ & ⋮ & ⋮\\\\\n",
       "\t354 & holy\\_basil       & 3\\\\\n",
       "\t355 & hop              & 3\\\\\n",
       "\t356 & mutton           & 3\\\\\n",
       "\t357 & rapeseed         & 3\\\\\n",
       "\t358 & roasted\\_almond   & 3\\\\\n",
       "\t359 & jasmine\\_tea      & 2\\\\\n",
       "\t360 & laurel           & 2\\\\\n",
       "\t361 & long\\_pepper      & 2\\\\\n",
       "\t362 & pimenta          & 2\\\\\n",
       "\t363 & raw\\_beef         & 2\\\\\n",
       "\t364 & red\\_algae        & 2\\\\\n",
       "\t365 & sheep\\_cheese     & 2\\\\\n",
       "\t366 & soybean\\_oil      & 2\\\\\n",
       "\t367 & strawberry\\_juice & 2\\\\\n",
       "\t368 & angelica         & 1\\\\\n",
       "\t369 & beech            & 1\\\\\n",
       "\t370 & emmental\\_cheese  & 1\\\\\n",
       "\t371 & geranium         & 1\\\\\n",
       "\t372 & jamaican\\_rum     & 1\\\\\n",
       "\t373 & kaffir\\_lime      & 1\\\\\n",
       "\t374 & lilac\\_flower\\_oil & 1\\\\\n",
       "\t375 & mate             & 1\\\\\n",
       "\t376 & muscat\\_grape     & 1\\\\\n",
       "\t377 & pelargonium      & 1\\\\\n",
       "\t378 & roasted\\_hazelnut & 1\\\\\n",
       "\t379 & roasted\\_nut      & 1\\\\\n",
       "\t380 & roasted\\_pecan    & 1\\\\\n",
       "\t381 & strawberry\\_jam   & 1\\\\\n",
       "\t382 & sturgeon\\_caviar  & 1\\\\\n",
       "\t383 & durian           & 0\\\\\n",
       "\\end{tabular}\n"
      ],
      "text/markdown": [
       "\n",
       "A data.frame: 383 × 2\n",
       "\n",
       "| <!--/--> | ingredient &lt;fct&gt; | count &lt;dbl&gt; |\n",
       "|---|---|---|\n",
       "| 1 | egg           | 21025 |\n",
       "| 2 | wheat         | 20781 |\n",
       "| 3 | butter        | 20719 |\n",
       "| 4 | onion         | 18080 |\n",
       "| 5 | garlic        | 17353 |\n",
       "| 6 | milk          | 12870 |\n",
       "| 7 | vegetable_oil | 11105 |\n",
       "| 8 | cream         | 10171 |\n",
       "| 9 | tomato        |  9920 |\n",
       "| 10 | olive_oil     |  9876 |\n",
       "| 11 | black_pepper  |  9828 |\n",
       "| 12 | pepper        |  9230 |\n",
       "| 13 | vanilla       |  9010 |\n",
       "| 14 | cayenne       |  8254 |\n",
       "| 15 | vinegar       |  8060 |\n",
       "| 16 | cane_molasses |  7741 |\n",
       "| 17 | bell_pepper   |  5979 |\n",
       "| 18 | cinnamon      |  5594 |\n",
       "| 19 | parsley       |  5552 |\n",
       "| 20 | chicken       |  5436 |\n",
       "| 21 | lemon_juice   |  5065 |\n",
       "| 22 | beef          |  4902 |\n",
       "| 23 | corn          |  4828 |\n",
       "| 24 | cocoa         |  4799 |\n",
       "| 25 | scallion      |  4782 |\n",
       "| 26 | bread         |  4571 |\n",
       "| 27 | ginger        |  4358 |\n",
       "| 28 | mustard       |  4119 |\n",
       "| 29 | rice          |  3857 |\n",
       "| 30 | basil         |  3842 |\n",
       "| ⋮ | ⋮ | ⋮ |\n",
       "| 354 | holy_basil       | 3 |\n",
       "| 355 | hop              | 3 |\n",
       "| 356 | mutton           | 3 |\n",
       "| 357 | rapeseed         | 3 |\n",
       "| 358 | roasted_almond   | 3 |\n",
       "| 359 | jasmine_tea      | 2 |\n",
       "| 360 | laurel           | 2 |\n",
       "| 361 | long_pepper      | 2 |\n",
       "| 362 | pimenta          | 2 |\n",
       "| 363 | raw_beef         | 2 |\n",
       "| 364 | red_algae        | 2 |\n",
       "| 365 | sheep_cheese     | 2 |\n",
       "| 366 | soybean_oil      | 2 |\n",
       "| 367 | strawberry_juice | 2 |\n",
       "| 368 | angelica         | 1 |\n",
       "| 369 | beech            | 1 |\n",
       "| 370 | emmental_cheese  | 1 |\n",
       "| 371 | geranium         | 1 |\n",
       "| 372 | jamaican_rum     | 1 |\n",
       "| 373 | kaffir_lime      | 1 |\n",
       "| 374 | lilac_flower_oil | 1 |\n",
       "| 375 | mate             | 1 |\n",
       "| 376 | muscat_grape     | 1 |\n",
       "| 377 | pelargonium      | 1 |\n",
       "| 378 | roasted_hazelnut | 1 |\n",
       "| 379 | roasted_nut      | 1 |\n",
       "| 380 | roasted_pecan    | 1 |\n",
       "| 381 | strawberry_jam   | 1 |\n",
       "| 382 | sturgeon_caviar  | 1 |\n",
       "| 383 | durian           | 0 |\n",
       "\n"
      ],
      "text/plain": [
       "    ingredient       count\n",
       "1   egg              21025\n",
       "2   wheat            20781\n",
       "3   butter           20719\n",
       "4   onion            18080\n",
       "5   garlic           17353\n",
       "6   milk             12870\n",
       "7   vegetable_oil    11105\n",
       "8   cream            10171\n",
       "9   tomato            9920\n",
       "10  olive_oil         9876\n",
       "11  black_pepper      9828\n",
       "12  pepper            9230\n",
       "13  vanilla           9010\n",
       "14  cayenne           8254\n",
       "15  vinegar           8060\n",
       "16  cane_molasses     7741\n",
       "17  bell_pepper       5979\n",
       "18  cinnamon          5594\n",
       "19  parsley           5552\n",
       "20  chicken           5436\n",
       "21  lemon_juice       5065\n",
       "22  beef              4902\n",
       "23  corn              4828\n",
       "24  cocoa             4799\n",
       "25  scallion          4782\n",
       "26  bread             4571\n",
       "27  ginger            4358\n",
       "28  mustard           4119\n",
       "29  rice              3857\n",
       "30  basil             3842\n",
       "⋮   ⋮                ⋮    \n",
       "354 holy_basil       3    \n",
       "355 hop              3    \n",
       "356 mutton           3    \n",
       "357 rapeseed         3    \n",
       "358 roasted_almond   3    \n",
       "359 jasmine_tea      2    \n",
       "360 laurel           2    \n",
       "361 long_pepper      2    \n",
       "362 pimenta          2    \n",
       "363 raw_beef         2    \n",
       "364 red_algae        2    \n",
       "365 sheep_cheese     2    \n",
       "366 soybean_oil      2    \n",
       "367 strawberry_juice 2    \n",
       "368 angelica         1    \n",
       "369 beech            1    \n",
       "370 emmental_cheese  1    \n",
       "371 geranium         1    \n",
       "372 jamaican_rum     1    \n",
       "373 kaffir_lime      1    \n",
       "374 lilac_flower_oil 1    \n",
       "375 mate             1    \n",
       "376 muscat_grape     1    \n",
       "377 pelargonium      1    \n",
       "378 roasted_hazelnut 1    \n",
       "379 roasted_nut      1    \n",
       "380 roasted_pecan    1    \n",
       "381 strawberry_jam   1    \n",
       "382 sturgeon_caviar  1    \n",
       "383 durian           0    "
      ]
     },
     "metadata": {},
     "output_type": "display_data"
    }
   ],
   "source": [
    "ing_df_sort <- ing_df[order(ing_df$count, decreasing = TRUE),]\n",
    "rownames(ing_df_sort) <- 1:nrow(ing_df_sort)\n",
    "\n",
    "ing_df_sort"
   ]
  },
  {
   "cell_type": "markdown",
   "metadata": {
    "button": false,
    "deletable": true,
    "new_sheet": false,
    "run_control": {
     "read_only": false
    }
   },
   "source": [
    "#### What are the 3 most popular ingredients?"
   ]
  },
  {
   "cell_type": "raw",
   "metadata": {
    "button": false,
    "deletable": true,
    "new_sheet": false,
    "run_control": {
     "read_only": false
    }
   },
   "source": [
    "Your Answer:\n",
    "1. Egg with 21,025 occurrences. \n",
    "2. Wheat with 20,781 occurrences. \n",
    "3. Butter with 20,719 occurrences."
   ]
  },
  {
   "cell_type": "markdown",
   "metadata": {
    "button": false,
    "deletable": true,
    "new_sheet": false,
    "run_control": {
     "read_only": false
    }
   },
   "source": [
    "However, note that there is a problem with the above table. There are ~40,000 American recipes in our dataset, which means that the data is biased towards American ingredients."
   ]
  },
  {
   "cell_type": "markdown",
   "metadata": {
    "button": false,
    "deletable": true,
    "new_sheet": false,
    "run_control": {
     "read_only": false
    }
   },
   "source": [
    "**Therefore**, let's compute a more objective summary of the ingredients by looking at the ingredients per cuisine."
   ]
  },
  {
   "cell_type": "markdown",
   "metadata": {
    "button": false,
    "deletable": true,
    "new_sheet": false,
    "run_control": {
     "read_only": false
    }
   },
   "source": [
    "#### Let's create a *profile* for each cuisine.\n",
    "\n",
    "In other words, let's try to find out what ingredients Chinese people typically use, and what is **Canadian** food for example."
   ]
  },
  {
   "cell_type": "code",
   "execution_count": 19,
   "metadata": {
    "button": false,
    "collapsed": false,
    "deletable": true,
    "jupyter": {
     "outputs_hidden": false
    },
    "new_sheet": false,
    "run_control": {
     "read_only": false
    }
   },
   "outputs": [
    {
     "data": {
      "text/html": [
       "<table>\n",
       "<caption>A data.frame: 6 × 384</caption>\n",
       "<thead>\n",
       "\t<tr><th></th><th scope=col>cuisine</th><th scope=col>almond</th><th scope=col>angelica</th><th scope=col>anise</th><th scope=col>anise_seed</th><th scope=col>apple</th><th scope=col>apple_brandy</th><th scope=col>apricot</th><th scope=col>armagnac</th><th scope=col>artemisia</th><th scope=col>⋯</th><th scope=col>whiskey</th><th scope=col>white_bread</th><th scope=col>white_wine</th><th scope=col>whole_grain_wheat_flour</th><th scope=col>wine</th><th scope=col>wood</th><th scope=col>yam</th><th scope=col>yeast</th><th scope=col>yogurt</th><th scope=col>zucchini</th></tr>\n",
       "\t<tr><th></th><th scope=col>&lt;fct&gt;</th><th scope=col>&lt;dbl&gt;</th><th scope=col>&lt;dbl&gt;</th><th scope=col>&lt;dbl&gt;</th><th scope=col>&lt;dbl&gt;</th><th scope=col>&lt;dbl&gt;</th><th scope=col>&lt;dbl&gt;</th><th scope=col>&lt;dbl&gt;</th><th scope=col>&lt;dbl&gt;</th><th scope=col>&lt;dbl&gt;</th><th scope=col>⋯</th><th scope=col>&lt;dbl&gt;</th><th scope=col>&lt;dbl&gt;</th><th scope=col>&lt;dbl&gt;</th><th scope=col>&lt;dbl&gt;</th><th scope=col>&lt;dbl&gt;</th><th scope=col>&lt;dbl&gt;</th><th scope=col>&lt;dbl&gt;</th><th scope=col>&lt;dbl&gt;</th><th scope=col>&lt;dbl&gt;</th><th scope=col>&lt;dbl&gt;</th></tr>\n",
       "</thead>\n",
       "<tbody>\n",
       "\t<tr><th scope=row>1</th><td>african     </td><td>0.1565</td><td>0</td><td>0.0000</td><td>0.0000</td><td>0.0348</td><td>0e+00</td><td>0.0696</td><td>0e+00</td><td>0</td><td>⋯</td><td>0.0000</td><td>0.0087</td><td>0.0435</td><td>0.0087</td><td>0.0174</td><td>0e+00</td><td>0.0087</td><td>0.0174</td><td>0.0000</td><td>0.0348</td></tr>\n",
       "\t<tr><th scope=row>2</th><td>american    </td><td>0.0406</td><td>0</td><td>0.0030</td><td>0.0006</td><td>0.0521</td><td>6e-04</td><td>0.0113</td><td>1e-04</td><td>0</td><td>⋯</td><td>0.0030</td><td>0.0069</td><td>0.0308</td><td>0.0148</td><td>0.0110</td><td>7e-04</td><td>0.0014</td><td>0.0682</td><td>0.0169</td><td>0.0186</td></tr>\n",
       "\t<tr><th scope=row>3</th><td>asian       </td><td>0.0075</td><td>0</td><td>0.0008</td><td>0.0025</td><td>0.0126</td><td>0e+00</td><td>0.0050</td><td>0e+00</td><td>0</td><td>⋯</td><td>0.0008</td><td>0.0017</td><td>0.0386</td><td>0.0017</td><td>0.1249</td><td>0e+00</td><td>0.0017</td><td>0.0042</td><td>0.0109</td><td>0.0117</td></tr>\n",
       "\t<tr><th scope=row>4</th><td>cajun_creole</td><td>0.0000</td><td>0</td><td>0.0000</td><td>0.0000</td><td>0.0068</td><td>0e+00</td><td>0.0000</td><td>0e+00</td><td>0</td><td>⋯</td><td>0.0000</td><td>0.0068</td><td>0.0822</td><td>0.0000</td><td>0.1918</td><td>0e+00</td><td>0.0068</td><td>0.0342</td><td>0.0068</td><td>0.0000</td></tr>\n",
       "\t<tr><th scope=row>5</th><td>canadian    </td><td>0.0362</td><td>0</td><td>0.0000</td><td>0.0000</td><td>0.0362</td><td>0e+00</td><td>0.0026</td><td>0e+00</td><td>0</td><td>⋯</td><td>0.0026</td><td>0.0039</td><td>0.0297</td><td>0.0207</td><td>0.0039</td><td>0e+00</td><td>0.0013</td><td>0.0672</td><td>0.0194</td><td>0.0116</td></tr>\n",
       "\t<tr><th scope=row>6</th><td>caribbean   </td><td>0.0164</td><td>0</td><td>0.0109</td><td>0.0000</td><td>0.0109</td><td>0e+00</td><td>0.0000</td><td>0e+00</td><td>0</td><td>⋯</td><td>0.0000</td><td>0.0000</td><td>0.0601</td><td>0.0055</td><td>0.0000</td><td>0e+00</td><td>0.0000</td><td>0.0273</td><td>0.0109</td><td>0.0164</td></tr>\n",
       "</tbody>\n",
       "</table>\n"
      ],
      "text/latex": [
       "A data.frame: 6 × 384\n",
       "\\begin{tabular}{r|lllllllllllllllllllll}\n",
       "  & cuisine & almond & angelica & anise & anise\\_seed & apple & apple\\_brandy & apricot & armagnac & artemisia & ⋯ & whiskey & white\\_bread & white\\_wine & whole\\_grain\\_wheat\\_flour & wine & wood & yam & yeast & yogurt & zucchini\\\\\n",
       "  & <fct> & <dbl> & <dbl> & <dbl> & <dbl> & <dbl> & <dbl> & <dbl> & <dbl> & <dbl> & ⋯ & <dbl> & <dbl> & <dbl> & <dbl> & <dbl> & <dbl> & <dbl> & <dbl> & <dbl> & <dbl>\\\\\n",
       "\\hline\n",
       "\t1 & african      & 0.1565 & 0 & 0.0000 & 0.0000 & 0.0348 & 0e+00 & 0.0696 & 0e+00 & 0 & ⋯ & 0.0000 & 0.0087 & 0.0435 & 0.0087 & 0.0174 & 0e+00 & 0.0087 & 0.0174 & 0.0000 & 0.0348\\\\\n",
       "\t2 & american     & 0.0406 & 0 & 0.0030 & 0.0006 & 0.0521 & 6e-04 & 0.0113 & 1e-04 & 0 & ⋯ & 0.0030 & 0.0069 & 0.0308 & 0.0148 & 0.0110 & 7e-04 & 0.0014 & 0.0682 & 0.0169 & 0.0186\\\\\n",
       "\t3 & asian        & 0.0075 & 0 & 0.0008 & 0.0025 & 0.0126 & 0e+00 & 0.0050 & 0e+00 & 0 & ⋯ & 0.0008 & 0.0017 & 0.0386 & 0.0017 & 0.1249 & 0e+00 & 0.0017 & 0.0042 & 0.0109 & 0.0117\\\\\n",
       "\t4 & cajun\\_creole & 0.0000 & 0 & 0.0000 & 0.0000 & 0.0068 & 0e+00 & 0.0000 & 0e+00 & 0 & ⋯ & 0.0000 & 0.0068 & 0.0822 & 0.0000 & 0.1918 & 0e+00 & 0.0068 & 0.0342 & 0.0068 & 0.0000\\\\\n",
       "\t5 & canadian     & 0.0362 & 0 & 0.0000 & 0.0000 & 0.0362 & 0e+00 & 0.0026 & 0e+00 & 0 & ⋯ & 0.0026 & 0.0039 & 0.0297 & 0.0207 & 0.0039 & 0e+00 & 0.0013 & 0.0672 & 0.0194 & 0.0116\\\\\n",
       "\t6 & caribbean    & 0.0164 & 0 & 0.0109 & 0.0000 & 0.0109 & 0e+00 & 0.0000 & 0e+00 & 0 & ⋯ & 0.0000 & 0.0000 & 0.0601 & 0.0055 & 0.0000 & 0e+00 & 0.0000 & 0.0273 & 0.0109 & 0.0164\\\\\n",
       "\\end{tabular}\n"
      ],
      "text/markdown": [
       "\n",
       "A data.frame: 6 × 384\n",
       "\n",
       "| <!--/--> | cuisine &lt;fct&gt; | almond &lt;dbl&gt; | angelica &lt;dbl&gt; | anise &lt;dbl&gt; | anise_seed &lt;dbl&gt; | apple &lt;dbl&gt; | apple_brandy &lt;dbl&gt; | apricot &lt;dbl&gt; | armagnac &lt;dbl&gt; | artemisia &lt;dbl&gt; | ⋯ ⋯ | whiskey &lt;dbl&gt; | white_bread &lt;dbl&gt; | white_wine &lt;dbl&gt; | whole_grain_wheat_flour &lt;dbl&gt; | wine &lt;dbl&gt; | wood &lt;dbl&gt; | yam &lt;dbl&gt; | yeast &lt;dbl&gt; | yogurt &lt;dbl&gt; | zucchini &lt;dbl&gt; |\n",
       "|---|---|---|---|---|---|---|---|---|---|---|---|---|---|---|---|---|---|---|---|---|---|\n",
       "| 1 | african      | 0.1565 | 0 | 0.0000 | 0.0000 | 0.0348 | 0e+00 | 0.0696 | 0e+00 | 0 | ⋯ | 0.0000 | 0.0087 | 0.0435 | 0.0087 | 0.0174 | 0e+00 | 0.0087 | 0.0174 | 0.0000 | 0.0348 |\n",
       "| 2 | american     | 0.0406 | 0 | 0.0030 | 0.0006 | 0.0521 | 6e-04 | 0.0113 | 1e-04 | 0 | ⋯ | 0.0030 | 0.0069 | 0.0308 | 0.0148 | 0.0110 | 7e-04 | 0.0014 | 0.0682 | 0.0169 | 0.0186 |\n",
       "| 3 | asian        | 0.0075 | 0 | 0.0008 | 0.0025 | 0.0126 | 0e+00 | 0.0050 | 0e+00 | 0 | ⋯ | 0.0008 | 0.0017 | 0.0386 | 0.0017 | 0.1249 | 0e+00 | 0.0017 | 0.0042 | 0.0109 | 0.0117 |\n",
       "| 4 | cajun_creole | 0.0000 | 0 | 0.0000 | 0.0000 | 0.0068 | 0e+00 | 0.0000 | 0e+00 | 0 | ⋯ | 0.0000 | 0.0068 | 0.0822 | 0.0000 | 0.1918 | 0e+00 | 0.0068 | 0.0342 | 0.0068 | 0.0000 |\n",
       "| 5 | canadian     | 0.0362 | 0 | 0.0000 | 0.0000 | 0.0362 | 0e+00 | 0.0026 | 0e+00 | 0 | ⋯ | 0.0026 | 0.0039 | 0.0297 | 0.0207 | 0.0039 | 0e+00 | 0.0013 | 0.0672 | 0.0194 | 0.0116 |\n",
       "| 6 | caribbean    | 0.0164 | 0 | 0.0109 | 0.0000 | 0.0109 | 0e+00 | 0.0000 | 0e+00 | 0 | ⋯ | 0.0000 | 0.0000 | 0.0601 | 0.0055 | 0.0000 | 0e+00 | 0.0000 | 0.0273 | 0.0109 | 0.0164 |\n",
       "\n"
      ],
      "text/plain": [
       "  cuisine      almond angelica anise  anise_seed apple  apple_brandy apricot\n",
       "1 african      0.1565 0        0.0000 0.0000     0.0348 0e+00        0.0696 \n",
       "2 american     0.0406 0        0.0030 0.0006     0.0521 6e-04        0.0113 \n",
       "3 asian        0.0075 0        0.0008 0.0025     0.0126 0e+00        0.0050 \n",
       "4 cajun_creole 0.0000 0        0.0000 0.0000     0.0068 0e+00        0.0000 \n",
       "5 canadian     0.0362 0        0.0000 0.0000     0.0362 0e+00        0.0026 \n",
       "6 caribbean    0.0164 0        0.0109 0.0000     0.0109 0e+00        0.0000 \n",
       "  armagnac artemisia ⋯ whiskey white_bread white_wine whole_grain_wheat_flour\n",
       "1 0e+00    0         ⋯ 0.0000  0.0087      0.0435     0.0087                 \n",
       "2 1e-04    0         ⋯ 0.0030  0.0069      0.0308     0.0148                 \n",
       "3 0e+00    0         ⋯ 0.0008  0.0017      0.0386     0.0017                 \n",
       "4 0e+00    0         ⋯ 0.0000  0.0068      0.0822     0.0000                 \n",
       "5 0e+00    0         ⋯ 0.0026  0.0039      0.0297     0.0207                 \n",
       "6 0e+00    0         ⋯ 0.0000  0.0000      0.0601     0.0055                 \n",
       "  wine   wood  yam    yeast  yogurt zucchini\n",
       "1 0.0174 0e+00 0.0087 0.0174 0.0000 0.0348  \n",
       "2 0.0110 7e-04 0.0014 0.0682 0.0169 0.0186  \n",
       "3 0.1249 0e+00 0.0017 0.0042 0.0109 0.0117  \n",
       "4 0.1918 0e+00 0.0068 0.0342 0.0068 0.0000  \n",
       "5 0.0039 0e+00 0.0013 0.0672 0.0194 0.0116  \n",
       "6 0.0000 0e+00 0.0000 0.0273 0.0109 0.0164  "
      ]
     },
     "metadata": {},
     "output_type": "display_data"
    }
   ],
   "source": [
    "# create a dataframe of the counts of ingredients by cuisine, normalized by the number of \n",
    "# recipes pertaining to that cuisine\n",
    "by_cuisine_norm <- aggregate(recipes, \n",
    "                        by = list(recipes$cuisine), \n",
    "                        FUN = function(x) round(sum(as.integer(x) == 2)/\n",
    "                                                length(as.integer(x)),4))\n",
    "# remove the unnecessary column \"cuisine\"\n",
    "by_cuisine_norm <- by_cuisine_norm[,-2]\n",
    "\n",
    "# rename the first column into \"cuisine\"\n",
    "names(by_cuisine_norm)[1] <- \"cuisine\"\n",
    "                            \n",
    "head(by_cuisine_norm)"
   ]
  },
  {
   "cell_type": "markdown",
   "metadata": {
    "button": false,
    "deletable": true,
    "new_sheet": false,
    "run_control": {
     "read_only": false
    }
   },
   "source": [
    "As shown above, we have just created a dataframe where each row is a cuisine and each column (except for the first column) is an ingredient, and the row values represent the percentage of each ingredient in the corresponding cuisine.\n",
    "\n",
    "**For example**:\n",
    "\n",
    "* *almond* is present across 15.65% of all of the **African** recipes.\n",
    "* *butter* is present across 38.11% of all of the **Canadian** recipes."
   ]
  },
  {
   "cell_type": "markdown",
   "metadata": {
    "button": false,
    "deletable": true,
    "new_sheet": false,
    "run_control": {
     "read_only": false
    }
   },
   "source": [
    "Let's print out the profile for each cuisine by displaying the top four ingredients in each cuisine."
   ]
  },
  {
   "cell_type": "code",
   "execution_count": 20,
   "metadata": {
    "button": false,
    "collapsed": false,
    "deletable": true,
    "jupyter": {
     "outputs_hidden": false
    },
    "new_sheet": false,
    "run_control": {
     "read_only": false
    }
   },
   "outputs": [
    {
     "name": "stdout",
     "output_type": "stream",
     "text": [
      "AFRICAN\n",
      "onion (53%)  olive_oil (52%)  garlic (50%)  cumin (43%) \n",
      "\n",
      "AMERICAN\n",
      "butter (41%)  egg (41%)  wheat (40%)  onion (29%) \n",
      "\n",
      "ASIAN\n",
      "soy_sauce (50%)  ginger (49%)  garlic (48%)  rice (41%) \n",
      "\n",
      "CAJUN_CREOLE\n",
      "onion (70%)  cayenne (56%)  garlic (49%)  butter (36%) \n",
      "\n",
      "CANADIAN\n",
      "wheat (40%)  butter (38%)  egg (35%)  onion (34%) \n",
      "\n",
      "CARIBBEAN\n",
      "onion (51%)  garlic (51%)  black_pepper (31%)  vegetable_oil (31%) \n",
      "\n",
      "CENTRAL_SOUTHAMERICAN\n",
      "garlic (57%)  onion (54%)  cayenne (52%)  tomato (41%) \n",
      "\n",
      "CHINESE\n",
      "soy_sauce (69%)  ginger (53%)  garlic (53%)  scallion (48%) \n",
      "\n",
      "EAST_ASIAN\n",
      "garlic (55%)  soy_sauce (50%)  scallion (50%)  cayenne (48%) \n",
      "\n",
      "EASTERN-EUROPE\n",
      "wheat (53%)  egg (52%)  butter (48%)  onion (45%) \n",
      "\n",
      "EASTERNEUROPEAN_RUSSIAN\n",
      "butter (60%)  egg (51%)  wheat (49%)  onion (38%) \n",
      "\n",
      "ENGLISH_SCOTTISH\n",
      "butter (67%)  wheat (62%)  egg (53%)  cream (41%) \n",
      "\n",
      "FRENCH\n",
      "butter (50%)  egg (44%)  wheat (37%)  olive_oil (28%) \n",
      "\n",
      "GERMAN\n",
      "wheat (65%)  egg (61%)  butter (47%)  onion (35%) \n",
      "\n",
      "GREEK\n",
      "olive_oil (76%)  garlic (44%)  onion (36%)  lemon_juice (34%) \n",
      "\n",
      "INDIAN\n",
      "cumin (60%)  turmeric (51%)  onion (50%)  coriander (48%) \n",
      "\n",
      "ITALIAN\n",
      "olive_oil (61%)  garlic (53%)  tomato (39%)  onion (33%) \n",
      "\n",
      "JAPANESE\n",
      "soy_sauce (57%)  rice (44%)  vinegar (37%)  vegetable_oil (35%) \n",
      "\n",
      "JEWISH\n",
      "egg (59%)  wheat (49%)  butter (31%)  onion (30%) \n",
      "\n",
      "KOREAN\n",
      "garlic (59%)  scallion (52%)  cayenne (52%)  soy_sauce (49%) \n",
      "\n",
      "MEDITERRANEAN\n",
      "olive_oil (80%)  garlic (51%)  onion (39%)  tomato (35%) \n",
      "\n",
      "MEXICAN\n",
      "cayenne (74%)  onion (68%)  garlic (62%)  tomato (59%) \n",
      "\n",
      "MIDDLEEASTERN\n",
      "olive_oil (60%)  garlic (47%)  wheat (38%)  lemon_juice (36%) \n",
      "\n",
      "MOROCCAN\n",
      "olive_oil (73%)  cumin (55%)  onion (50%)  garlic (46%) \n",
      "\n",
      "NORTH-AFRICAN\n",
      "onion (55%)  olive_oil (50%)  cumin (48%)  garlic (47%) \n",
      "\n",
      "SCANDINAVIAN\n",
      "butter (64%)  wheat (58%)  egg (53%)  cream (29%) \n",
      "\n",
      "SOUTH-AMERICA\n",
      "onion (43%)  garlic (37%)  egg (35%)  milk (31%) \n",
      "\n",
      "SOUTHERN_SOULFOOD\n",
      "butter (58%)  wheat (49%)  egg (42%)  corn (30%) \n",
      "\n",
      "SOUTHWESTERN\n",
      "cayenne (81%)  garlic (62%)  onion (61%)  cilantro (52%) \n",
      "\n",
      "SPANISH_PORTUGUESE\n",
      "olive_oil (58%)  garlic (54%)  onion (47%)  bell_pepper (35%) \n",
      "\n",
      "THAI\n",
      "garlic (60%)  fish (53%)  cayenne (47%)  cilantro (42%) \n",
      "\n",
      "UK-AND-IRISH\n",
      "butter (60%)  wheat (58%)  egg (48%)  milk (33%) \n",
      "\n",
      "VIETNAMESE\n",
      "fish (74%)  garlic (73%)  rice (49%)  cayenne (43%) \n",
      "\n",
      "WESTERN\n",
      "egg (51%)  wheat (46%)  butter (46%)  black_pepper (36%) \n",
      "\n"
     ]
    }
   ],
   "source": [
    "for(nation in by_cuisine_norm$cuisine){\n",
    "    x <- sort(by_cuisine_norm[by_cuisine_norm$cuisine == nation,][-1], decreasing = TRUE)\n",
    "    cat(c(toupper(nation)))\n",
    "    cat(\"\\n\")\n",
    "    cat(paste0(names(x)[1:4], \" (\", round(x[1:4]*100,0), \"%) \"))\n",
    "    cat(\"\\n\")\n",
    "    cat(\"\\n\")\n",
    "}"
   ]
  },
  {
   "cell_type": "markdown",
   "metadata": {
    "button": false,
    "deletable": true,
    "new_sheet": false,
    "run_control": {
     "read_only": false
    }
   },
   "source": [
    "At this point, we feel that we have understood the data well and the data is ready and is in the right format for modeling!\n",
    "\n",
    "-----------"
   ]
  },
  {
   "cell_type": "markdown",
   "metadata": {
    "button": false,
    "deletable": true,
    "editable": true,
    "new_sheet": false,
    "run_control": {
     "read_only": false
    }
   },
   "source": [
    "### Thank you for completing this lab!\n",
    "\n",
    "This notebook was created by [Polong Lin](https://ca.linkedin.com/in/polonglin) and revised by [Alex Aklson](https://www.linkedin.com/in/aklson/). We hope you found this lab session interesting. Feel free to contact us if you have any questions!"
   ]
  },
  {
   "cell_type": "markdown",
   "metadata": {
    "button": false,
    "deletable": true,
    "editable": true,
    "new_sheet": false,
    "run_control": {
     "read_only": false
    }
   },
   "source": [
    "This notebook is part of the free course on **Cognitive Class** called *Data Science Methodology*. If you accessed this notebook outside the course, you can take this free self-paced course, online by clicking [here](http://cocl.us/DS0103EN_LAB3_R)."
   ]
  },
  {
   "cell_type": "markdown",
   "metadata": {
    "button": false,
    "deletable": true,
    "editable": true,
    "new_sheet": false,
    "run_control": {
     "read_only": false
    }
   },
   "source": [
    "<hr>\n",
    "\n",
    "Copyright &copy; 2019 [Cognitive Class](https://cognitiveclass.ai/?utm_source=bducopyrightlink&utm_medium=dswb&utm_campaign=bdu). This notebook and its source code are released under the terms of the [MIT License](https://bigdatauniversity.com/mit-license/)."
   ]
  }
 ],
 "metadata": {
  "kernelspec": {
   "display_name": "R",
   "language": "R",
   "name": "conda-env-r-r"
  },
  "language_info": {
   "codemirror_mode": "r",
   "file_extension": ".r",
   "mimetype": "text/x-r-source",
   "name": "R",
   "pygments_lexer": "r",
   "version": "3.5.1"
  },
  "widgets": {
   "state": {},
   "version": "1.1.2"
  }
 },
 "nbformat": 4,
 "nbformat_minor": 4
}
